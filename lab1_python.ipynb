{
 "cells": [
  {
   "cell_type": "markdown",
   "metadata": {},
   "source": [
    "# Tips for keys in Jupyter\n",
    "## In command mode (blue colored cell)\n",
    " - Shift-Enter : execute and go to the next cell\n",
    " - Ctl-Enter : execute and stay\n",
    " - Alt-Enter : execute and create a new cell\n",
    " - a/b : create a new cell in above/below\n",
    " - x: delete cell\n",
    " - shift-m : merge two cells\n",
    "\n",
    "\n",
    "## In edit mode (green colored cell)\n",
    "- ctl-shift-\"-\" : separate cell"
   ]
  },
  {
   "cell_type": "markdown",
   "metadata": {},
   "source": [
    "## Basic Variables\n",
    "- int\n",
    "- float\n",
    "- boolean"
   ]
  },
  {
   "cell_type": "code",
   "execution_count": 39,
   "metadata": {},
   "outputs": [],
   "source": [
    "a = 100\n",
    "b = 3.7\n",
    "c = True\n",
    "d = a + b"
   ]
  },
  {
   "cell_type": "code",
   "execution_count": 40,
   "metadata": {},
   "outputs": [
    {
     "data": {
      "text/plain": [
       "(100, 3.7, True, 103.7)"
      ]
     },
     "execution_count": 40,
     "metadata": {},
     "output_type": "execute_result"
    }
   ],
   "source": [
    "a, b, c, d"
   ]
  },
  {
   "cell_type": "code",
   "execution_count": 43,
   "metadata": {},
   "outputs": [
    {
     "data": {
      "text/plain": [
       "(int, float, bool, float)"
      ]
     },
     "execution_count": 43,
     "metadata": {},
     "output_type": "execute_result"
    }
   ],
   "source": [
    "type(a), type(b), type(c), type(d)"
   ]
  },
  {
   "cell_type": "code",
   "execution_count": 42,
   "metadata": {},
   "outputs": [
    {
     "data": {
      "text/plain": [
       "102"
      ]
     },
     "execution_count": 42,
     "metadata": {},
     "output_type": "execute_result"
    }
   ],
   "source": [
    "a + c + True + False       # True = 1, False = 0"
   ]
  },
  {
   "cell_type": "markdown",
   "metadata": {},
   "source": [
    "## Container Variables\n",
    "- string (str)\n",
    "- list\n",
    "- tuple\n",
    "- dictionary (dict)"
   ]
  },
  {
   "cell_type": "code",
   "execution_count": 50,
   "metadata": {},
   "outputs": [],
   "source": [
    "s = \"heLLo\""
   ]
  },
  {
   "cell_type": "code",
   "execution_count": 51,
   "metadata": {},
   "outputs": [
    {
     "data": {
      "text/plain": [
       "('heLLo', str)"
      ]
     },
     "execution_count": 51,
     "metadata": {},
     "output_type": "execute_result"
    }
   ],
   "source": [
    "s, type(s)"
   ]
  },
  {
   "cell_type": "code",
   "execution_count": 52,
   "metadata": {},
   "outputs": [],
   "source": [
    "# dir(s)"
   ]
  },
  {
   "cell_type": "code",
   "execution_count": 59,
   "metadata": {},
   "outputs": [
    {
     "data": {
      "text/plain": [
       "('Hello', True, False, False, False, False)"
      ]
     },
     "execution_count": 59,
     "metadata": {},
     "output_type": "execute_result"
    }
   ],
   "source": [
    "s.capitalize(), s.isalpha(), s.isdigit(), s.isupper(), s.islower(), s.isspace()"
   ]
  },
  {
   "cell_type": "code",
   "execution_count": 62,
   "metadata": {},
   "outputs": [
    {
     "data": {
      "text/plain": [
       "'Too many spaces.'"
      ]
     },
     "execution_count": 62,
     "metadata": {},
     "output_type": "execute_result"
    }
   ],
   "source": [
    "\"   Too many spaces.       \".strip()"
   ]
  },
  {
   "cell_type": "code",
   "execution_count": 63,
   "metadata": {},
   "outputs": [
    {
     "data": {
      "text/plain": [
       "'HeLLO'"
      ]
     },
     "execution_count": 63,
     "metadata": {},
     "output_type": "execute_result"
    }
   ],
   "source": [
    "\"HELLO\".replace(\"E\",\"e\")"
   ]
  },
  {
   "cell_type": "code",
   "execution_count": 64,
   "metadata": {},
   "outputs": [
    {
     "data": {
      "text/plain": [
       "['I', 'am', 'home']"
      ]
     },
     "execution_count": 64,
     "metadata": {},
     "output_type": "execute_result"
    }
   ],
   "source": [
    "\"I am home\".split(' ')"
   ]
  },
  {
   "cell_type": "code",
   "execution_count": 65,
   "metadata": {},
   "outputs": [
    {
     "data": {
      "text/plain": [
       "'1:2:3'"
      ]
     },
     "execution_count": 65,
     "metadata": {},
     "output_type": "execute_result"
    }
   ],
   "source": [
    "\":\".join(['1','2','3'])"
   ]
  },
  {
   "cell_type": "code",
   "execution_count": 66,
   "metadata": {},
   "outputs": [],
   "source": [
    "s1 = \"hello\""
   ]
  },
  {
   "cell_type": "code",
   "execution_count": 71,
   "metadata": {},
   "outputs": [
    {
     "data": {
      "text/plain": [
       "('h', 'o')"
      ]
     },
     "execution_count": 71,
     "metadata": {},
     "output_type": "execute_result"
    }
   ],
   "source": [
    "s1[0], s1[-1]   # indexing"
   ]
  },
  {
   "cell_type": "code",
   "execution_count": 73,
   "metadata": {},
   "outputs": [
    {
     "data": {
      "text/plain": [
       "'hel'"
      ]
     },
     "execution_count": 73,
     "metadata": {},
     "output_type": "execute_result"
    }
   ],
   "source": [
    "s1[0:3]        # slicing (last item excluded)"
   ]
  },
  {
   "cell_type": "code",
   "execution_count": 77,
   "metadata": {},
   "outputs": [
    {
     "ename": "TypeError",
     "evalue": "'str' object does not support item assignment",
     "output_type": "error",
     "traceback": [
      "\u001b[1;31m---------------------------------------------------------------------------\u001b[0m",
      "\u001b[1;31mTypeError\u001b[0m                                 Traceback (most recent call last)",
      "\u001b[1;32m<ipython-input-77-336d7de443b4>\u001b[0m in \u001b[0;36m<module>\u001b[1;34m\u001b[0m\n\u001b[1;32m----> 1\u001b[1;33m \u001b[0ms1\u001b[0m\u001b[1;33m[\u001b[0m\u001b[1;36m0\u001b[0m\u001b[1;33m]\u001b[0m \u001b[1;33m=\u001b[0m \u001b[1;34m\"H\"\u001b[0m    \u001b[1;31m# error (immutable or unchangable)\u001b[0m\u001b[1;33m\u001b[0m\u001b[1;33m\u001b[0m\u001b[0m\n\u001b[0m",
      "\u001b[1;31mTypeError\u001b[0m: 'str' object does not support item assignment"
     ]
    }
   ],
   "source": [
    "s1[0] = \"H\"    # error (immutable or unchangable)"
   ]
  },
  {
   "cell_type": "code",
   "execution_count": 79,
   "metadata": {},
   "outputs": [],
   "source": [
    "list_1 = [1,2,3,4]\n",
    "tuple_1 = (1,2,3,4)\n",
    "dict_1 = {\"last\": \" Hong\", \"first\": \"Gil-Dong\"}"
   ]
  },
  {
   "cell_type": "code",
   "execution_count": 82,
   "metadata": {},
   "outputs": [
    {
     "data": {
      "text/plain": [
       "([1, 2, 3, 4],\n",
       " (1, 2, 3, 4),\n",
       " {'last': ' Hong', 'first': 'Gil-Dong'},\n",
       " list,\n",
       " tuple,\n",
       " dict)"
      ]
     },
     "execution_count": 82,
     "metadata": {},
     "output_type": "execute_result"
    }
   ],
   "source": [
    "list_1, tuple_1, dict_1, type(list_1), type(tuple_1), type(dict_1)"
   ]
  },
  {
   "cell_type": "code",
   "execution_count": 83,
   "metadata": {},
   "outputs": [
    {
     "data": {
      "text/plain": [
       "(1, 1, ' Hong')"
      ]
     },
     "execution_count": 83,
     "metadata": {},
     "output_type": "execute_result"
    }
   ],
   "source": [
    "list_1[0], tuple_1[0], dict_1[\"last\"]"
   ]
  },
  {
   "cell_type": "code",
   "execution_count": 84,
   "metadata": {},
   "outputs": [
    {
     "data": {
      "text/plain": [
       "[100, 2, 3, 4]"
      ]
     },
     "execution_count": 84,
     "metadata": {},
     "output_type": "execute_result"
    }
   ],
   "source": [
    "list_1[0] = 100     # mutable\n",
    "list_1"
   ]
  },
  {
   "cell_type": "code",
   "execution_count": 85,
   "metadata": {
    "scrolled": true
   },
   "outputs": [
    {
     "ename": "TypeError",
     "evalue": "'tuple' object does not support item assignment",
     "output_type": "error",
     "traceback": [
      "\u001b[1;31m---------------------------------------------------------------------------\u001b[0m",
      "\u001b[1;31mTypeError\u001b[0m                                 Traceback (most recent call last)",
      "\u001b[1;32m<ipython-input-85-507a829ea41f>\u001b[0m in \u001b[0;36m<module>\u001b[1;34m\u001b[0m\n\u001b[1;32m----> 1\u001b[1;33m \u001b[0mtuple_1\u001b[0m\u001b[1;33m[\u001b[0m\u001b[1;36m0\u001b[0m\u001b[1;33m]\u001b[0m \u001b[1;33m=\u001b[0m \u001b[1;36m100\u001b[0m\u001b[1;33m\u001b[0m\u001b[1;33m\u001b[0m\u001b[0m\n\u001b[0m\u001b[0;32m      2\u001b[0m \u001b[0mtuple_1\u001b[0m\u001b[1;33m\u001b[0m\u001b[1;33m\u001b[0m\u001b[0m\n",
      "\u001b[1;31mTypeError\u001b[0m: 'tuple' object does not support item assignment"
     ]
    }
   ],
   "source": [
    "tuple_1[0] = 100     # error (immutable)\n",
    "tuple_1"
   ]
  },
  {
   "cell_type": "code",
   "execution_count": 87,
   "metadata": {},
   "outputs": [
    {
     "data": {
      "text/plain": [
       "{'last': 'Lim', 'first': 'Gil-Dong'}"
      ]
     },
     "execution_count": 87,
     "metadata": {},
     "output_type": "execute_result"
    }
   ],
   "source": [
    "dict_1[\"last\"] = \"Lim\"     # mutable\n",
    "dict_1"
   ]
  },
  {
   "cell_type": "code",
   "execution_count": 88,
   "metadata": {},
   "outputs": [
    {
     "data": {
      "text/plain": [
       "[3, 4, 5]"
      ]
     },
     "execution_count": 88,
     "metadata": {},
     "output_type": "execute_result"
    }
   ],
   "source": [
    "list_2 = [3,4,5] ; list_2"
   ]
  },
  {
   "cell_type": "code",
   "execution_count": 89,
   "metadata": {},
   "outputs": [
    {
     "data": {
      "text/plain": [
       "[3, 4, 5, 3, 4, 5]"
      ]
     },
     "execution_count": 89,
     "metadata": {},
     "output_type": "execute_result"
    }
   ],
   "source": [
    "list_2 * 2"
   ]
  },
  {
   "cell_type": "code",
   "execution_count": 91,
   "metadata": {},
   "outputs": [
    {
     "data": {
      "text/plain": [
       "[100, 2, 3, 4, 3, 4, 5]"
      ]
     },
     "execution_count": 91,
     "metadata": {},
     "output_type": "execute_result"
    }
   ],
   "source": [
    "list_1 + list_2"
   ]
  },
  {
   "cell_type": "code",
   "execution_count": 93,
   "metadata": {},
   "outputs": [
    {
     "data": {
      "text/plain": [
       "(5, 4)"
      ]
     },
     "execution_count": 93,
     "metadata": {},
     "output_type": "execute_result"
    }
   ],
   "source": [
    "len(s1), len(list_1)"
   ]
  },
  {
   "cell_type": "code",
   "execution_count": 94,
   "metadata": {},
   "outputs": [
    {
     "data": {
      "text/plain": [
       "[3, 4, 5]"
      ]
     },
     "execution_count": 94,
     "metadata": {},
     "output_type": "execute_result"
    }
   ],
   "source": [
    "list_2"
   ]
  },
  {
   "cell_type": "code",
   "execution_count": 95,
   "metadata": {},
   "outputs": [
    {
     "data": {
      "text/plain": [
       "[3, 4, 5, 77]"
      ]
     },
     "execution_count": 95,
     "metadata": {},
     "output_type": "execute_result"
    }
   ],
   "source": [
    "list_2.append(77)\n",
    "list_2"
   ]
  },
  {
   "cell_type": "code",
   "execution_count": 96,
   "metadata": {},
   "outputs": [
    {
     "data": {
      "text/plain": [
       "[3, 4, 5]"
      ]
     },
     "execution_count": 96,
     "metadata": {},
     "output_type": "execute_result"
    }
   ],
   "source": [
    "list_2.pop()\n",
    "list_2"
   ]
  },
  {
   "cell_type": "code",
   "execution_count": 97,
   "metadata": {},
   "outputs": [
    {
     "data": {
      "text/plain": [
       "{'last': 'Lim', 'first': 'Gil-Dong'}"
      ]
     },
     "execution_count": 97,
     "metadata": {},
     "output_type": "execute_result"
    }
   ],
   "source": [
    "dict_1"
   ]
  },
  {
   "cell_type": "code",
   "execution_count": 98,
   "metadata": {},
   "outputs": [
    {
     "data": {
      "text/plain": [
       "dict_keys(['last', 'first'])"
      ]
     },
     "execution_count": 98,
     "metadata": {},
     "output_type": "execute_result"
    }
   ],
   "source": [
    "dict_1.keys()"
   ]
  },
  {
   "cell_type": "code",
   "execution_count": 99,
   "metadata": {},
   "outputs": [
    {
     "data": {
      "text/plain": [
       "dict_values(['Lim', 'Gil-Dong'])"
      ]
     },
     "execution_count": 99,
     "metadata": {},
     "output_type": "execute_result"
    }
   ],
   "source": [
    "dict_1.values()"
   ]
  },
  {
   "cell_type": "code",
   "execution_count": 101,
   "metadata": {},
   "outputs": [
    {
     "data": {
      "text/plain": [
       "dict_items([('last', 'Lim'), ('first', 'Gil-Dong')])"
      ]
     },
     "execution_count": 101,
     "metadata": {},
     "output_type": "execute_result"
    }
   ],
   "source": [
    "dict_1.items()"
   ]
  },
  {
   "cell_type": "code",
   "execution_count": null,
   "metadata": {},
   "outputs": [],
   "source": [
    "# very useful type"
   ]
  },
  {
   "cell_type": "code",
   "execution_count": 103,
   "metadata": {},
   "outputs": [
    {
     "data": {
      "text/plain": [
       "range(0, 5)"
      ]
     },
     "execution_count": 103,
     "metadata": {},
     "output_type": "execute_result"
    }
   ],
   "source": [
    "A = range(5); A"
   ]
  },
  {
   "cell_type": "code",
   "execution_count": 104,
   "metadata": {},
   "outputs": [
    {
     "data": {
      "text/plain": [
       "[0, 1, 2, 3, 4]"
      ]
     },
     "execution_count": 104,
     "metadata": {},
     "output_type": "execute_result"
    }
   ],
   "source": [
    "[x for x in A]"
   ]
  },
  {
   "cell_type": "code",
   "execution_count": 106,
   "metadata": {},
   "outputs": [],
   "source": [
    "x1 = range(1, 20, 5)   # start, end (excluded), stide"
   ]
  },
  {
   "cell_type": "code",
   "execution_count": 109,
   "metadata": {},
   "outputs": [
    {
     "name": "stdout",
     "output_type": "stream",
     "text": [
      "10\n",
      "60\n",
      "110\n",
      "160\n"
     ]
    }
   ],
   "source": [
    "for i in x1:\n",
    "    print(i * 10)\n",
    "    "
   ]
  },
  {
   "cell_type": "code",
   "execution_count": 110,
   "metadata": {},
   "outputs": [
    {
     "data": {
      "text/plain": [
       "[10, 60, 110, 160]"
      ]
     },
     "execution_count": 110,
     "metadata": {},
     "output_type": "execute_result"
    }
   ],
   "source": [
    "[i * 10 for i in x1]"
   ]
  },
  {
   "cell_type": "code",
   "execution_count": 111,
   "metadata": {},
   "outputs": [
    {
     "name": "stdout",
     "output_type": "stream",
     "text": [
      "x is between 3 and 10.\n"
     ]
    }
   ],
   "source": [
    "x = 7\n",
    "if x > 10:\n",
    "    print(\"x is greater than 10.\")\n",
    "elif x > 3:\n",
    "    print (\"x is between 3 and 10.\")\n",
    "else:\n",
    "    print (\"x is lower than or equal to 3.\")"
   ]
  },
  {
   "cell_type": "markdown",
   "metadata": {},
   "source": [
    "## Graph plotting"
   ]
  },
  {
   "cell_type": "code",
   "execution_count": 113,
   "metadata": {},
   "outputs": [],
   "source": [
    "import matplotlib.pyplot as plt\n",
    "%matplotlib inline\n",
    "import numpy as np"
   ]
  },
  {
   "cell_type": "code",
   "execution_count": 115,
   "metadata": {},
   "outputs": [
    {
     "data": {
      "text/plain": [
       "<matplotlib.collections.PathCollection at 0x21d54f8dfc8>"
      ]
     },
     "execution_count": 115,
     "metadata": {},
     "output_type": "execute_result"
    },
    {
     "data": {
      "image/png": "[encoded data removed]",
      "text/plain": [
       "<Figure size 432x288 with 1 Axes>"
      ]
     },
     "metadata": {
      "needs_background": "light"
     },
     "output_type": "display_data"
    }
   ],
   "source": [
    "x = range(100)\n",
    "y1 = np.random.rand(100)     # uniform dist (0,1)\n",
    "y2 = np.random.randn (100)   # gaussian (or normal) dist, mean=0, sigma=1\n",
    "plt.scatter(x, y1)\n",
    "plt.scatter(x, y2)"
   ]
  },
  {
   "cell_type": "code",
   "execution_count": 116,
   "metadata": {},
   "outputs": [],
   "source": [
    "# Function define"
   ]
  },
  {
   "cell_type": "code",
   "execution_count": 122,
   "metadata": {},
   "outputs": [
    {
     "data": {
      "text/plain": [
       "73"
      ]
     },
     "execution_count": 122,
     "metadata": {},
     "output_type": "execute_result"
    }
   ],
   "source": [
    "def my_func(a, b=100):    # default\n",
    "    return a*10 + b\n",
    "\n",
    "my_func(7, 3)"
   ]
  },
  {
   "cell_type": "code",
   "execution_count": 123,
   "metadata": {},
   "outputs": [
    {
     "data": {
      "text/plain": [
       "170"
      ]
     },
     "execution_count": 123,
     "metadata": {},
     "output_type": "execute_result"
    }
   ],
   "source": [
    "my_func(7)"
   ]
  },
  {
   "cell_type": "code",
   "execution_count": 124,
   "metadata": {},
   "outputs": [],
   "source": [
    "# Object (class)"
   ]
  },
  {
   "cell_type": "code",
   "execution_count": 136,
   "metadata": {},
   "outputs": [],
   "source": [
    "import sys\n",
    "class myClass:\n",
    "    \"\"\" This is an example class for Python.\"\"\"\n",
    "    def __init__(self):\n",
    "        self.data = ['1','2']\n",
    "        \n",
    "    i = 10\n",
    "    def j(self):\n",
    "        return \"Hello, world.\""
   ]
  },
  {
   "cell_type": "code",
   "execution_count": 137,
   "metadata": {},
   "outputs": [],
   "source": [
    "x = myClass()"
   ]
  },
  {
   "cell_type": "code",
   "execution_count": 138,
   "metadata": {},
   "outputs": [
    {
     "data": {
      "text/plain": [
       "['1', '2']"
      ]
     },
     "execution_count": 138,
     "metadata": {},
     "output_type": "execute_result"
    }
   ],
   "source": [
    "x.data"
   ]
  },
  {
   "cell_type": "code",
   "execution_count": 139,
   "metadata": {},
   "outputs": [
    {
     "data": {
      "text/plain": [
       "10"
      ]
     },
     "execution_count": 139,
     "metadata": {},
     "output_type": "execute_result"
    }
   ],
   "source": [
    "x.i"
   ]
  },
  {
   "cell_type": "code",
   "execution_count": 140,
   "metadata": {},
   "outputs": [
    {
     "data": {
      "text/plain": [
       "'Hello, world.'"
      ]
     },
     "execution_count": 140,
     "metadata": {},
     "output_type": "execute_result"
    }
   ],
   "source": [
    "x.j()"
   ]
  },
  {
   "cell_type": "code",
   "execution_count": 143,
   "metadata": {},
   "outputs": [
    {
     "data": {
      "text/plain": [
       "' This is an example class for Python.'"
      ]
     },
     "execution_count": 143,
     "metadata": {},
     "output_type": "execute_result"
    }
   ],
   "source": [
    "x.__doc__"
   ]
  },
  {
   "cell_type": "code",
   "execution_count": 141,
   "metadata": {},
   "outputs": [
    {
     "name": "stdout",
     "output_type": "stream",
     "text": [
      "Help on myClass in module __main__ object:\n",
      "\n",
      "class myClass(builtins.object)\n",
      " |  This is an example class for Python.\n",
      " |  \n",
      " |  Methods defined here:\n",
      " |  \n",
      " |  __init__(self)\n",
      " |      Initialize self.  See help(type(self)) for accurate signature.\n",
      " |  \n",
      " |  j(self)\n",
      " |  \n",
      " |  ----------------------------------------------------------------------\n",
      " |  Data descriptors defined here:\n",
      " |  \n",
      " |  __dict__\n",
      " |      dictionary for instance variables (if defined)\n",
      " |  \n",
      " |  __weakref__\n",
      " |      list of weak references to the object (if defined)\n",
      " |  \n",
      " |  ----------------------------------------------------------------------\n",
      " |  Data and other attributes defined here:\n",
      " |  \n",
      " |  i = 10\n",
      "\n"
     ]
    }
   ],
   "source": [
    "help(x)"
   ]
  },
  {
   "cell_type": "code",
   "execution_count": 142,
   "metadata": {},
   "outputs": [
    {
     "data": {
      "text/plain": [
       "['__class__',\n",
       " '__delattr__',\n",
       " '__dict__',\n",
       " '__dir__',\n",
       " '__doc__',\n",
       " '__eq__',\n",
       " '__format__',\n",
       " '__ge__',\n",
       " '__getattribute__',\n",
       " '__gt__',\n",
       " '__hash__',\n",
       " '__init__',\n",
       " '__init_subclass__',\n",
       " '__le__',\n",
       " '__lt__',\n",
       " '__module__',\n",
       " '__ne__',\n",
       " '__new__',\n",
       " '__reduce__',\n",
       " '__reduce_ex__',\n",
       " '__repr__',\n",
       " '__setattr__',\n",
       " '__sizeof__',\n",
       " '__str__',\n",
       " '__subclasshook__',\n",
       " '__weakref__',\n",
       " 'data',\n",
       " 'i',\n",
       " 'j']"
      ]
     },
     "execution_count": 142,
     "metadata": {},
     "output_type": "execute_result"
    }
   ],
   "source": [
    "dir(x)"
   ]
  },
  {
   "cell_type": "markdown",
   "metadata": {},
   "source": [
    "## coding example\n",
    "- Monte Carlo simulation"
   ]
  },
  {
   "cell_type": "code",
   "execution_count": 182,
   "metadata": {},
   "outputs": [
    {
     "name": "stdout",
     "output_type": "stream",
     "text": [
      "3.08\n"
     ]
    },
    {
     "data": {
      "text/plain": [
       "[<matplotlib.lines.Line2D at 0x21d55238c08>]"
      ]
     },
     "execution_count": 182,
     "metadata": {},
     "output_type": "execute_result"
    },
    {
     "data": {
      "image/png": "[encoded data removed]",
      "text/plain": [
       "<Figure size 288x288 with 1 Axes>"
      ]
     },
     "metadata": {
      "needs_background": "light"
     },
     "output_type": "display_data"
    }
   ],
   "source": [
    "# method 1\n",
    "\n",
    "import numpy as np\n",
    "\n",
    "N = 100\n",
    "x = np.random.rand(N)\n",
    "y = np.random.rand(N)\n",
    "\n",
    "cnt = 0\n",
    "for i in range(N):\n",
    "    if x[i]**2 + y[i]**2 < 1.0 :\n",
    "        cnt = cnt + 1\n",
    "    else:\n",
    "        continue\n",
    "\n",
    "pi = cnt / N * 4\n",
    "print (pi)\n",
    "\n",
    "import matplotlib.pyplot as plt\n",
    "%matplotlib inline\n",
    "\n",
    "plt.figure(figsize=(4,4))\n",
    "plt.scatter (x, y, s=2)\n",
    "\n",
    "a = np.linspace(0, 1, 100)\n",
    "b = (1 - a**2) ** 0.5\n",
    "plt.plot(a, b, c='r')"
   ]
  },
  {
   "cell_type": "code",
   "execution_count": 194,
   "metadata": {},
   "outputs": [],
   "source": [
    "N = 10\n",
    "x = np.random.rand(N).round(2)\n",
    "y = np.random.rand(N).round(2)"
   ]
  },
  {
   "cell_type": "code",
   "execution_count": 195,
   "metadata": {},
   "outputs": [
    {
     "data": {
      "text/plain": [
       "(array([0.18, 0.77, 0.29, 0.53, 0.21, 0.93, 0.47, 0.43, 0.39, 0.9 ]),\n",
       " array([0.29, 0.03, 0.04, 0.66, 0.31, 0.66, 0.62, 0.16, 0.34, 0.83]))"
      ]
     },
     "execution_count": 195,
     "metadata": {},
     "output_type": "execute_result"
    }
   ],
   "source": [
    "x, y"
   ]
  },
  {
   "cell_type": "code",
   "execution_count": 196,
   "metadata": {},
   "outputs": [
    {
     "data": {
      "text/plain": [
       "array([0.1165, 0.5938, 0.0857, 0.7165, 0.1402, 1.3005, 0.6053, 0.2105,\n",
       "       0.2677, 1.4989])"
      ]
     },
     "execution_count": 196,
     "metadata": {},
     "output_type": "execute_result"
    }
   ],
   "source": [
    "x**2 + y**2"
   ]
  },
  {
   "cell_type": "code",
   "execution_count": 197,
   "metadata": {},
   "outputs": [
    {
     "data": {
      "text/plain": [
       "array([ True,  True,  True,  True,  True, False,  True,  True,  True,\n",
       "       False])"
      ]
     },
     "execution_count": 197,
     "metadata": {},
     "output_type": "execute_result"
    }
   ],
   "source": [
    "x**2 + y**2 < 1.0"
   ]
  },
  {
   "cell_type": "code",
   "execution_count": 198,
   "metadata": {},
   "outputs": [
    {
     "data": {
      "text/plain": [
       "8"
      ]
     },
     "execution_count": 198,
     "metadata": {},
     "output_type": "execute_result"
    }
   ],
   "source": [
    "(x**2 + y**2 < 1.0).sum()"
   ]
  },
  {
   "cell_type": "code",
   "execution_count": 199,
   "metadata": {},
   "outputs": [
    {
     "name": "stdout",
     "output_type": "stream",
     "text": [
      "3.2\n"
     ]
    }
   ],
   "source": [
    "pi = (x**2 + y**2 < 1.0).sum() / N * 4\n",
    "print (pi)"
   ]
  },
  {
   "cell_type": "code",
   "execution_count": 201,
   "metadata": {},
   "outputs": [
    {
     "name": "stdout",
     "output_type": "stream",
     "text": [
      "3.14516\n"
     ]
    }
   ],
   "source": [
    "# method 2\n",
    "\n",
    "N = 100000\n",
    "x = np.random.rand(N).round(2)\n",
    "y = np.random.rand(N).round(2)\n",
    "\n",
    "pi = (x**2 + y**2 < 1.0).sum() / N * 4\n",
    "print(pi)"
   ]
  },
  {
   "cell_type": "markdown",
   "metadata": {},
   "source": [
    "# Example"
   ]
  },
  {
   "cell_type": "code",
   "execution_count": 202,
   "metadata": {},
   "outputs": [
    {
     "name": "stderr",
     "output_type": "stream",
     "text": [
      "  % Total    % Received % Xferd  Average Speed   Time    Time     Time  Current\n",
      "                                 Dload  Upload   Total   Spent    Left  Speed\n",
      "\n",
      "  0     0    0     0    0     0      0      0 --:--:-- --:--:-- --:--:--     0\n",
      "100 19816  100 19816    0     0  66720      0 --:--:-- --:--:-- --:--:-- 66720\n"
     ]
    }
   ],
   "source": [
    "!curl http://opentechschool.github.io/python-data-intro/files/radishsurvey.txt -o radishsurvey.txt"
   ]
  },
  {
   "cell_type": "code",
   "execution_count": 203,
   "metadata": {},
   "outputs": [
    {
     "name": "stdout",
     "output_type": "stream",
     "text": [
      " C 드라이브의 볼륨에는 이름이 없습니다.\n",
      " 볼륨 일련 번호: 1877-CC02\n",
      "\n",
      " C:\\Users\\rtaje\\Desktop\\WonKwang_DSAC_202105 디렉터리\n",
      "\n",
      "2021-05-08  오후 03:45    <DIR>          .\n",
      "2021-05-08  오후 03:45    <DIR>          ..\n",
      "2021-05-08  오후 01:25    <DIR>          .ipynb_checkpoints\n",
      "2021-05-08  오후 03:44            49,321 lab1_python.ipynb\n",
      "2021-05-08  오후 03:45            19,816 radishsurvey.txt\n",
      "               2개 파일              69,137 바이트\n",
      "               3개 디렉터리  136,811,229,184 바이트 남음\n"
     ]
    }
   ],
   "source": [
    "!dir"
   ]
  },
  {
   "cell_type": "code",
   "execution_count": 208,
   "metadata": {},
   "outputs": [
    {
     "name": "stdout",
     "output_type": "stream",
     "text": [
      "Luke Komine likes White Icicle.\n",
      "Bailey Derrington likes White Icicle.\n",
      "Tyler Forbes likes White Icicle.\n",
      "Gianfranco Cremonesi likes White Icicle.\n",
      "Tao Hsiao likes White Icicle.\n",
      "Emily Walters likes White Icicle.\n",
      "Thomas Oom likes White Icicle.\n",
      "Stephanie Schnaars likes White Icicle.\n",
      "Anna Denning likes White Icicle.\n",
      "Ruby Fox likes White Icicle.\n",
      "Ali Dedman likes White Icicle.\n",
      "Sarah Milford likes White Icicle.\n",
      "Hudson Dodgshun likes White Icicle.\n",
      "Lara Salting likes White Icicle.\n",
      "Amelie Farber likes White Icicle.\n",
      "Isabella Pardey likes White Icicle.\n",
      "Zhi Chin likes White Icicle.\n",
      "Caitlyn Mullah likes White Icicle.\n",
      "Taj Shackell likes White Icicle.\n",
      "Xin Qian Shih likes White Icicle.\n",
      "Abigail Clark likes White Icicle.\n",
      "Bianca Knopwood likes White Icicle.\n",
      "Mia Legg likes White Icicle.\n",
      "Lilian Macquarie likes White Icicle.\n",
      "Zachary Bass likes White Icicle.\n",
      "Hayley Coverdale likes White Icicle.\n",
      "David Moynihan likes White Icicle.\n",
      "Angus De Mestre likes White Icicle.\n",
      "Emily Plante likes White Icicle.\n",
      "Kiara Maxwell-Mahon likes White Icicle.\n",
      "Alex Falk likes White Icicle.\n",
      "George Carandini likes White Icicle.\n",
      "Makayla Fairbairn likes White Icicle.\n",
      "Yue Wan Yeh likes White Icicle.\n",
      "Timothy Beeton likes White Icicle.\n",
      "Blake Hurst likes White Icicle.\n",
      "Zhen Juan Tsai likes White Icicle.\n",
      "Christopher Moss likes White Icicle.\n",
      "Alicia Farmer likes White Icicle.\n",
      "Jasmine Baughan likes White Icicle.\n",
      "Dominic Nangle likes White Icicle.\n",
      "Yue Yan Hu likes White Icicle.\n",
      "Adele Buccho likes White Icicle.\n",
      "Archie Mathy likes White Icicle.\n",
      "Pia Folliero likes White Icicle.\n",
      "Koby Ledger likes White Icicle.\n",
      "Jasper Harper likes White Icicle.\n",
      "Patrick Tilly likes White Icicle.\n",
      "Isabelle Camden likes White Icicle.\n",
      "Amy Clunie likes White Icicle.\n",
      "Declan Winston likes White Icicle.\n",
      "James Luke likes White Icicle.\n",
      "Riley Stewart likes White Icicle.\n",
      "Rory Evenden likes White Icicle.\n",
      "Eleuterio Lombardo likes White Icicle.\n",
      "Yong Hsiao likes White Icicle.\n",
      "Toby Queale likes White Icicle.\n",
      "Jasper Alfred likes White Icicle.\n",
      "Durante Ferri likes White Icicle.\n"
     ]
    }
   ],
   "source": [
    "with open(\"radishsurvey.txt\") as file:\n",
    "    for line in file:\n",
    "        parts = line.strip()\n",
    "        name, vote = parts.split(\" - \")\n",
    "        # print (name + \" voted for \" + vote)\n",
    "        if vote == \"White Icicle\":\n",
    "            print (name + \" likes White Icicle.\")"
   ]
  },
  {
   "cell_type": "code",
   "execution_count": 209,
   "metadata": {},
   "outputs": [
    {
     "name": "stdout",
     "output_type": "stream",
     "text": [
      "number of votes for White Icicle:  59\n"
     ]
    }
   ],
   "source": [
    "cnt = 0\n",
    "with open(\"radishsurvey.txt\") as file:\n",
    "    for line in file:\n",
    "        parts = line.strip()\n",
    "        name, vote = parts.split(\" - \")\n",
    "        # print (name + \" voted for \" + vote)\n",
    "        if vote == \"White Icicle\":\n",
    "            cnt = cnt + 1\n",
    "\n",
    "print (\"number of votes for White Icicle: \", cnt)"
   ]
  },
  {
   "cell_type": "code",
   "execution_count": 210,
   "metadata": {},
   "outputs": [
    {
     "data": {
      "text/plain": [
       "{'April Cross': 67,\n",
       " 'Champion': 75,\n",
       " 'cherry belle': 2,\n",
       " 'Snow Belle': 58,\n",
       " 'Bunny Tail': 68,\n",
       " 'Sicily Giant': 52,\n",
       " 'Plum Purple': 53,\n",
       " 'Red King': 52,\n",
       " ' Daikon': 1,\n",
       " 'White Icicle': 59,\n",
       " 'Daikon': 58,\n",
       " 'French Breakfast': 65,\n",
       " 'Cherry Belle': 53,\n",
       " ' plum purple': 1,\n",
       " 'french breakfast': 7,\n",
       " ' Snow Belle': 2,\n",
       " ' Plum Purple': 1,\n",
       " 'daikon': 4,\n",
       " 'plum purple': 1,\n",
       " 'white icicle': 5,\n",
       " 'April cross': 1,\n",
       " 'bunny tail': 4,\n",
       " 'april cross': 4,\n",
       " 'champion': 1,\n",
       " 'sicily giant': 3,\n",
       " ' White Icicle': 1,\n",
       " 'red king': 3,\n",
       " 'Cherry  Belle': 1,\n",
       " ' Red King': 1,\n",
       " ' Sicily Giant': 1,\n",
       " 'Plum  Purple': 1,\n",
       " 'snow belle': 3,\n",
       " ' Cherry Belle': 2,\n",
       " 'Sicily  Giant': 1}"
      ]
     },
     "execution_count": 210,
     "metadata": {},
     "output_type": "execute_result"
    }
   ],
   "source": [
    "# 투표 결과 보기\n",
    "\n",
    "counts = {}\n",
    "with open(\"radishsurvey.txt\") as file:\n",
    "    for ilne in file:\n",
    "        parts = line.strip()\n",
    "        name, vote = parts.split(\" - \")\n",
    "\n",
    "        if vote not in counts:  # first appeared\n",
    "            counts[vote] = 1\n",
    "        else:                   # already exist, increment by 1\n",
    "            counts[vote] = counts[vote] + 1\n",
    "counts"
   ]
  },
  {
   "cell_type": "code",
   "execution_count": 213,
   "metadata": {},
   "outputs": [
    {
     "data": {
      "text/plain": [
       "{'April cross': 72,\n",
       " 'Champion': 76,\n",
       " 'Cherry belle': 58,\n",
       " 'Snow belle': 63,\n",
       " 'Bunny tail': 72,\n",
       " 'Sicily giant': 57,\n",
       " 'Plum purple': 57,\n",
       " 'Red king': 56,\n",
       " 'Daikon': 63,\n",
       " 'White icicle': 65,\n",
       " 'French breakfast': 72}"
      ]
     },
     "execution_count": 213,
     "metadata": {},
     "output_type": "execute_result"
    }
   ],
   "source": [
    "# 데이터 정제\n",
    "\n",
    "counts = {}\n",
    "with open(\"radishsurvey.txt\") as file:\n",
    "    for line in file:\n",
    "        parts = line.strip()\n",
    "        name, vote = parts.split(\" - \")\n",
    "        vote = vote.strip().capitalize().replace(\"  \",\" \")\n",
    "\n",
    "        if vote not in counts:  # first appeared\n",
    "            counts[vote] = 1\n",
    "        else:                   # already exist, increment by 1\n",
    "            counts[vote] = counts[vote] + 1\n",
    "counts"
   ]
  },
  {
   "cell_type": "code",
   "execution_count": 214,
   "metadata": {},
   "outputs": [
    {
     "name": "stdout",
     "output_type": "stream",
     "text": [
      "...Final result...\n",
      "max vote is  Champion :  76\n"
     ]
    }
   ],
   "source": [
    "max_cnt = 0\n",
    "for i in counts:\n",
    "    if counts[i] > max_cnt:\n",
    "        max_cnt = counts[i]\n",
    "        max_radish = i\n",
    "    else:\n",
    "        continue\n",
    "        \n",
    "print(\"...Final result...\")\n",
    "print(\"max vote is \", max_radish, \": \", max_cnt)"
   ]
  },
  {
   "cell_type": "code",
   "execution_count": 215,
   "metadata": {},
   "outputs": [],
   "source": [
    "## dict\n",
    "\n",
    "d1 = {}\n",
    "d1['A'] = 10"
   ]
  },
  {
   "cell_type": "code",
   "execution_count": 216,
   "metadata": {},
   "outputs": [
    {
     "data": {
      "text/plain": [
       "{'A': 10}"
      ]
     },
     "execution_count": 216,
     "metadata": {},
     "output_type": "execute_result"
    }
   ],
   "source": [
    "d1"
   ]
  },
  {
   "cell_type": "code",
   "execution_count": 218,
   "metadata": {},
   "outputs": [],
   "source": [
    "d1['B'] = 20"
   ]
  },
  {
   "cell_type": "code",
   "execution_count": 219,
   "metadata": {},
   "outputs": [
    {
     "data": {
      "text/plain": [
       "{'A': 10, 'B': 20}"
      ]
     },
     "execution_count": 219,
     "metadata": {},
     "output_type": "execute_result"
    }
   ],
   "source": [
    "d1"
   ]
  },
  {
   "cell_type": "code",
   "execution_count": 222,
   "metadata": {},
   "outputs": [
    {
     "data": {
      "text/plain": [
       "{'A': 30, 'B': 20}"
      ]
     },
     "execution_count": 222,
     "metadata": {},
     "output_type": "execute_result"
    }
   ],
   "source": [
    "d1['A'] = 30\n",
    "d1"
   ]
  },
  {
   "cell_type": "code",
   "execution_count": null,
   "metadata": {},
   "outputs": [],
   "source": []
  }
 ],
 "metadata": {
  "kernelspec": {
   "display_name": "Python 3",
   "language": "python",
   "name": "python3"
  },
  "language_info": {
   "codemirror_mode": {
    "name": "ipython",
    "version": 3
   },
   "file_extension": ".py",
   "mimetype": "text/x-python",
   "name": "python",
   "nbconvert_exporter": "python",
   "pygments_lexer": "ipython3",
   "version": "3.7.6"
  }
 },
 "nbformat": 4,
 "nbformat_minor": 4
}
