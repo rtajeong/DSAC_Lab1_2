{
 "cells": [
  {
   "cell_type": "markdown",
   "metadata": {},
   "source": [
    "# JSON format"
   ]
  },
  {
   "cell_type": "code",
   "execution_count": 2,
   "metadata": {},
   "outputs": [],
   "source": [
    "import numpy as np\n",
    "import pandas as pd\n",
    "import matplotlib.pyplot as plt\n",
    "%matplotlib inline\n",
    "import json"
   ]
  },
  {
   "cell_type": "code",
   "execution_count": 2,
   "metadata": {},
   "outputs": [],
   "source": [
    "obj = \"\"\"\n",
    "{\n",
    "    \"name\": \"Kim\",\n",
    "    \"places_lived\": [\"Seoul\", \"Korea\"],\n",
    "    \"pet\": null, \n",
    "    \"siblings\": [{\"name\": \"Scott\", \"age\":25, \"pet\":\"Zuko\"}]\n",
    "}\n",
    "\"\"\""
   ]
  },
  {
   "cell_type": "code",
   "execution_count": 3,
   "metadata": {},
   "outputs": [
    {
     "data": {
      "text/plain": [
       "'\\n{\\n    \"name\": \"Kim\",\\n    \"places_lived\": [\"Seoul\", \"Korea\"],\\n    \"pet\": null, \\n    \"siblings\": [{\"name\": \"Scott\", \"age\":25, \"pet\":\"Zuko\"}]\\n}\\n'"
      ]
     },
     "execution_count": 3,
     "metadata": {},
     "output_type": "execute_result"
    }
   ],
   "source": [
    "type(obj)\n",
    "obj"
   ]
  },
  {
   "cell_type": "code",
   "execution_count": 4,
   "metadata": {},
   "outputs": [
    {
     "data": {
      "text/plain": [
       "dict"
      ]
     },
     "execution_count": 4,
     "metadata": {},
     "output_type": "execute_result"
    }
   ],
   "source": [
    "r = json.loads(obj)   # decoding (json --> dict)\n",
    "type(r)"
   ]
  },
  {
   "cell_type": "code",
   "execution_count": 5,
   "metadata": {},
   "outputs": [
    {
     "data": {
      "text/plain": [
       "'{\"name\": \"Kim\", \"places_lived\": [\"Seoul\", \"Korea\"], \"pet\": null, \"siblings\": [{\"name\": \"Scott\", \"age\": 25, \"pet\": \"Zuko\"}]}'"
      ]
     },
     "execution_count": 5,
     "metadata": {},
     "output_type": "execute_result"
    }
   ],
   "source": [
    "json.dumps(r)    # encoding (dict --> json)"
   ]
  },
  {
   "cell_type": "markdown",
   "metadata": {},
   "source": [
    "## practical example\n",
    "- naver real-time search ranking\n",
    "- do not work any more since 2021.2"
   ]
  },
  {
   "cell_type": "code",
   "execution_count": 3,
   "metadata": {},
   "outputs": [],
   "source": [
    "import requests\n",
    "from pandas.io.json import json_normalize\n",
    "\n",
    "r = requests.get('http://rank.search.naver.com/rank.js')\n",
    "\n",
    "# pd.DataFrame(pd.DataFrame(pd.DataFrame(json.loads(r.text)).data).data)\n",
    "\n",
    "jj = json_normalize(json.loads(r.text), record_path=['data', 'data'])\n",
    "\n",
    "for i in range(len(jj)):\n",
    "    ranks = (jj.iloc[i])['rank']\n",
    "    title = (jj.iloc[i])['keyword']\n",
    "    print(ranks, \" : \", title)"
   ]
  },
  {
   "cell_type": "markdown",
   "metadata": {},
   "source": [
    "# HTML Parsing\n",
    "- before you do this example, try to see and run some example HTML files which are in this directory"
   ]
  },
  {
   "cell_type": "code",
   "execution_count": null,
   "metadata": {},
   "outputs": [],
   "source": [
    "# !pip install bs4"
   ]
  },
  {
   "cell_type": "code",
   "execution_count": 114,
   "metadata": {},
   "outputs": [],
   "source": [
    "from bs4 import BeautifulSoup"
   ]
  },
  {
   "cell_type": "code",
   "execution_count": 115,
   "metadata": {},
   "outputs": [],
   "source": [
    "html_text = \"\"\"\n",
    "<html>\n",
    "<body>\n",
    "  <h1> reading web page with python </h1>\n",
    "     <p> page analysis </p>\n",
    "     <p> page alignment </p>\n",
    "     <td>some text</td><td></td><td><p>more text</p></td><td>even <p>more text</p></td>\n",
    "</body>\n",
    "</html>\n",
    "\"\"\""
   ]
  },
  {
   "cell_type": "code",
   "execution_count": 116,
   "metadata": {},
   "outputs": [
    {
     "data": {
      "text/plain": [
       "\n",
       "<html>\n",
       "<body>\n",
       "<h1> reading web page with python </h1>\n",
       "<p> page analysis </p>\n",
       "<p> page alignment </p>\n",
       "<td>some text</td><td></td><td><p>more text</p></td><td>even <p>more text</p></td>\n",
       "</body>\n",
       "</html>"
      ]
     },
     "execution_count": 116,
     "metadata": {},
     "output_type": "execute_result"
    }
   ],
   "source": [
    "soup = BeautifulSoup(html_text, 'html.parser')\n",
    "soup"
   ]
  },
  {
   "cell_type": "code",
   "execution_count": 117,
   "metadata": {},
   "outputs": [
    {
     "data": {
      "text/plain": [
       "<h1> reading web page with python </h1>"
      ]
     },
     "execution_count": 117,
     "metadata": {},
     "output_type": "execute_result"
    }
   ],
   "source": [
    "soup.h1"
   ]
  },
  {
   "cell_type": "code",
   "execution_count": 118,
   "metadata": {},
   "outputs": [
    {
     "name": "stdout",
     "output_type": "stream",
     "text": [
      "<p> page analysis </p>\n",
      "<p> page alignment </p>\n",
      "<td>some text</td> some text some text\n",
      "<td></td> None\n"
     ]
    }
   ],
   "source": [
    "print(soup.p)\n",
    "print(soup.p.next_sibling.next_sibling)\n",
    "print(soup.td, soup.td.text, soup.td.string)\n",
    "print(soup.td.next_sibling, soup.td.next_sibling.string)"
   ]
  },
  {
   "cell_type": "code",
   "execution_count": 119,
   "metadata": {},
   "outputs": [],
   "source": [
    "html_text2 = \"\"\"\n",
    "<html>\n",
    "<body>\n",
    "  <h1 id=\"title\"> reading web page with python </h1>\n",
    "     <p id=\"body\"> page analysis </p>\n",
    "     <p> page alignment </p>\n",
    "     <td>some text</td><td></td><td><p>more text</p></td><td>even <p>more text</p></td>\n",
    "     <ul>\n",
    "         <li><a href = \"http://www.naver.com\"> naver</a></li>\n",
    "         <li><a href = \"http://www.daum.net\"> daum</a></li>\n",
    "     </ul>\n",
    "  <div id=\"xxx\">\n",
    "    <h1> Wiki-books store </h1>\n",
    "    <ul class=\"item\">\n",
    "      <li> introduction to game design </li>\n",
    "      <li> introduction to python </li>\n",
    "      <li> introduction to web design </li>\n",
    "    </ul>\n",
    "  </div>\n",
    "</body>\n",
    "</html>\n",
    "\"\"\""
   ]
  },
  {
   "cell_type": "code",
   "execution_count": 120,
   "metadata": {},
   "outputs": [],
   "source": [
    "soup = BeautifulSoup(html_text2, 'html.parser')"
   ]
  },
  {
   "cell_type": "markdown",
   "metadata": {},
   "source": [
    "### access by tags"
   ]
  },
  {
   "cell_type": "code",
   "execution_count": 121,
   "metadata": {},
   "outputs": [
    {
     "data": {
      "text/plain": [
       "<h1 id=\"title\"> reading web page with python </h1>"
      ]
     },
     "execution_count": 121,
     "metadata": {},
     "output_type": "execute_result"
    }
   ],
   "source": [
    "soup.find(id='title')"
   ]
  },
  {
   "cell_type": "code",
   "execution_count": 122,
   "metadata": {},
   "outputs": [
    {
     "data": {
      "text/plain": [
       "' page analysis '"
      ]
     },
     "execution_count": 122,
     "metadata": {},
     "output_type": "execute_result"
    }
   ],
   "source": [
    "soup.find(id='body').string"
   ]
  },
  {
   "cell_type": "code",
   "execution_count": 123,
   "metadata": {},
   "outputs": [
    {
     "data": {
      "text/plain": [
       "[<p id=\"body\"> page analysis </p>,\n",
       " <p> page alignment </p>,\n",
       " <p>more text</p>,\n",
       " <p>more text</p>]"
      ]
     },
     "execution_count": 123,
     "metadata": {},
     "output_type": "execute_result"
    }
   ],
   "source": [
    "soup.find_all('p')"
   ]
  },
  {
   "cell_type": "code",
   "execution_count": 124,
   "metadata": {},
   "outputs": [
    {
     "data": {
      "text/plain": [
       "<li><a href=\"http://www.naver.com\"> naver</a></li>"
      ]
     },
     "execution_count": 124,
     "metadata": {},
     "output_type": "execute_result"
    }
   ],
   "source": [
    "soup.find_all('li')[0]"
   ]
  },
  {
   "cell_type": "code",
   "execution_count": 125,
   "metadata": {},
   "outputs": [
    {
     "data": {
      "text/plain": [
       "(' naver', {})"
      ]
     },
     "execution_count": 125,
     "metadata": {},
     "output_type": "execute_result"
    }
   ],
   "source": [
    "soup.find_all('li')[0].string, soup.find_all('li')[0].attrs"
   ]
  },
  {
   "cell_type": "code",
   "execution_count": 126,
   "metadata": {},
   "outputs": [
    {
     "data": {
      "text/plain": [
       "<a href=\"http://www.naver.com\"> naver</a>"
      ]
     },
     "execution_count": 126,
     "metadata": {},
     "output_type": "execute_result"
    }
   ],
   "source": [
    "soup.find_all('a')[0]"
   ]
  },
  {
   "cell_type": "code",
   "execution_count": 127,
   "metadata": {},
   "outputs": [
    {
     "data": {
      "text/plain": [
       "(' naver', {'href': 'http://www.naver.com'})"
      ]
     },
     "execution_count": 127,
     "metadata": {},
     "output_type": "execute_result"
    }
   ],
   "source": [
    "soup.find_all('a')[0].string, soup.find_all('a')[0].attrs"
   ]
  },
  {
   "cell_type": "code",
   "execution_count": 128,
   "metadata": {},
   "outputs": [
    {
     "name": "stdout",
     "output_type": "stream",
     "text": [
      " naver --> http://www.naver.com\n",
      " daum --> http://www.daum.net\n"
     ]
    }
   ],
   "source": [
    "for aa in soup.find_all('a'):\n",
    "    href = aa.attrs['href']\n",
    "    text = aa.string\n",
    "    print (text, \"-->\", href)"
   ]
  },
  {
   "cell_type": "markdown",
   "metadata": {},
   "source": [
    "### access by regular expression"
   ]
  },
  {
   "cell_type": "code",
   "execution_count": 129,
   "metadata": {},
   "outputs": [
    {
     "data": {
      "text/plain": [
       "[<p id=\"body\"> page analysis </p>,\n",
       " <p> page alignment </p>,\n",
       " <p>more text</p>,\n",
       " <p>more text</p>]"
      ]
     },
     "execution_count": 129,
     "metadata": {},
     "output_type": "execute_result"
    }
   ],
   "source": [
    "import re\n",
    "soup.find_all(re.compile(\"^p\"))   # tags starting with a character 'p'"
   ]
  },
  {
   "cell_type": "code",
   "execution_count": 130,
   "metadata": {},
   "outputs": [
    {
     "data": {
      "text/plain": [
       "[<div id=\"xxx\">\n",
       " <h1> Wiki-books store </h1>\n",
       " <ul class=\"item\">\n",
       " <li> introduction to game design </li>\n",
       " <li> introduction to python </li>\n",
       " <li> introduction to web design </li>\n",
       " </ul>\n",
       " </div>]"
      ]
     },
     "execution_count": 130,
     "metadata": {},
     "output_type": "execute_result"
    }
   ],
   "source": [
    "soup.find_all(re.compile(\"div\" ))"
   ]
  },
  {
   "cell_type": "code",
   "execution_count": 131,
   "metadata": {},
   "outputs": [
    {
     "data": {
      "text/plain": [
       "[<a href=\"http://www.naver.com\"> naver</a>,\n",
       " <a href=\"http://www.daum.net\"> daum</a>]"
      ]
     },
     "execution_count": 131,
     "metadata": {},
     "output_type": "execute_result"
    }
   ],
   "source": [
    "soup.find_all(href=re.compile(\"^http://\"))"
   ]
  },
  {
   "cell_type": "markdown",
   "metadata": {},
   "source": [
    "### access by css selector"
   ]
  },
  {
   "cell_type": "code",
   "execution_count": 132,
   "metadata": {},
   "outputs": [
    {
     "data": {
      "text/plain": [
       "[<h1 id=\"title\"> reading web page with python </h1>,\n",
       " <h1> Wiki-books store </h1>]"
      ]
     },
     "execution_count": 132,
     "metadata": {},
     "output_type": "execute_result"
    }
   ],
   "source": [
    "soup.select('h1')    # by tags"
   ]
  },
  {
   "cell_type": "code",
   "execution_count": 133,
   "metadata": {},
   "outputs": [
    {
     "data": {
      "text/plain": [
       "[<div id=\"xxx\">\n",
       " <h1> Wiki-books store </h1>\n",
       " <ul class=\"item\">\n",
       " <li> introduction to game design </li>\n",
       " <li> introduction to python </li>\n",
       " <li> introduction to web design </li>\n",
       " </ul>\n",
       " </div>]"
      ]
     },
     "execution_count": 133,
     "metadata": {},
     "output_type": "execute_result"
    }
   ],
   "source": [
    "soup.select('#xxx')  # by id"
   ]
  },
  {
   "cell_type": "code",
   "execution_count": 134,
   "metadata": {
    "scrolled": true
   },
   "outputs": [
    {
     "data": {
      "text/plain": [
       "[<ul class=\"item\">\n",
       " <li> introduction to game design </li>\n",
       " <li> introduction to python </li>\n",
       " <li> introduction to web design </li>\n",
       " </ul>]"
      ]
     },
     "execution_count": 134,
     "metadata": {},
     "output_type": "execute_result"
    }
   ],
   "source": [
    "soup.select('.item') # by class name"
   ]
  },
  {
   "cell_type": "code",
   "execution_count": 135,
   "metadata": {},
   "outputs": [
    {
     "data": {
      "text/plain": [
       "[<ul class=\"item\">\n",
       " <li> introduction to game design </li>\n",
       " <li> introduction to python </li>\n",
       " <li> introduction to web design </li>\n",
       " </ul>]"
      ]
     },
     "execution_count": 135,
     "metadata": {},
     "output_type": "execute_result"
    }
   ],
   "source": [
    "soup.select('div .item')  # multi-components(tag=div, class=item)"
   ]
  },
  {
   "cell_type": "code",
   "execution_count": 35,
   "metadata": {},
   "outputs": [
    {
     "data": {
      "text/plain": [
       "<li> introduction to game design </li>"
      ]
     },
     "execution_count": 35,
     "metadata": {},
     "output_type": "execute_result"
    }
   ],
   "source": [
    "soup.select_one(\"#xxx > ul > li\")  # hierarchy (child)"
   ]
  },
  {
   "cell_type": "code",
   "execution_count": 36,
   "metadata": {},
   "outputs": [
    {
     "data": {
      "text/plain": [
       "[<li> introduction to game design </li>,\n",
       " <li> introduction to python </li>,\n",
       " <li> introduction to web design </li>]"
      ]
     },
     "execution_count": 36,
     "metadata": {},
     "output_type": "execute_result"
    }
   ],
   "source": [
    "soup.select(\"div li\")   # hierarchy (div tag >>> ul tag) (descendants)"
   ]
  },
  {
   "cell_type": "code",
   "execution_count": 37,
   "metadata": {},
   "outputs": [
    {
     "data": {
      "text/plain": [
       "[<p class=\"body strikeout\"></p>]"
      ]
     },
     "execution_count": 37,
     "metadata": {},
     "output_type": "execute_result"
    }
   ],
   "source": [
    "text = '<p class=\"body strikeout\"></p>'\n",
    "\n",
    "css_soup = BeautifulSoup(text, 'html.parser')\n",
    "css_soup.find_all(\"p\", class_=\"strikeout\")  # can have multiple values for a class"
   ]
  },
  {
   "cell_type": "code",
   "execution_count": 38,
   "metadata": {},
   "outputs": [
    {
     "data": {
      "text/plain": [
       "[<p class=\"body strikeout\"></p>]"
      ]
     },
     "execution_count": 38,
     "metadata": {},
     "output_type": "execute_result"
    }
   ],
   "source": [
    "css_soup.find_all(\"p\", class_=\"body\")"
   ]
  },
  {
   "cell_type": "code",
   "execution_count": 39,
   "metadata": {},
   "outputs": [
    {
     "data": {
      "text/plain": [
       "[<p class=\"body strikeout\"></p>]"
      ]
     },
     "execution_count": 39,
     "metadata": {},
     "output_type": "execute_result"
    }
   ],
   "source": [
    "# If you want to search for tags that match two or more CSS classes, \n",
    "# you should use a CSS selector:\n",
    "css_soup.select(\"p.body.strikeout\") "
   ]
  },
  {
   "cell_type": "markdown",
   "metadata": {},
   "source": [
    "# practical example\n",
    "- extract job information from www.monster.com\n",
    "- they changed the web page and now it seems be be dynamic style. So, it does not return HTML source as you see in the web site.\n",
    "- does not work any more."
   ]
  },
  {
   "cell_type": "code",
   "execution_count": 153,
   "metadata": {},
   "outputs": [],
   "source": [
    "url = 'https://www.monster.com/jobs/search?q=Data+Scientist&where=California'\n",
    "page = requests.get(url)\n",
    "\n",
    "soup = BeautifulSoup(page.content, 'html.parser')\n",
    "results = soup.find(id='SearchResults')\n",
    "job_elems = results.find_all('section', class_='card-content')\n",
    "len(job_elems)\n",
    "job_elems[0]\n",
    "print(job_elems[0].find('h2', class_='title').text.strip())\n",
    "job_elems[0].find('div', class_='company').text.strip()\n",
    "job_elems[0].find('div', class_='location').text.strip()\n",
    "\n",
    "for i in job_elems:\n",
    "    title = i.find('h2', class_='title')\n",
    "    company = i.find('div', class_='company')\n",
    "    location = i.find('div', class_='location')\n",
    "    \n",
    "    if None in (title, company, location):\n",
    "        continue\n",
    "        \n",
    "    print(title.text.strip())\n",
    "    print(company.text.strip())\n",
    "    print(location.text.strip())\n",
    "    print()"
   ]
  },
  {
   "cell_type": "markdown",
   "metadata": {},
   "source": [
    "## Another example from Indeed\n",
    "- newly added in 2021.5.10\n",
    "- kr.indeed.com (search for 'data science' in '서울특별시')"
   ]
  },
  {
   "cell_type": "code",
   "execution_count": 189,
   "metadata": {},
   "outputs": [],
   "source": [
    "import requests\n",
    "from bs4 import BeautifulSoup\n",
    "\n",
    "# Create a soup object\n",
    "url = 'https://kr.indeed.com/%EC%B7%A8%EC%97%85?q=data+science&l=%EC%84%9C%EC%9A%B8%ED%8A%B9%EB%B3%84%EC%8B%9C'\n",
    "link = requests.get(url)\n",
    "soup = BeautifulSoup(link.text, 'html.parser')"
   ]
  },
  {
   "cell_type": "code",
   "execution_count": 202,
   "metadata": {},
   "outputs": [
    {
     "data": {
      "text/plain": [
       "15"
      ]
     },
     "execution_count": 202,
     "metadata": {},
     "output_type": "execute_result"
    }
   ],
   "source": [
    "job_elems = soup.select('.jobsearch-SerpJobCard') # class\n",
    "len(job_elems)"
   ]
  },
  {
   "cell_type": "code",
   "execution_count": 203,
   "metadata": {
    "collapsed": true
   },
   "outputs": [
    {
     "data": {
      "text/plain": [
       "<div class=\"jobsearch-SerpJobCard unifiedRow row result\" data-jk=\"4bd70fb8a220d90d\" data-tn-component=\"organicJob\" id=\"p_4bd70fb8a220d90d\">\n",
       "<h2 class=\"title\">\n",
       "<a class=\"jobtitle turnstileLink\" data-tn-element=\"jobTitle\" href=\"/rc/clk?jk=4bd70fb8a220d90d&amp;fccid=0bed8e17bc113980&amp;vjs=3\" id=\"jl_4bd70fb8a220d90d\" onclick=\"setRefineByCookie([]); return rclk(this,jobmap[0],true,0);\" onmousedown=\"return rclk(this,jobmap[0],0);\" rel=\"noopener nofollow\" target=\"_blank\" title=\"[Janssen] Data Scientist\">\n",
       "[Janssen] <b>Data</b> Scientist</a>\n",
       "</h2>\n",
       "<div class=\"sjcl\">\n",
       "<div>\n",
       "<span class=\"company\">\n",
       "<a class=\"turnstileLink\" data-tn-element=\"companyName\" href=\"/cmp/Johnson-&amp;-Johnson\" onmousedown=\"this.href = appendParamsOnce(this.href, 'from=SERP&amp;campaignid=serp-linkcompanyname&amp;fromjk=4bd70fb8a220d90d&amp;jcid=08849387e791ebc6')\" rel=\"noopener\" target=\"_blank\">\n",
       "Johnson &amp; Johnson Family of Companies</a></span>\n",
       "<span class=\"ratingsDisplay\">\n",
       "<a class=\"ratingNumber\" data-tn-variant=\"cmplinktst2\" href=\"/cmp/Johnson-&amp;-Johnson/reviews\" onmousedown=\"this.href = appendParamsOnce(this.href, '?campaignid=cmplinktst2&amp;from=SERP&amp;jt=%5BJanssen%5D+Data+Scientist&amp;fromjk=4bd70fb8a220d90d&amp;jcid=08849387e791ebc6');\" rel=\"noopener\" target=\"_blank\">\n",
       "<span class=\"ratingsContent\">\n",
       "4.2</span>\n",
       "</a>\n",
       "</span>\n",
       "</div>\n",
       "<div class=\"recJobLoc\" data-rc-loc=\"서울\" id=\"recJobLoc_4bd70fb8a220d90d\" style=\"display: none\"></div>\n",
       "<span class=\"location accessible-contrast-color-location\">서울</span>\n",
       "</div>\n",
       "<div class=\"summary\">\n",
       "direction of \n",
       "<b>data</b>\n",
       "<b>science</b> at Janssen... delivering on \n",
       "<b>data</b>\n",
       "<b>science</b> projects using predictive technologies, \n",
       "<b>data</b> mining...</div>\n",
       "<div class=\"jobsearch-SerpJobCard-footer\">\n",
       "<div class=\"jobsearch-SerpJobCard-footerActions\">\n",
       "<div class=\"result-link-bar-container\">\n",
       "<div class=\"result-link-bar\"><span class=\"date date-a11y\">30+일 전</span><div class=\"tt_set\" id=\"tt_set_0\"><div class=\"job-reaction\"><button aria-expanded=\"false\" aria-label=\"저장 또는 싫어요 표시\" class=\"job-reaction-kebab\" data-ol-has-click-handler=\"\" onclick=\"toggleKebabMenu('4bd70fb8a220d90d', false, event); return false;\" tabindex=\"0\"></button><span class=\"job-reaction-kebab-menu\"><button class=\"job-reaction-kebab-item job-reaction-save\" data-ol-has-click-handler=\"\" onclick=\"changeJobState('4bd70fb8a220d90d', 'save', 'linkbar', false, '');return false;\"><svg fill=\"none\" focusable=\"false\" height=\"24\" viewbox=\"0 0 24 24\" width=\"24\" xmlns=\"http://www.w3.org/2000/svg\"><path clip-rule=\"evenodd\" d=\"M10.5766 6.99526C10.0636 6.48227 9.57017 5.99808 9.01069 5.62604C8.46832 5.26538 7.97822 5.09021 7.5 5.09021C6.79435 5.09021 5.98045 5.27268 5.34087 5.72415C4.78259 6.11822 4.20245 6.82046 4.00092 8.2167C4.02709 10.0041 4.61435 11.2599 5.97077 12.7896C6.98048 13.9283 8.27849 15.0775 9.97941 16.5833C10.5978 17.1308 11.2695 17.7255 12 18.3839C12.7305 17.7255 13.4022 17.1308 14.0206 16.5833C15.7215 15.0775 17.0195 13.9283 18.0292 12.7896C19.3856 11.2599 19.9729 10.0041 19.9991 8.2167C19.7976 6.82046 19.2174 6.11822 18.6591 5.72415C18.0196 5.27268 17.2056 5.09021 16.5 5.09021C16.0218 5.09021 15.5317 5.26538 14.9893 5.62604C14.4298 5.99808 13.9364 6.48227 13.4234 6.99526L12 8.41864L10.5766 6.99526ZM22 8.09021C22 12.1883 19.6488 14.2711 15.2216 18.1928C14.3422 18.9718 13.3808 19.8234 12.3397 20.7777C12.1476 20.9539 11.8524 20.9539 11.6603 20.7777C10.6192 19.8234 9.65782 18.9718 8.77838 18.1928C4.35123 14.2711 2 12.1883 2 8.09021C2.5 4.09021 5.5 3.09021 7.5 3.09021C9.47994 3.09021 10.9699 4.56026 11.9698 5.55996C11.9768 5.56701 11.9838 5.57404 11.9908 5.58104L12 5.59021L12.0092 5.58104C12.0162 5.57404 12.0232 5.56701 12.0302 5.55996C13.0301 4.56026 14.5201 3.09021 16.5 3.09021C18.5 3.09021 21.5 4.09021 22 8.09021Z\" fill=\"#2d2d2d\" fill-rule=\"evenodd\"></path></svg><span class=\"job-reaction-kebab-item-text\">스크랩</span></button><button class=\"job-reaction-kebab-item job-reaction-dislike\" data-ol-has-click-handler=\"\" onclick=\"dislikeJob(false, false, '4bd70fb8a220d90d', 'unsave', 'linkbar', false, '');\"><span class=\"job-reaction-dislike-icon\"></span><span class=\"job-reaction-kebab-item-text\">괜찮습니다</span></button><button class=\"job-reaction-kebab-item job-reaction-report\" onclick=\"reportJob('4bd70fb8a220d90d');\"><span class=\"job-reaction-report-icon\"></span><span class=\"job-reaction-kebab-item-text\">신고하기</span></button></span></div><span class=\"result-link-bar-separator\">·</span><a class=\"sl resultLink save-job-link\" href=\"#\" id=\"sj_4bd70fb8a220d90d\" onclick=\"changeJobState('4bd70fb8a220d90d', 'save', 'linkbar', false, ''); return false;\" title=\"my인디드에 취업정보 스크랩하기\">스크랩</a><span class=\"result-link-bar-separator\">·</span><button aria-expanded=\"false\" class=\"sl resultLink more-link\" id=\"tog_0\" onclick=\"toggleMoreLinks('4bd70fb8a220d90d', '0'); return false;\">더보기</button></div><script>if (!window['result_4bd70fb8a220d90d']) {window['result_4bd70fb8a220d90d'] = {};}window['result_4bd70fb8a220d90d']['showSource'] = false; window['result_4bd70fb8a220d90d']['source'] = \"Johnson \\x26 Johnson Family of Companies\"; window['result_4bd70fb8a220d90d']['loggedIn'] = false; window['result_4bd70fb8a220d90d']['showMyJobsLinks'] = false;window['result_4bd70fb8a220d90d']['baseMyJobsUrl'] = \"https://myjobs.indeed.com\";window['result_4bd70fb8a220d90d']['undoAction'] = \"unsave\";window['result_4bd70fb8a220d90d']['relativeJobAge'] = \"30+일 전\";window['result_4bd70fb8a220d90d']['jobKey'] = \"4bd70fb8a220d90d\"; window['result_4bd70fb8a220d90d']['myIndeedAvailable'] = true; window['result_4bd70fb8a220d90d']['showMoreActionsLink'] = window['result_4bd70fb8a220d90d']['showMoreActionsLink'] || true; window['result_4bd70fb8a220d90d']['resultNumber'] = 0; window['result_4bd70fb8a220d90d']['jobStateChangedToSaved'] = false; window['result_4bd70fb8a220d90d']['searchState'] = \"q=data science&amp;l=%EC%84%9C%EC%9A%B8%ED%8A%B9%EB%B3%84%EC%8B%9C\"; window['result_4bd70fb8a220d90d']['basicPermaLink'] = \"https://kr.indeed.com\"; window['result_4bd70fb8a220d90d']['saveJobFailed'] = false; window['result_4bd70fb8a220d90d']['removeJobFailed'] = false; window['result_4bd70fb8a220d90d']['requestPending'] = false; window['result_4bd70fb8a220d90d']['currentPage'] = \"serp\"; window['result_4bd70fb8a220d90d']['sponsored'] = false;window['result_4bd70fb8a220d90d']['reportJobButtonEnabled'] = false; window['result_4bd70fb8a220d90d']['showMyJobsHired'] = false; window['result_4bd70fb8a220d90d']['showSaveForSponsored'] = false; window['result_4bd70fb8a220d90d']['showJobAge'] = true; window['result_4bd70fb8a220d90d']['showHolisticCard'] = true; window['result_4bd70fb8a220d90d']['showDislike'] = true; window['result_4bd70fb8a220d90d']['showKebab'] = true; window['result_4bd70fb8a220d90d']['showReport'] = true;</script></div></div>\n",
       "</div>\n",
       "</div>\n",
       "<div class=\"tab-container\">\n",
       "<div class=\"more-links-container result-tab\" id=\"tt_display_0\" style=\"display:none;\"><div class=\"more_actions\" id=\"more_0\"><ul><li><span class=\"mat\"><a href=\"/Johnson-&amp;-Johnson-Family-of-Companies%EC%A7%81-%EC%B7%A8%EC%97%85\" rel=\"nofollow\">Johnson &amp; Johnson Family of Companies 취업정보</a> 전체 검색 - <a href=\"/%EC%84%9C%EC%9A%B8-%EC%A7%80%EC%97%AD-%EC%B7%A8%EC%97%85\">서울 지역 취업</a> 검색</span></li></ul></div><a class=\"close-link closeLink\" href=\"#\" onclick=\"toggleMoreLinks('4bd70fb8a220d90d'); return false;\" title=\"Close\"></a></div><div class=\"dya-container result-tab\"></div>\n",
       "<div class=\"tellafriend-container result-tab email_job_content\"></div>\n",
       "<div class=\"sign-in-container result-tab\"></div>\n",
       "</div>\n",
       "</div>"
      ]
     },
     "execution_count": 203,
     "metadata": {},
     "output_type": "execute_result"
    }
   ],
   "source": [
    "job_elems[0]"
   ]
  },
  {
   "cell_type": "code",
   "execution_count": 204,
   "metadata": {},
   "outputs": [
    {
     "data": {
      "text/plain": [
       "'[Janssen] Data Scientist'"
      ]
     },
     "execution_count": 204,
     "metadata": {},
     "output_type": "execute_result"
    }
   ],
   "source": [
    "job_elems[0].find('h2', class_='title').text.strip()"
   ]
  },
  {
   "cell_type": "code",
   "execution_count": 206,
   "metadata": {},
   "outputs": [
    {
     "data": {
      "text/plain": [
       "'Johnson & Johnson Family of Companies'"
      ]
     },
     "execution_count": 206,
     "metadata": {},
     "output_type": "execute_result"
    }
   ],
   "source": [
    "job_elems[0].find('span', class_='company').text.strip()"
   ]
  },
  {
   "cell_type": "code",
   "execution_count": 207,
   "metadata": {},
   "outputs": [
    {
     "data": {
      "text/plain": [
       "'서울'"
      ]
     },
     "execution_count": 207,
     "metadata": {},
     "output_type": "execute_result"
    }
   ],
   "source": [
    "job_elems[0].find('span', class_='location').text.strip()"
   ]
  },
  {
   "cell_type": "code",
   "execution_count": 208,
   "metadata": {},
   "outputs": [
    {
     "name": "stdout",
     "output_type": "stream",
     "text": [
      "[Janssen] Data Scientist\n",
      "Johnson & Johnson Family of Companies\n",
      "서울\n",
      "\n",
      "Data Science Intern\n",
      "Ace I&M Consulting\n",
      "서울 중구\n",
      "\n",
      "[Data Science Div - Business Insights De...\n",
      "PUBG\n",
      "서울\n",
      "\n",
      "[정규직] AI Data Scientist\n",
      "SK 씨앤씨\n",
      "서울\n",
      "\n",
      "[Data Science Div - PUBG Studio Analytic...\n",
      "PUBG\n",
      "서울\n",
      "\n",
      "2021 Market Data Analyst - Seoul\n",
      "Bloomberg\n",
      "서울\n",
      "\n",
      "Data Scientist - IBM Garage\n",
      "IBM\n",
      "서울\n",
      "\n",
      "Data Analyst\n",
      "IQVIA\n",
      "서울\n",
      "\n",
      "[Data Science Div] Data Engineer\n",
      "PUBG\n",
      "서울\n",
      "\n",
      "[Data Science Div - Business Insights] R...\n",
      "PUBG\n",
      "서울\n",
      "\n",
      "[정규직] Data Scientist\n",
      "SK 씨앤씨\n",
      "서울\n",
      "\n",
      "[Data Science Div] Data Platform 기획자\n",
      "PUBG\n",
      "서울\n",
      "\n",
      "Data Analytics SA\n",
      "Amazon Web Services Korea LLC\n",
      "서울\n",
      "\n",
      "Head of Analytics & Data Science (Coupan...\n",
      "new\n",
      "Coupang\n",
      "서울\n",
      "\n",
      "Market Research team Intern\n",
      "IQVIA\n",
      "서울\n",
      "\n"
     ]
    }
   ],
   "source": [
    "for i in job_elems:\n",
    "    title = i.find('h2', class_='title')\n",
    "    company = i.find('span', class_='company')\n",
    "    location = i.find('span', class_='location')\n",
    "    \n",
    "    if None in (title, company, location):\n",
    "        continue\n",
    "        \n",
    "    print(title.text.strip())\n",
    "    print(company.text.strip())\n",
    "    print(location.text.strip())\n",
    "    print()"
   ]
  }
 ],
 "metadata": {
  "kernelspec": {
   "display_name": "Python 3",
   "language": "python",
   "name": "python3"
  },
  "language_info": {
   "codemirror_mode": {
    "name": "ipython",
    "version": 3
   },
   "file_extension": ".py",
   "mimetype": "text/x-python",
   "name": "python",
   "nbconvert_exporter": "python",
   "pygments_lexer": "ipython3",
   "version": "3.8.5"
  }
 },
 "nbformat": 4,
 "nbformat_minor": 4
}
