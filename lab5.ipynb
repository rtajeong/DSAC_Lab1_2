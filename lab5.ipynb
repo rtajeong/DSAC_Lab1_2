{
 "cells": [
  {
   "cell_type": "code",
   "execution_count": 1,
   "metadata": {},
   "outputs": [],
   "source": [
    "import numpy as np\n",
    "import pandas as pd\n",
    "import matplotlib.pyplot as plt\n",
    "%matplotlib inline"
   ]
  },
  {
   "cell_type": "markdown",
   "metadata": {},
   "source": [
    "# Gradient Descent algorithm\n",
    "- linear regression (with 1 variable)"
   ]
  },
  {
   "cell_type": "code",
   "execution_count": 17,
   "metadata": {},
   "outputs": [
    {
     "name": "stdout",
     "output_type": "stream",
     "text": [
      "0 0.5819915013691006 0.5409126007924058\n",
      "10 1.1519883426209059 0.654408827705637\n",
      "20 1.1537928702007212 0.6545279810782705\n",
      "30 1.15379853835659 0.6545283307495559\n",
      "40 1.1537985561561106 0.6545283318450775\n",
      "50 1.1537985562120052 0.6545283318485176\n",
      "60 1.1537985562121809 0.6545283318485283\n",
      "70 1.1537985562121813 0.6545283318485283\n",
      "80 1.1537985562121813 0.6545283318485283\n",
      "90 1.1537985562121813 0.6545283318485283\n"
     ]
    },
    {
     "data": {
      "text/plain": [
       "[<matplotlib.lines.Line2D at 0x211fba30160>]"
      ]
     },
     "execution_count": 17,
     "metadata": {},
     "output_type": "execute_result"
    },
    {
     "data": {
      "image/png": "[encoded data removed]",
      "text/plain": [
       "<Figure size 432x288 with 1 Axes>"
      ]
     },
     "metadata": {
      "needs_background": "light"
     },
     "output_type": "display_data"
    }
   ],
   "source": [
    "N = 100\n",
    "x = np.random.randn(N)\n",
    "y = 1.2 * x + 0.7      # w=1.2, b=0.7\n",
    "y = y + 0.5 * np.random.randn(N)\n",
    "\n",
    "plt.scatter(x,y, s=2)\n",
    "\n",
    "w = np.random.randn()   # initial random choice\n",
    "b = np.random.randn()\n",
    "\n",
    "lr = 0.3\n",
    "for iter in range(100):\n",
    "    y_pred = w * x + b\n",
    "    error = ((y_pred - y)**2).mean()\n",
    "    if error < 0.01:\n",
    "        break\n",
    "    else:\n",
    "        w = w - lr * 2 * ((y_pred - y) * x).mean()\n",
    "        b = b - lr * 2 * (y_pred - y).mean()\n",
    "    if iter % 10 == 0:\n",
    "        print(iter, w, b)\n",
    "\n",
    "aa = np.linspace(-2,2,100)\n",
    "bb = w * aa + b\n",
    "plt.plot(aa, bb, c='r')\n"
   ]
  },
  {
   "cell_type": "code",
   "execution_count": 20,
   "metadata": {},
   "outputs": [
    {
     "data": {
      "text/plain": [
       "(array([1.15379856]), 0.6545283318485283)"
      ]
     },
     "execution_count": 20,
     "metadata": {},
     "output_type": "execute_result"
    }
   ],
   "source": [
    "from sklearn.linear_model import LinearRegression\n",
    "\n",
    "rm = LinearRegression()\n",
    "rm.fit(x.reshape(-1,1), y)\n",
    "rm.coef_, rm.intercept_"
   ]
  },
  {
   "cell_type": "code",
   "execution_count": null,
   "metadata": {},
   "outputs": [],
   "source": []
  }
 ],
 "metadata": {
  "kernelspec": {
   "display_name": "Python 3",
   "language": "python",
   "name": "python3"
  },
  "language_info": {
   "codemirror_mode": {
    "name": "ipython",
    "version": 3
   },
   "file_extension": ".py",
   "mimetype": "text/x-python",
   "name": "python",
   "nbconvert_exporter": "python",
   "pygments_lexer": "ipython3",
   "version": "3.8.3"
  }
 },
 "nbformat": 4,
 "nbformat_minor": 4
}
