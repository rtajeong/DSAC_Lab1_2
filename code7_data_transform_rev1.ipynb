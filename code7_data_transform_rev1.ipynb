{
 "cells": [
  {
   "cell_type": "markdown",
   "metadata": {
    "id": "MoJXkUKYAWCP"
   },
   "source": [
    "# Categorical Encoding and Scaling"
   ]
  },
  {
   "cell_type": "code",
   "execution_count": null,
   "metadata": {
    "id": "do8n8Cju_6gl"
   },
   "outputs": [],
   "source": [
    "import numpy as np\n",
    "import pandas as pd\n",
    "import matplotlib.pyplot as plt\n",
    "%matplotlib inline\n",
    "import seaborn as sns"
   ]
  },
  {
   "cell_type": "markdown",
   "metadata": {
    "id": "HHlbcUpSAEAT"
   },
   "source": [
    "# Categorical encoding\n",
    "- One-hot encoding\n",
    "- Label Encoding\n",
    "- custom binary encoding"
   ]
  },
  {
   "cell_type": "code",
   "execution_count": null,
   "metadata": {
    "id": "9IAXEcC8AITk"
   },
   "outputs": [],
   "source": [
    "# One-hot encoding (by get_dummies)\n",
    "n_samples = 10\n",
    "height = 3 * np.random.randn(n_samples).round() + 170\n",
    "nationality = np.random.randint(0, 3, n_samples)\n",
    "nationality = pd.Series(nationality).map({0:'Korea',\n",
    "                                          1: 'Japan',\n",
    "                                          2: 'China'})\n",
    "print(height)\n",
    "print(nationality)"
   ]
  },
  {
   "cell_type": "code",
   "execution_count": null,
   "metadata": {
    "id": "Xp9iTSQDB5WK"
   },
   "outputs": [],
   "source": [
    "df = pd.DataFrame(list(zip(height, nationality)), columns=['height', 'nationality'])\n",
    "df"
   ]
  },
  {
   "cell_type": "code",
   "execution_count": null,
   "metadata": {
    "id": "4mmdQtkqCMJQ"
   },
   "outputs": [],
   "source": [
    "new_df = pd.get_dummies(df, columns=['nationality'], prefix='nat')\n",
    "new_df"
   ]
  },
  {
   "cell_type": "code",
   "execution_count": null,
   "metadata": {
    "id": "QuXSAQO0Cchp"
   },
   "outputs": [],
   "source": [
    "# using sklearn function OneHotEncoder()\n",
    "from sklearn.preprocessing import OneHotEncoder, LabelEncoder, OrdinalEncoder\n",
    "ohe = OneHotEncoder()\n",
    "encoded = ohe.fit_transform(df.nationality.values.reshape(-1,1))\n",
    "encoded.toarray()"
   ]
  },
  {
   "cell_type": "code",
   "execution_count": null,
   "metadata": {
    "id": "3_rTirb_DFtr"
   },
   "outputs": [],
   "source": [
    "ohe.categories_, ohe.get_feature_names()"
   ]
  },
  {
   "cell_type": "code",
   "execution_count": null,
   "metadata": {
    "id": "slS9MI8GDWCH"
   },
   "outputs": [],
   "source": [
    "col = ['nat_' + str(ohe.categories_[0][i]) for i in range(len(ohe.categories_[0]))]\n",
    "col"
   ]
  },
  {
   "cell_type": "code",
   "execution_count": null,
   "metadata": {
    "id": "WjPDCfrLD0jH"
   },
   "outputs": [],
   "source": [
    "encoded_df = pd.DataFrame(encoded.toarray(), columns=col)\n",
    "encoded_df"
   ]
  },
  {
   "cell_type": "code",
   "execution_count": null,
   "metadata": {
    "id": "5iRosmQzE0Tk"
   },
   "outputs": [],
   "source": [
    "new_df = pd.concat([df, encoded_df], axis=1)\n",
    "new_df"
   ]
  },
  {
   "cell_type": "code",
   "execution_count": null,
   "metadata": {
    "id": "noLZfqASFCK3"
   },
   "outputs": [],
   "source": [
    "new_df.drop('nationality', axis=1, inplace=True)\n",
    "new_df"
   ]
  },
  {
   "cell_type": "code",
   "execution_count": null,
   "metadata": {
    "id": "ZVgPynMTFROx"
   },
   "outputs": [],
   "source": [
    "# Label Encoding : only a single column (originally for converting a target variable)\n",
    "df_org = df.copy()\n",
    "le = LabelEncoder()\n",
    "df['nat_label_encoded'] = le.fit_transform(df.nationality)\n",
    "print(le.classes_)\n",
    "df"
   ]
  },
  {
   "cell_type": "code",
   "execution_count": null,
   "metadata": {
    "id": "Uwk665BqGRt3"
   },
   "outputs": [],
   "source": [
    "# Ordinal Encoding: for converting features (can take many features)\n",
    "oe = OrdinalEncoder(categories=[['Japan','China','Korea']])\n",
    "df['nat_ordinal_encoded'] = oe.fit_transform(df.nationality[:,np.newaxis])\n",
    "df"
   ]
  },
  {
   "cell_type": "code",
   "execution_count": null,
   "metadata": {
    "id": "QKVbSfE2IiRX"
   },
   "outputs": [],
   "source": [
    "oe.categories_"
   ]
  },
  {
   "cell_type": "code",
   "execution_count": null,
   "metadata": {
    "id": "aDueCKltJF8d"
   },
   "outputs": [],
   "source": [
    "df.dtypes"
   ]
  },
  {
   "cell_type": "markdown",
   "metadata": {
    "id": "sXEdSdcTKNQv"
   },
   "source": [
    "# Practical example\n",
    "- breast_cancer dataset (breast_cancer2.csv)\n",
    "- https://github.com/jbrownlee/Datasets/blob/master/breast-cancer.csv"
   ]
  },
  {
   "cell_type": "code",
   "execution_count": 3,
   "metadata": {},
   "outputs": [],
   "source": [
    "# when using curl, you should use \"\" in Jupyter, but in Colab, '' also works."
   ]
  },
  {
   "cell_type": "code",
   "execution_count": 2,
   "metadata": {
    "id": "R2GSPO3b8MI8",
    "scrolled": true
   },
   "outputs": [
    {
     "name": "stderr",
     "output_type": "stream",
     "text": [
      "  % Total    % Received % Xferd  Average Speed   Time    Time     Time  Current\n",
      "                                 Dload  Upload   Total   Spent    Left  Speed\n",
      "\n",
      "  0     0    0     0    0     0      0      0 --:--:-- --:--:-- --:--:--     0\n",
      " 67 24373   67 16452    0     0  31159      0 --:--:-- --:--:-- --:--:-- 31159\n",
      "100 24373  100 24373    0     0  46160      0 --:--:-- --:--:-- --:--:-- 46160\n"
     ]
    }
   ],
   "source": [
    "!curl \"https://raw.githubusercontent.com/jbrownlee/Datasets/master/breast-cancer.csv\" -o breast-cancer2.csv"
   ]
  },
  {
   "cell_type": "code",
   "execution_count": null,
   "metadata": {
    "id": "snUAymtdKhXO"
   },
   "outputs": [],
   "source": [
    "df = pd.read_csv('breast-cancer2.csv', header=None)\n",
    "df.head()"
   ]
  },
  {
   "cell_type": "code",
   "execution_count": null,
   "metadata": {
    "id": "YWFWFdD3LMfM"
   },
   "outputs": [],
   "source": [
    "df.columns=['age','menopause','tumor_size','inv_nodes','node_caps',\n",
    "            'deg_malig','breast','breast_quad','irradiat', 'class']\n",
    "df.head()"
   ]
  },
  {
   "cell_type": "code",
   "execution_count": null,
   "metadata": {
    "id": "mAmqBWxGL2Zk"
   },
   "outputs": [],
   "source": [
    "df.info()"
   ]
  },
  {
   "cell_type": "code",
   "execution_count": null,
   "metadata": {
    "id": "tzLDImYEL74W"
   },
   "outputs": [],
   "source": [
    "df.describe()"
   ]
  },
  {
   "cell_type": "code",
   "execution_count": null,
   "metadata": {
    "id": "7TgFbA1VMH1j"
   },
   "outputs": [],
   "source": [
    "df['age'].value_counts()"
   ]
  },
  {
   "cell_type": "code",
   "execution_count": null,
   "metadata": {
    "id": "QBrWu53TNyZ2"
   },
   "outputs": [],
   "source": [
    "df = df.drop('node_caps', axis=1)\n",
    "df.head()"
   ]
  },
  {
   "cell_type": "code",
   "execution_count": null,
   "metadata": {
    "id": "-ixX9Hi6NzMq"
   },
   "outputs": [],
   "source": [
    "df.isna().sum()"
   ]
  },
  {
   "cell_type": "code",
   "execution_count": null,
   "metadata": {
    "id": "rUrOeJqtNzZl"
   },
   "outputs": [],
   "source": [
    "df = df.dropna()\n",
    "df.head().T"
   ]
  },
  {
   "cell_type": "code",
   "execution_count": null,
   "metadata": {
    "id": "qCu2Zt_WNzdh"
   },
   "outputs": [],
   "source": [
    "df.describe()"
   ]
  },
  {
   "cell_type": "code",
   "execution_count": null,
   "metadata": {
    "id": "Td5FPh-xTGw9"
   },
   "outputs": [],
   "source": [
    "from sklearn.linear_model import LinearRegression\n",
    "from sklearn.model_selection import train_test_split\n",
    "from sklearn.linear_model import LogisticRegression"
   ]
  },
  {
   "cell_type": "code",
   "execution_count": null,
   "metadata": {
    "id": "qFDWvNFONzkh"
   },
   "outputs": [],
   "source": [
    "X, y = df.values[:, :-1], df.values[:,-1]\n",
    "oe = OrdinalEncoder()\n",
    "X_enc = oe.fit_transform(X)\n",
    "le = LabelEncoder()\n",
    "y_enc = le.fit_transform(y)\n",
    "oe.categories_, le.classes_"
   ]
  },
  {
   "cell_type": "code",
   "execution_count": null,
   "metadata": {
    "id": "DfV80bC99Yj7"
   },
   "outputs": [],
   "source": [
    "X[:5], X_enc[:5]"
   ]
  },
  {
   "cell_type": "code",
   "execution_count": null,
   "metadata": {
    "id": "KU4-nGtrNzqi"
   },
   "outputs": [],
   "source": [
    "X_train, X_test, y_train, y_test = train_test_split(X_enc, y_enc, test_size=0.2, random_state=1)\n",
    "\n",
    "model = LogisticRegression()\n",
    "model.fit(X_train, y_train)\n",
    "model.score(X_test, y_test)"
   ]
  },
  {
   "cell_type": "code",
   "execution_count": null,
   "metadata": {
    "id": "_fAX4ZN9QaR6"
   },
   "outputs": [],
   "source": [
    "# using One-hot Encoding\n",
    "X, y = df.values[:, :-1], df.values[:,-1]\n",
    "ohe = OneHotEncoder()\n",
    "X_enc2 = ohe.fit_transform(X)\n",
    "le = LabelEncoder()\n",
    "y_enc = le.fit_transform(y)\n",
    "print(ohe.categories_)\n",
    "\n",
    "X_train, X_test, y_train, y_test = train_test_split(X_enc2, y_enc, test_size=0.2, random_state=1)\n",
    "model = LogisticRegression()\n",
    "model.fit(X_train, y_train)\n",
    "model.score(X_test, y_test)"
   ]
  },
  {
   "cell_type": "code",
   "execution_count": null,
   "metadata": {
    "id": "lXmn2Iqr9_-n"
   },
   "outputs": [],
   "source": [
    "X_enc2[:5].toarray()"
   ]
  },
  {
   "cell_type": "markdown",
   "metadata": {
    "id": "pxno3HP9BCTa"
   },
   "source": [
    "# Scaling\n",
    "- Minmax scaling\n",
    "- Standard scaling\n",
    "- Robust Scaling"
   ]
  },
  {
   "cell_type": "code",
   "execution_count": null,
   "metadata": {
    "id": "UUOhbz2oBKjm"
   },
   "outputs": [],
   "source": [
    "df = pd.DataFrame({\n",
    "    'x1': np.random.normal(0, 2, 10000),\n",
    "    'x2': np.random.normal(5, 3, 10000),\n",
    "    'x3': np.random.normal(-5, 5, 10000)\n",
    "})\n",
    "df.head()"
   ]
  },
  {
   "cell_type": "code",
   "execution_count": null,
   "metadata": {
    "id": "Ek4btk3PT0H5"
   },
   "outputs": [],
   "source": [
    "df.plot.kde()  # kernel density estimate"
   ]
  },
  {
   "cell_type": "code",
   "execution_count": null,
   "metadata": {
    "id": "0HaqNv_AT9vO"
   },
   "outputs": [],
   "source": [
    "from sklearn.preprocessing import StandardScaler, MinMaxScaler, RobustScaler\n",
    "ss = StandardScaler()\n",
    "data_tf = ss.fit_transform(df)     # returns an array\n",
    "df = pd.DataFrame(data_tf, columns=['x1','x2','x3'])\n",
    "df.plot.kde()"
   ]
  },
  {
   "cell_type": "code",
   "execution_count": null,
   "metadata": {
    "id": "Z2WnByzpUGm3"
   },
   "outputs": [],
   "source": [
    "df = pd.DataFrame({\n",
    "    # positive skew\n",
    "    'x1': np.random.chisquare(8, 1000),\n",
    "    # negative skew \n",
    "    'x2': np.random.beta(8, 2, 1000) * 40,\n",
    "    # no skew\n",
    "    'x3': np.random.normal(50, 3, 1000)\n",
    "})\n",
    "\n",
    "df.plot.kde()"
   ]
  },
  {
   "cell_type": "code",
   "execution_count": null,
   "metadata": {
    "id": "eK0KconNULZ8"
   },
   "outputs": [],
   "source": [
    "mm = MinMaxScaler()\n",
    "data_tf = mm.fit_transform(df)\n",
    "df1 = pd.DataFrame(data_tf,columns=['x1','x2','x3'])\n",
    "\n",
    "sc = StandardScaler()\n",
    "data_tf = sc.fit_transform(df)\n",
    "df2 = pd.DataFrame(data_tf,columns=['x1','x2','x3'])\n",
    "\n",
    "rb = RobustScaler()\n",
    "data_tf = rb.fit_transform(df)\n",
    "df3 = pd.DataFrame(data_tf,columns=['x1','x2','x3'])\n",
    "\n",
    "fig, axes = plt.subplots(1, 3, figsize=(16,6))\n",
    "df1.plot.kde(ax=axes[0])\n",
    "df2.plot.kde(ax=axes[1])\n",
    "df3.plot.kde(ax=axes[2])"
   ]
  },
  {
   "cell_type": "code",
   "execution_count": null,
   "metadata": {
    "id": "CSthnANEX6Uq"
   },
   "outputs": [],
   "source": [
    "df = pd.DataFrame({\n",
    "    # Distribution with lower outliers\n",
    "    'x1': np.concatenate([np.random.normal(10, 10, 1000), np.random.normal(-90, 1, 50)]),\n",
    "    # Distribution with higher outliers\n",
    "    'x2': np.concatenate([np.random.normal(30, 20, 1000), np.random.normal(200, 2, 50)]),\n",
    "})\n",
    "df.plot.kde()"
   ]
  },
  {
   "cell_type": "code",
   "execution_count": null,
   "metadata": {
    "id": "rKVgDcOZY7E9"
   },
   "outputs": [],
   "source": [
    "sc = StandardScaler()\n",
    "data_tf = sc.fit_transform(df)\n",
    "df1 = pd.DataFrame(data_tf,columns=['x1','x2'])\n",
    "\n",
    "rb = RobustScaler()\n",
    "data_tf = rb.fit_transform(df)\n",
    "df2 = pd.DataFrame(data_tf,columns=['x1','x2'])\n",
    "\n",
    "fig, axes = plt.subplots(1, 2, figsize=(14,3))\n",
    "df1.plot.kde(ax=axes[0])\n",
    "df2.plot.kde(ax=axes[1])"
   ]
  },
  {
   "cell_type": "markdown",
   "metadata": {
    "id": "WiQUUtzrbtMx"
   },
   "source": [
    "# For your reference"
   ]
  },
  {
   "cell_type": "code",
   "execution_count": null,
   "metadata": {
    "id": "Hbmv-eiyZ_UJ"
   },
   "outputs": [],
   "source": [
    "fig, axes = plt.subplots(1, 3, figsize=(12,4))\n",
    "df.boxplot(ax=axes[0])\n",
    "df1.boxplot(ax=axes[1])\n",
    "df2.boxplot(ax=axes[2])"
   ]
  },
  {
   "cell_type": "code",
   "execution_count": null,
   "metadata": {
    "id": "igExXJ99b0BA"
   },
   "outputs": [],
   "source": [
    "df = pd.DataFrame(np.random.normal(10, 10, 1000))\n",
    "sc = StandardScaler()\n",
    "data_tf = sc.fit_transform(df)\n",
    "df1 = pd.DataFrame(data_tf)\n",
    "\n",
    "fig, axes = plt.subplots(1, 2, figsize=(12,4))\n",
    "df.boxplot(ax=axes[0])\n",
    "df1.boxplot(ax=axes[1])"
   ]
  },
  {
   "cell_type": "code",
   "execution_count": null,
   "metadata": {
    "id": "Y3U3AkW8dkA3"
   },
   "outputs": [],
   "source": []
  }
 ],
 "metadata": {
  "colab": {
   "authorship_tag": "ABX9TyNuI3HuAETxWWY9Skr8gzTo",
   "collapsed_sections": [],
   "name": "code7_data_transform.ipynb",
   "private_outputs": true,
   "provenance": []
  },
  "kernelspec": {
   "display_name": "Python 3",
   "language": "python",
   "name": "python3"
  },
  "language_info": {
   "codemirror_mode": {
    "name": "ipython",
    "version": 3
   },
   "file_extension": ".py",
   "mimetype": "text/x-python",
   "name": "python",
   "nbconvert_exporter": "python",
   "pygments_lexer": "ipython3",
   "version": "3.7.6"
  }
 },
 "nbformat": 4,
 "nbformat_minor": 1
}
