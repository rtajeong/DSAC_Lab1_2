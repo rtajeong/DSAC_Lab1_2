{
 "cells": [
  {
   "cell_type": "markdown",
   "metadata": {},
   "source": [
    "# String exercise"
   ]
  },
  {
   "cell_type": "code",
   "execution_count": 1,
   "metadata": {},
   "outputs": [],
   "source": [
    "import numpy as np\n",
    "import pandas as pd\n",
    "import matplotlib.pyplot as plt\n",
    "%matplotlib inline"
   ]
  },
  {
   "cell_type": "code",
   "execution_count": 53,
   "metadata": {},
   "outputs": [
    {
     "name": "stderr",
     "output_type": "stream",
     "text": [
      "  % Total    % Received % Xferd  Average Speed   Time    Time     Time  Current\n",
      "                                 Dload  Upload   Total   Spent    Left  Speed\n",
      "\n",
      "  0     0    0     0    0     0      0      0 --:--:-- --:--:-- --:--:--     0\n",
      "100 19816  100 19816    0     0   129k      0 --:--:-- --:--:-- --:--:--  130k\n"
     ]
    }
   ],
   "source": [
    "!curl http://opentechschool.github.io/python-data-intro/files/radishsurvey.txt \\\n",
    "    -o radishsurvey.txt"
   ]
  },
  {
   "cell_type": "code",
   "execution_count": 54,
   "metadata": {},
   "outputs": [
    {
     "name": "stdout",
     "output_type": "stream",
     "text": [
      " C 드라이브의 볼륨: 로컬 디스크\n",
      " 볼륨 일련 번호: A216-362F\n",
      "\n",
      " C:\\Users\\pharm\\Desktop\\DSAC_Lab 디렉터리\n",
      "\n",
      "2020-08-12  오전 10:34    <DIR>          .\n",
      "2020-08-12  오전 10:34    <DIR>          ..\n",
      "2020-08-12  오전 10:16    <DIR>          .ipynb_checkpoints\n",
      "2020-08-12  오전 10:10             6,901 lab1.ipynb\n",
      "2020-08-12  오전 10:34             4,597 lab2.ipynb\n",
      "2020-08-12  오전 10:34            19,816 radishsurvey.txt\n",
      "               3개 파일              31,314 바이트\n",
      "               3개 디렉터리  35,631,620,096 바이트 남음\n"
     ]
    }
   ],
   "source": [
    "!dir"
   ]
  },
  {
   "cell_type": "code",
   "execution_count": 56,
   "metadata": {},
   "outputs": [],
   "source": [
    "# !type radishsurvey.txt"
   ]
  },
  {
   "cell_type": "code",
   "execution_count": 67,
   "metadata": {},
   "outputs": [],
   "source": [
    "counts = {}\n",
    "\n",
    "with open(\"radishsurvey.txt\") as f:\n",
    "    for line in f:\n",
    "        # print(line)\n",
    "        line = line.strip()\n",
    "        name = line.split(\" - \")[0]\n",
    "        vote = line.split(\" - \")[1]\n",
    "        vote = vote.strip().capitalize().replace(\"  \",\" \")\n",
    "        if vote not in counts:\n",
    "            counts[vote] = 1\n",
    "        else: \n",
    "            counts[vote] = counts[vote] + 1"
   ]
  },
  {
   "cell_type": "code",
   "execution_count": 68,
   "metadata": {},
   "outputs": [
    {
     "data": {
      "text/plain": [
       "{'April cross': 72,\n",
       " 'Champion': 76,\n",
       " 'Cherry belle': 58,\n",
       " 'Snow belle': 63,\n",
       " 'Bunny tail': 72,\n",
       " 'Sicily giant': 57,\n",
       " 'Plum purple': 57,\n",
       " 'Red king': 56,\n",
       " 'Daikon': 63,\n",
       " 'White icicle': 65,\n",
       " 'French breakfast': 72}"
      ]
     },
     "execution_count": 68,
     "metadata": {},
     "output_type": "execute_result"
    }
   ],
   "source": [
    "counts"
   ]
  },
  {
   "cell_type": "markdown",
   "metadata": {},
   "source": [
    "## 두 번 투표한 사람 찾기"
   ]
  },
  {
   "cell_type": "code",
   "execution_count": 74,
   "metadata": {},
   "outputs": [
    {
     "name": "stdout",
     "output_type": "stream",
     "text": [
      "Phoebe Barwell has already voted for  Plum purple Fraud!!!\n",
      "Procopio Zito has already voted for  White icicle Fraud!!!\n",
      "April cross:72\n",
      "Champion:76\n",
      "Cherry belle:58\n",
      "Snow belle:63\n",
      "Bunny tail:72\n",
      "Sicily giant:57\n",
      "Plum purple:56\n",
      "Red king:56\n",
      "Daikon:63\n",
      "White icicle:64\n",
      "French breakfast:72\n"
     ]
    }
   ],
   "source": [
    "counts = {}\n",
    "voted = []\n",
    "\n",
    "with open(\"radishsurvey.txt\") as f:\n",
    "    for line in f:\n",
    "        # print(line)\n",
    "        line = line.strip()\n",
    "        name = line.split(\" - \")[0]\n",
    "        vote = line.split(\" - \")[1]\n",
    "        vote = vote.strip().capitalize().replace(\"  \",\" \")\n",
    "        \n",
    "        if name not in voted:\n",
    "            voted.append(name)\n",
    "        else:\n",
    "            print(name, \"has already voted for \", vote, \"Fraud!!!\")\n",
    "            continue\n",
    "        \n",
    "        if vote not in counts:\n",
    "            counts[vote] = 1\n",
    "        else: \n",
    "            counts[vote] = counts[vote] + 1\n",
    "\n",
    "for i in counts:\n",
    "    print(i + \":\" + str(counts[i]))\n"
   ]
  },
  {
   "cell_type": "code",
   "execution_count": 73,
   "metadata": {
    "scrolled": true
   },
   "outputs": [
    {
     "name": "stdout",
     "output_type": "stream",
     "text": [
      "April cross:72\n",
      "Champion:76\n",
      "Cherry belle:58\n",
      "Snow belle:63\n",
      "Bunny tail:72\n",
      "Sicily giant:57\n",
      "Plum purple:56\n",
      "Red king:56\n",
      "Daikon:63\n",
      "White icicle:64\n",
      "French breakfast:72\n"
     ]
    }
   ],
   "source": [
    "for i in counts:\n",
    "    print(i + \":\" + str(counts[i]))"
   ]
  },
  {
   "cell_type": "code",
   "execution_count": 81,
   "metadata": {},
   "outputs": [],
   "source": [
    "x_radish = []\n",
    "y_counts = []\n",
    "\n",
    "for i in counts:\n",
    "    x_radish.append(i)\n",
    "    y_counts.append(counts[i])"
   ]
  },
  {
   "cell_type": "code",
   "execution_count": 82,
   "metadata": {},
   "outputs": [
    {
     "data": {
      "text/plain": [
       "['April cross',\n",
       " 'Champion',\n",
       " 'Cherry belle',\n",
       " 'Snow belle',\n",
       " 'Bunny tail',\n",
       " 'Sicily giant',\n",
       " 'Plum purple',\n",
       " 'Red king',\n",
       " 'Daikon',\n",
       " 'White icicle',\n",
       " 'French breakfast']"
      ]
     },
     "execution_count": 82,
     "metadata": {},
     "output_type": "execute_result"
    }
   ],
   "source": [
    "x_radish"
   ]
  },
  {
   "cell_type": "code",
   "execution_count": 83,
   "metadata": {},
   "outputs": [
    {
     "data": {
      "text/plain": [
       "[72, 76, 58, 63, 72, 57, 56, 56, 63, 64, 72]"
      ]
     },
     "execution_count": 83,
     "metadata": {},
     "output_type": "execute_result"
    }
   ],
   "source": [
    "y_counts"
   ]
  },
  {
   "cell_type": "code",
   "execution_count": 86,
   "metadata": {},
   "outputs": [
    {
     "data": {
      "image/png": "[encoded data removed]",
      "text/plain": [
       "<Figure size 432x288 with 1 Axes>"
      ]
     },
     "metadata": {
      "needs_background": "light"
     },
     "output_type": "display_data"
    }
   ],
   "source": [
    "plt.bar(x_radish, y_counts)\n",
    "plt.xticks(rotation=90)\n",
    "plt.show()"
   ]
  },
  {
   "cell_type": "code",
   "execution_count": 88,
   "metadata": {},
   "outputs": [
    {
     "name": "stdout",
     "output_type": "stream",
     "text": [
      "Phoebe Barwell has already voted for  Plum purple Fraud!!!\n",
      "Procopio Zito has already voted for  White icicle Fraud!!!\n",
      "April cross:72\n",
      "Champion:76\n",
      "Cherry belle:58\n",
      "Snow belle:63\n",
      "Bunny tail:72\n",
      "Sicily giant:57\n",
      "Plum purple:56\n",
      "Red king:56\n",
      "Daikon:63\n",
      "White icicle:64\n",
      "French breakfast:72\n"
     ]
    },
    {
     "data": {
      "image/png": "[encoded data removed]",
      "text/plain": [
       "<Figure size 432x288 with 1 Axes>"
      ]
     },
     "metadata": {
      "needs_background": "light"
     },
     "output_type": "display_data"
    }
   ],
   "source": [
    "counts = {}\n",
    "voted = []\n",
    "\n",
    "with open(\"radishsurvey.txt\") as f:\n",
    "    for line in f:\n",
    "        # print(line)\n",
    "        line = line.strip()\n",
    "        name = line.split(\" - \")[0]\n",
    "        vote = line.split(\" - \")[1]\n",
    "        vote = vote.strip().capitalize().replace(\"  \",\" \")\n",
    "        \n",
    "        if name not in voted: voted.append(name)\n",
    "        else: \n",
    "            print(name, \"has already voted for \", vote, \"Fraud!!!\")\n",
    "            continue\n",
    "        \n",
    "        if vote not in counts:  counts[vote] = 1\n",
    "        else: counts[vote] = counts[vote] + 1\n",
    "\n",
    "for i in counts:\n",
    "    print(i + \":\" + str(counts[i]))\n",
    "\n",
    "x_radish = []\n",
    "y_counts = []\n",
    "\n",
    "for i in counts:\n",
    "    x_radish.append(i)\n",
    "    y_counts.append(counts[i])\n",
    "\n",
    "plt.bar(x_radish, y_counts)\n",
    "plt.xticks(rotation=90)\n",
    "plt.show()"
   ]
  },
  {
   "cell_type": "markdown",
   "metadata": {},
   "source": [
    "### function"
   ]
  },
  {
   "cell_type": "code",
   "execution_count": 78,
   "metadata": {},
   "outputs": [],
   "source": [
    "def myfunc(a=100):\n",
    "    return a*a*a"
   ]
  },
  {
   "cell_type": "code",
   "execution_count": 79,
   "metadata": {},
   "outputs": [
    {
     "data": {
      "text/plain": [
       "125"
      ]
     },
     "execution_count": 79,
     "metadata": {},
     "output_type": "execute_result"
    }
   ],
   "source": [
    "x = myfunc(5)\n",
    "x"
   ]
  },
  {
   "cell_type": "code",
   "execution_count": 80,
   "metadata": {},
   "outputs": [
    {
     "data": {
      "text/plain": [
       "1000000"
      ]
     },
     "execution_count": 80,
     "metadata": {},
     "output_type": "execute_result"
    }
   ],
   "source": [
    "myfunc()"
   ]
  },
  {
   "cell_type": "code",
   "execution_count": null,
   "metadata": {},
   "outputs": [],
   "source": []
  },
  {
   "cell_type": "code",
   "execution_count": null,
   "metadata": {},
   "outputs": [],
   "source": []
  },
  {
   "cell_type": "markdown",
   "metadata": {},
   "source": [
    "# Ex"
   ]
  },
  {
   "cell_type": "code",
   "execution_count": 25,
   "metadata": {},
   "outputs": [
    {
     "data": {
      "text/plain": [
       "[1, 2, 3]"
      ]
     },
     "execution_count": 25,
     "metadata": {},
     "output_type": "execute_result"
    }
   ],
   "source": [
    "a = [1,2,3]; a"
   ]
  },
  {
   "cell_type": "code",
   "execution_count": 39,
   "metadata": {},
   "outputs": [],
   "source": [
    "a.append(4)"
   ]
  },
  {
   "cell_type": "code",
   "execution_count": 40,
   "metadata": {},
   "outputs": [
    {
     "data": {
      "text/plain": [
       "[1, 2, 3, 4, 4, 4, 4, 4, 4, 4, 4, 4, 4, 4, 4, 4, 4]"
      ]
     },
     "execution_count": 40,
     "metadata": {},
     "output_type": "execute_result"
    }
   ],
   "source": [
    "a"
   ]
  },
  {
   "cell_type": "code",
   "execution_count": 43,
   "metadata": {},
   "outputs": [
    {
     "data": {
      "text/plain": [
       "3"
      ]
     },
     "execution_count": 43,
     "metadata": {},
     "output_type": "execute_result"
    }
   ],
   "source": [
    "a[-1]"
   ]
  },
  {
   "cell_type": "code",
   "execution_count": 45,
   "metadata": {},
   "outputs": [
    {
     "data": {
      "text/plain": [
       "[2, 3, 4, 4]"
      ]
     },
     "execution_count": 45,
     "metadata": {},
     "output_type": "execute_result"
    }
   ],
   "source": [
    "a[1:5]"
   ]
  },
  {
   "cell_type": "code",
   "execution_count": 46,
   "metadata": {},
   "outputs": [
    {
     "data": {
      "text/plain": [
       "{'name': 'Hong', 'age': 45}"
      ]
     },
     "execution_count": 46,
     "metadata": {},
     "output_type": "execute_result"
    }
   ],
   "source": [
    "d = {\"name\":\"Hong\", \"age\":45}\n",
    "d"
   ]
  },
  {
   "cell_type": "code",
   "execution_count": 48,
   "metadata": {},
   "outputs": [],
   "source": [
    "d[\"name\"] = \"Kim\""
   ]
  },
  {
   "cell_type": "code",
   "execution_count": 49,
   "metadata": {},
   "outputs": [
    {
     "data": {
      "text/plain": [
       "{'name': 'Kim', 'age': 45}"
      ]
     },
     "execution_count": 49,
     "metadata": {},
     "output_type": "execute_result"
    }
   ],
   "source": [
    "d"
   ]
  },
  {
   "cell_type": "code",
   "execution_count": 51,
   "metadata": {},
   "outputs": [],
   "source": [
    "d[\"address\"] = \"Daejun\""
   ]
  },
  {
   "cell_type": "code",
   "execution_count": 52,
   "metadata": {},
   "outputs": [
    {
     "data": {
      "text/plain": [
       "{'name': 'Kim', 'age': 45, 'address': 'Daejun'}"
      ]
     },
     "execution_count": 52,
     "metadata": {},
     "output_type": "execute_result"
    }
   ],
   "source": [
    "d"
   ]
  },
  {
   "cell_type": "code",
   "execution_count": 89,
   "metadata": {},
   "outputs": [
    {
     "data": {
      "text/plain": [
       "{}"
      ]
     },
     "execution_count": 89,
     "metadata": {},
     "output_type": "execute_result"
    }
   ],
   "source": [
    "d2 = {}\n",
    "d2"
   ]
  },
  {
   "cell_type": "code",
   "execution_count": 90,
   "metadata": {},
   "outputs": [
    {
     "data": {
      "text/plain": [
       "{'A': 40}"
      ]
     },
     "execution_count": 90,
     "metadata": {},
     "output_type": "execute_result"
    }
   ],
   "source": [
    "d2['A'] = 40\n",
    "d2"
   ]
  },
  {
   "cell_type": "code",
   "execution_count": null,
   "metadata": {},
   "outputs": [],
   "source": []
  }
 ],
 "metadata": {
  "kernelspec": {
   "display_name": "Python 3",
   "language": "python",
   "name": "python3"
  },
  "language_info": {
   "codemirror_mode": {
    "name": "ipython",
    "version": 3
   },
   "file_extension": ".py",
   "mimetype": "text/x-python",
   "name": "python",
   "nbconvert_exporter": "python",
   "pygments_lexer": "ipython3",
   "version": "3.8.3"
  }
 },
 "nbformat": 4,
 "nbformat_minor": 4
}
