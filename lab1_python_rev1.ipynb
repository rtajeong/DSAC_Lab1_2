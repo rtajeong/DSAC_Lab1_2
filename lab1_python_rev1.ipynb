{
  "nbformat": 4,
  "nbformat_minor": 0,
  "metadata": {
    "kernelspec": {
      "display_name": "Python 3",
      "language": "python",
      "name": "python3"
    },
    "language_info": {
      "codemirror_mode": {
        "name": "ipython",
        "version": 3
      },
      "file_extension": ".py",
      "mimetype": "text/x-python",
      "name": "python",
      "nbconvert_exporter": "python",
      "pygments_lexer": "ipython3",
      "version": "3.7.6"
    },
    "colab": {
      "name": "lab1_python_rev1.ipynb",
      "provenance": [],
      "collapsed_sections": [
        "5My4N2FQ22g9",
        "EZUdUmD522hD",
        "5-2YsZ1H22hR"
      ],
      "toc_visible": true,
      "include_colab_link": true
    }
  },
  "cells": [
    {
      "cell_type": "markdown",
      "metadata": {
        "id": "view-in-github",
        "colab_type": "text"
      },
      "source": [
        "<a href=\"https://colab.research.google.com/github/rtajeong/DSAC_Lab1_2/blob/master/lab1_python_rev1.ipynb\" target=\"_parent\"><img src=\"https://colab.research.google.com/assets/colab-badge.svg\" alt=\"Open In Colab\"/></a>"
      ]
    },
    {
      "cell_type": "markdown",
      "metadata": {
        "id": "dFr3oJCx22g6"
      },
      "source": [
        "# Tips for keys in Jupyter\n",
        "\n",
        "## In command mode (blue colored cell)\n",
        " - Shift-Enter : execute and go to the next cell\n",
        " - Ctl-Enter : execute and stay\n",
        " - Alt-Enter : execute and create a new cell\n",
        " - a/b : create a new cell in above/below\n",
        " - x: delete cell\n",
        " - shift-m : merge two cells\n",
        "\n",
        "\n",
        "## In edit mode (green colored cell)\n",
        "- ctl-shift-\"-\" : separate cell"
      ]
    },
    {
      "cell_type": "markdown",
      "metadata": {
        "id": "sA-sSKQ32_5Y"
      },
      "source": [
        "# Tips for Colab\n",
        "- ctl-M / : merge cells\n",
        "- ctl-M - : split a cell\n",
        "- ctl-M M : code -> text\n",
        "- ctl-M Y : text -> code"
      ]
    },
    {
      "cell_type": "markdown",
      "metadata": {
        "id": "5My4N2FQ22g9"
      },
      "source": [
        "## Basic Variables\n",
        "- int\n",
        "- float\n",
        "- boolean"
      ]
    },
    {
      "cell_type": "code",
      "metadata": {
        "id": "vVVN1aB_22g_"
      },
      "source": [
        "a = 100\n",
        "b = 3.7\n",
        "c = True\n",
        "d = a + b"
      ],
      "execution_count": null,
      "outputs": []
    },
    {
      "cell_type": "code",
      "metadata": {
        "id": "Yr35q7nN22hA",
        "outputId": "592d6e35-359f-401e-866f-c4ca1dc6c7f7"
      },
      "source": [
        "a, b, c, d"
      ],
      "execution_count": null,
      "outputs": [
        {
          "output_type": "execute_result",
          "data": {
            "text/plain": [
              "(100, 3.7, True, 103.7)"
            ]
          },
          "metadata": {
            "tags": []
          },
          "execution_count": 40
        }
      ]
    },
    {
      "cell_type": "code",
      "metadata": {
        "id": "zcYtExwk22hB",
        "outputId": "fb22c21e-1b3c-45a6-c758-5c29cc988b41"
      },
      "source": [
        "type(a), type(b), type(c), type(d)"
      ],
      "execution_count": null,
      "outputs": [
        {
          "output_type": "execute_result",
          "data": {
            "text/plain": [
              "(int, float, bool, float)"
            ]
          },
          "metadata": {
            "tags": []
          },
          "execution_count": 43
        }
      ]
    },
    {
      "cell_type": "code",
      "metadata": {
        "id": "2hIPyEIB22hC",
        "outputId": "1cd8d7ab-40f4-4b98-daa6-aaddf4ab4155"
      },
      "source": [
        "a + c + True + False       # True = 1, False = 0"
      ],
      "execution_count": null,
      "outputs": [
        {
          "output_type": "execute_result",
          "data": {
            "text/plain": [
              "102"
            ]
          },
          "metadata": {
            "tags": []
          },
          "execution_count": 42
        }
      ]
    },
    {
      "cell_type": "markdown",
      "metadata": {
        "id": "EZUdUmD522hD"
      },
      "source": [
        "## Container Variables\n",
        "- string (str)\n",
        "- list\n",
        "- tuple\n",
        "- dictionary (dict)"
      ]
    },
    {
      "cell_type": "code",
      "metadata": {
        "id": "wmcHD7Nv22hE"
      },
      "source": [
        "s = \"heLLo\""
      ],
      "execution_count": null,
      "outputs": []
    },
    {
      "cell_type": "code",
      "metadata": {
        "id": "EV4DzUgH22hF",
        "outputId": "a199bb32-863d-403e-fb56-2f789627f85d"
      },
      "source": [
        "s, type(s)"
      ],
      "execution_count": null,
      "outputs": [
        {
          "output_type": "execute_result",
          "data": {
            "text/plain": [
              "('heLLo', str)"
            ]
          },
          "metadata": {
            "tags": []
          },
          "execution_count": 51
        }
      ]
    },
    {
      "cell_type": "code",
      "metadata": {
        "id": "LicQBpDq22hG"
      },
      "source": [
        "# dir(s)"
      ],
      "execution_count": null,
      "outputs": []
    },
    {
      "cell_type": "code",
      "metadata": {
        "id": "YY7jnJg-22hH",
        "outputId": "f7cde09e-7157-4e3c-cac5-3e4dadac7dc5"
      },
      "source": [
        "s.capitalize(), s.isalpha(), s.isdigit(), s.isupper(), s.islower(), s.isspace()"
      ],
      "execution_count": null,
      "outputs": [
        {
          "output_type": "execute_result",
          "data": {
            "text/plain": [
              "('Hello', True, False, False, False, False)"
            ]
          },
          "metadata": {
            "tags": []
          },
          "execution_count": 59
        }
      ]
    },
    {
      "cell_type": "code",
      "metadata": {
        "id": "PS5X3HTr22hH",
        "outputId": "d7788833-4561-4b98-c19e-f27e35c1251a"
      },
      "source": [
        "\"   Too many spaces.       \".strip()"
      ],
      "execution_count": null,
      "outputs": [
        {
          "output_type": "execute_result",
          "data": {
            "text/plain": [
              "'Too many spaces.'"
            ]
          },
          "metadata": {
            "tags": []
          },
          "execution_count": 62
        }
      ]
    },
    {
      "cell_type": "code",
      "metadata": {
        "id": "-FkNWHPQ22hI",
        "outputId": "fedafe45-0b23-4108-fb15-7c4cfb645ae9"
      },
      "source": [
        "\"HELLO\".replace(\"E\",\"e\")"
      ],
      "execution_count": null,
      "outputs": [
        {
          "output_type": "execute_result",
          "data": {
            "text/plain": [
              "'HeLLO'"
            ]
          },
          "metadata": {
            "tags": []
          },
          "execution_count": 63
        }
      ]
    },
    {
      "cell_type": "code",
      "metadata": {
        "id": "knP8Y_aZ22hI",
        "outputId": "4be2b752-a6b8-4532-9ca7-0e00809cd460"
      },
      "source": [
        "\"I am home\".split(' ')"
      ],
      "execution_count": null,
      "outputs": [
        {
          "output_type": "execute_result",
          "data": {
            "text/plain": [
              "['I', 'am', 'home']"
            ]
          },
          "metadata": {
            "tags": []
          },
          "execution_count": 64
        }
      ]
    },
    {
      "cell_type": "code",
      "metadata": {
        "id": "26CRbioC22hJ",
        "outputId": "2d985be8-3fe7-45b5-e188-72734f32e043"
      },
      "source": [
        "\":\".join(['1','2','3'])"
      ],
      "execution_count": null,
      "outputs": [
        {
          "output_type": "execute_result",
          "data": {
            "text/plain": [
              "'1:2:3'"
            ]
          },
          "metadata": {
            "tags": []
          },
          "execution_count": 65
        }
      ]
    },
    {
      "cell_type": "code",
      "metadata": {
        "id": "egCdCEh022hK"
      },
      "source": [
        "s1 = \"hello\""
      ],
      "execution_count": null,
      "outputs": []
    },
    {
      "cell_type": "code",
      "metadata": {
        "id": "nA4mfq8_22hK",
        "outputId": "e0d553ba-8a8c-40cf-ce0e-3d6e8025124d"
      },
      "source": [
        "s1[0], s1[-1]   # indexing"
      ],
      "execution_count": null,
      "outputs": [
        {
          "output_type": "execute_result",
          "data": {
            "text/plain": [
              "('h', 'o')"
            ]
          },
          "metadata": {
            "tags": []
          },
          "execution_count": 71
        }
      ]
    },
    {
      "cell_type": "code",
      "metadata": {
        "id": "JUpm7XH122hL",
        "outputId": "95b4a03a-4c8d-4c43-c938-7eedd8916f41"
      },
      "source": [
        "s1[0:3]        # slicing (last item excluded)"
      ],
      "execution_count": null,
      "outputs": [
        {
          "output_type": "execute_result",
          "data": {
            "text/plain": [
              "'hel'"
            ]
          },
          "metadata": {
            "tags": []
          },
          "execution_count": 73
        }
      ]
    },
    {
      "cell_type": "code",
      "metadata": {
        "id": "gWryXzJL22hL",
        "outputId": "d7ba2c1c-416c-4841-fc50-9de5673b2540"
      },
      "source": [
        "s1[0] = \"H\"    # error (immutable or unchangable)"
      ],
      "execution_count": null,
      "outputs": [
        {
          "output_type": "error",
          "ename": "TypeError",
          "evalue": "'str' object does not support item assignment",
          "traceback": [
            "\u001b[1;31m---------------------------------------------------------------------------\u001b[0m",
            "\u001b[1;31mTypeError\u001b[0m                                 Traceback (most recent call last)",
            "\u001b[1;32m<ipython-input-77-336d7de443b4>\u001b[0m in \u001b[0;36m<module>\u001b[1;34m\u001b[0m\n\u001b[1;32m----> 1\u001b[1;33m \u001b[0ms1\u001b[0m\u001b[1;33m[\u001b[0m\u001b[1;36m0\u001b[0m\u001b[1;33m]\u001b[0m \u001b[1;33m=\u001b[0m \u001b[1;34m\"H\"\u001b[0m    \u001b[1;31m# error (immutable or unchangable)\u001b[0m\u001b[1;33m\u001b[0m\u001b[1;33m\u001b[0m\u001b[0m\n\u001b[0m",
            "\u001b[1;31mTypeError\u001b[0m: 'str' object does not support item assignment"
          ]
        }
      ]
    },
    {
      "cell_type": "code",
      "metadata": {
        "id": "N5FHzGKE22hL"
      },
      "source": [
        "list_1 = [1,2,3,4]\n",
        "tuple_1 = (1,2,3,4)\n",
        "dict_1 = {\"last\": \" Hong\", \"first\": \"Gil-Dong\"}"
      ],
      "execution_count": null,
      "outputs": []
    },
    {
      "cell_type": "code",
      "metadata": {
        "id": "tLppcabG22hM",
        "outputId": "8a3036cd-2a4c-4b41-98e9-37fc6a4d4c6d"
      },
      "source": [
        "list_1, tuple_1, dict_1, type(list_1), type(tuple_1), type(dict_1)"
      ],
      "execution_count": null,
      "outputs": [
        {
          "output_type": "execute_result",
          "data": {
            "text/plain": [
              "([1, 2, 3, 4],\n",
              " (1, 2, 3, 4),\n",
              " {'last': ' Hong', 'first': 'Gil-Dong'},\n",
              " list,\n",
              " tuple,\n",
              " dict)"
            ]
          },
          "metadata": {
            "tags": []
          },
          "execution_count": 82
        }
      ]
    },
    {
      "cell_type": "code",
      "metadata": {
        "id": "8iqDnElw22hM",
        "outputId": "2e22e6b5-6e78-453b-ca5d-9df48a6bba73"
      },
      "source": [
        "list_1[0], tuple_1[0], dict_1[\"last\"]"
      ],
      "execution_count": null,
      "outputs": [
        {
          "output_type": "execute_result",
          "data": {
            "text/plain": [
              "(1, 1, ' Hong')"
            ]
          },
          "metadata": {
            "tags": []
          },
          "execution_count": 83
        }
      ]
    },
    {
      "cell_type": "code",
      "metadata": {
        "id": "aW8lAxYR22hM",
        "outputId": "9cd0394e-8695-4ee2-bafe-b90b51c2f992"
      },
      "source": [
        "list_1[0] = 100     # mutable\n",
        "list_1"
      ],
      "execution_count": null,
      "outputs": [
        {
          "output_type": "execute_result",
          "data": {
            "text/plain": [
              "[100, 2, 3, 4]"
            ]
          },
          "metadata": {
            "tags": []
          },
          "execution_count": 84
        }
      ]
    },
    {
      "cell_type": "code",
      "metadata": {
        "scrolled": true,
        "id": "G3aE4AOH22hN",
        "outputId": "558607da-76fd-45d9-aedb-4220d8dded8e"
      },
      "source": [
        "tuple_1[0] = 100     # error (immutable)\n",
        "tuple_1"
      ],
      "execution_count": null,
      "outputs": [
        {
          "output_type": "error",
          "ename": "TypeError",
          "evalue": "'tuple' object does not support item assignment",
          "traceback": [
            "\u001b[1;31m---------------------------------------------------------------------------\u001b[0m",
            "\u001b[1;31mTypeError\u001b[0m                                 Traceback (most recent call last)",
            "\u001b[1;32m<ipython-input-85-507a829ea41f>\u001b[0m in \u001b[0;36m<module>\u001b[1;34m\u001b[0m\n\u001b[1;32m----> 1\u001b[1;33m \u001b[0mtuple_1\u001b[0m\u001b[1;33m[\u001b[0m\u001b[1;36m0\u001b[0m\u001b[1;33m]\u001b[0m \u001b[1;33m=\u001b[0m \u001b[1;36m100\u001b[0m\u001b[1;33m\u001b[0m\u001b[1;33m\u001b[0m\u001b[0m\n\u001b[0m\u001b[0;32m      2\u001b[0m \u001b[0mtuple_1\u001b[0m\u001b[1;33m\u001b[0m\u001b[1;33m\u001b[0m\u001b[0m\n",
            "\u001b[1;31mTypeError\u001b[0m: 'tuple' object does not support item assignment"
          ]
        }
      ]
    },
    {
      "cell_type": "code",
      "metadata": {
        "id": "18jsCitc22hN",
        "outputId": "2a0c6fc8-d7c9-4076-a038-058216738cce"
      },
      "source": [
        "dict_1[\"last\"] = \"Lim\"     # mutable\n",
        "dict_1"
      ],
      "execution_count": null,
      "outputs": [
        {
          "output_type": "execute_result",
          "data": {
            "text/plain": [
              "{'last': 'Lim', 'first': 'Gil-Dong'}"
            ]
          },
          "metadata": {
            "tags": []
          },
          "execution_count": 87
        }
      ]
    },
    {
      "cell_type": "code",
      "metadata": {
        "id": "cs5vAgqL22hN",
        "outputId": "b5846be6-204b-45c0-e69a-b735ba853b79"
      },
      "source": [
        "list_2 = [3,4,5] ; list_2"
      ],
      "execution_count": null,
      "outputs": [
        {
          "output_type": "execute_result",
          "data": {
            "text/plain": [
              "[3, 4, 5]"
            ]
          },
          "metadata": {
            "tags": []
          },
          "execution_count": 88
        }
      ]
    },
    {
      "cell_type": "code",
      "metadata": {
        "id": "BuD85cuq22hN",
        "outputId": "edf2ee33-a2ae-4a85-807c-f26540d103f7"
      },
      "source": [
        "list_2 * 2"
      ],
      "execution_count": null,
      "outputs": [
        {
          "output_type": "execute_result",
          "data": {
            "text/plain": [
              "[3, 4, 5, 3, 4, 5]"
            ]
          },
          "metadata": {
            "tags": []
          },
          "execution_count": 89
        }
      ]
    },
    {
      "cell_type": "code",
      "metadata": {
        "id": "ZnY6cqAZ22hO",
        "outputId": "21a7212a-052b-4731-8318-d84bd44bf651"
      },
      "source": [
        "list_1 + list_2"
      ],
      "execution_count": null,
      "outputs": [
        {
          "output_type": "execute_result",
          "data": {
            "text/plain": [
              "[100, 2, 3, 4, 3, 4, 5]"
            ]
          },
          "metadata": {
            "tags": []
          },
          "execution_count": 91
        }
      ]
    },
    {
      "cell_type": "code",
      "metadata": {
        "id": "C611wvkG22hO",
        "outputId": "224c1977-2e4b-4339-9251-b09061a35337"
      },
      "source": [
        "len(s1), len(list_1)"
      ],
      "execution_count": null,
      "outputs": [
        {
          "output_type": "execute_result",
          "data": {
            "text/plain": [
              "(5, 4)"
            ]
          },
          "metadata": {
            "tags": []
          },
          "execution_count": 93
        }
      ]
    },
    {
      "cell_type": "code",
      "metadata": {
        "id": "tgGHRwep22hO",
        "outputId": "e1d58f2c-26c6-4843-ffc3-d28bf7df4e4b"
      },
      "source": [
        "list_2"
      ],
      "execution_count": null,
      "outputs": [
        {
          "output_type": "execute_result",
          "data": {
            "text/plain": [
              "[3, 4, 5]"
            ]
          },
          "metadata": {
            "tags": []
          },
          "execution_count": 94
        }
      ]
    },
    {
      "cell_type": "code",
      "metadata": {
        "id": "vAMWuAsh22hO",
        "outputId": "815d83ff-c7f9-4e94-d0f2-6ae351a9cd5c"
      },
      "source": [
        "list_2.append(77)\n",
        "list_2"
      ],
      "execution_count": null,
      "outputs": [
        {
          "output_type": "execute_result",
          "data": {
            "text/plain": [
              "[3, 4, 5, 77]"
            ]
          },
          "metadata": {
            "tags": []
          },
          "execution_count": 95
        }
      ]
    },
    {
      "cell_type": "code",
      "metadata": {
        "id": "lJz8xhcl22hP",
        "outputId": "6e95db3e-4f99-437c-abb1-c7989cf99321"
      },
      "source": [
        "list_2.pop()\n",
        "list_2"
      ],
      "execution_count": null,
      "outputs": [
        {
          "output_type": "execute_result",
          "data": {
            "text/plain": [
              "[3, 4, 5]"
            ]
          },
          "metadata": {
            "tags": []
          },
          "execution_count": 96
        }
      ]
    },
    {
      "cell_type": "code",
      "metadata": {
        "id": "hPpYOzXL22hP",
        "outputId": "a7112568-afe2-402c-9082-3265e760b30c"
      },
      "source": [
        "dict_1"
      ],
      "execution_count": null,
      "outputs": [
        {
          "output_type": "execute_result",
          "data": {
            "text/plain": [
              "{'last': 'Lim', 'first': 'Gil-Dong'}"
            ]
          },
          "metadata": {
            "tags": []
          },
          "execution_count": 97
        }
      ]
    },
    {
      "cell_type": "code",
      "metadata": {
        "id": "qshXiHxL22hP",
        "outputId": "af0fe570-5aa9-4cf3-f6fe-1d808d0b8303"
      },
      "source": [
        "dict_1.keys()"
      ],
      "execution_count": null,
      "outputs": [
        {
          "output_type": "execute_result",
          "data": {
            "text/plain": [
              "dict_keys(['last', 'first'])"
            ]
          },
          "metadata": {
            "tags": []
          },
          "execution_count": 98
        }
      ]
    },
    {
      "cell_type": "code",
      "metadata": {
        "id": "yxdlrHaI22hP",
        "outputId": "da4b9318-b920-4faf-c58f-cda4e86ccefc"
      },
      "source": [
        "dict_1.values()"
      ],
      "execution_count": null,
      "outputs": [
        {
          "output_type": "execute_result",
          "data": {
            "text/plain": [
              "dict_values(['Lim', 'Gil-Dong'])"
            ]
          },
          "metadata": {
            "tags": []
          },
          "execution_count": 99
        }
      ]
    },
    {
      "cell_type": "code",
      "metadata": {
        "id": "2YvN9NHl22hP",
        "outputId": "3fcc3bcd-66af-4940-96c6-fa0e4c543a0f"
      },
      "source": [
        "dict_1.items()"
      ],
      "execution_count": null,
      "outputs": [
        {
          "output_type": "execute_result",
          "data": {
            "text/plain": [
              "dict_items([('last', 'Lim'), ('first', 'Gil-Dong')])"
            ]
          },
          "metadata": {
            "tags": []
          },
          "execution_count": 101
        }
      ]
    },
    {
      "cell_type": "code",
      "metadata": {
        "id": "unuR29ok22hQ"
      },
      "source": [
        "# very useful type"
      ],
      "execution_count": null,
      "outputs": []
    },
    {
      "cell_type": "code",
      "metadata": {
        "id": "IiJ9M1cu22hQ",
        "outputId": "a257a34e-e58a-4a16-8148-a3e5fd370988"
      },
      "source": [
        "A = range(5); A"
      ],
      "execution_count": null,
      "outputs": [
        {
          "output_type": "execute_result",
          "data": {
            "text/plain": [
              "range(0, 5)"
            ]
          },
          "metadata": {
            "tags": []
          },
          "execution_count": 103
        }
      ]
    },
    {
      "cell_type": "code",
      "metadata": {
        "id": "j3gjYwhC22hQ",
        "outputId": "eb4878af-6258-46d7-faa9-37a86f3d0272"
      },
      "source": [
        "[x for x in A]"
      ],
      "execution_count": null,
      "outputs": [
        {
          "output_type": "execute_result",
          "data": {
            "text/plain": [
              "[0, 1, 2, 3, 4]"
            ]
          },
          "metadata": {
            "tags": []
          },
          "execution_count": 104
        }
      ]
    },
    {
      "cell_type": "code",
      "metadata": {
        "id": "6vGYbzgd22hQ"
      },
      "source": [
        "x1 = range(1, 20, 5)   # start, end (excluded), stide"
      ],
      "execution_count": null,
      "outputs": []
    },
    {
      "cell_type": "code",
      "metadata": {
        "id": "nR5ajZkF22hQ",
        "outputId": "cd7856b2-1883-44a2-9f5c-a7783c94f81a"
      },
      "source": [
        "for i in x1:\n",
        "    print(i * 10)\n",
        "    "
      ],
      "execution_count": null,
      "outputs": [
        {
          "output_type": "stream",
          "text": [
            "10\n",
            "60\n",
            "110\n",
            "160\n"
          ],
          "name": "stdout"
        }
      ]
    },
    {
      "cell_type": "code",
      "metadata": {
        "id": "F0QfHSp522hQ",
        "outputId": "cef89900-ac66-437b-91bd-c075830ac2fd"
      },
      "source": [
        "[i * 10 for i in x1]"
      ],
      "execution_count": null,
      "outputs": [
        {
          "output_type": "execute_result",
          "data": {
            "text/plain": [
              "[10, 60, 110, 160]"
            ]
          },
          "metadata": {
            "tags": []
          },
          "execution_count": 110
        }
      ]
    },
    {
      "cell_type": "code",
      "metadata": {
        "id": "pFy2PLBo22hQ",
        "outputId": "b91c1ac6-df13-4161-b986-a40513fae047"
      },
      "source": [
        "x = 7\n",
        "if x > 10:\n",
        "    print(\"x is greater than 10.\")\n",
        "elif x > 3:\n",
        "    print (\"x is between 3 and 10.\")\n",
        "else:\n",
        "    print (\"x is lower than or equal to 3.\")"
      ],
      "execution_count": null,
      "outputs": [
        {
          "output_type": "stream",
          "text": [
            "x is between 3 and 10.\n"
          ],
          "name": "stdout"
        }
      ]
    },
    {
      "cell_type": "markdown",
      "metadata": {
        "id": "5-2YsZ1H22hR"
      },
      "source": [
        "## Graph plotting"
      ]
    },
    {
      "cell_type": "code",
      "metadata": {
        "id": "4fFveLE322hR"
      },
      "source": [
        "import matplotlib.pyplot as plt\n",
        "%matplotlib inline\n",
        "import numpy as np"
      ],
      "execution_count": null,
      "outputs": []
    },
    {
      "cell_type": "code",
      "metadata": {
        "id": "K0CJ5th222hR",
        "outputId": "ebff8022-bb6b-4566-b3f4-bddff75967bd"
      },
      "source": [
        "x = range(100)\n",
        "y1 = np.random.rand(100)     # uniform dist (0,1)\n",
        "y2 = np.random.randn (100)   # gaussian (or normal) dist, mean=0, sigma=1\n",
        "plt.scatter(x, y1)\n",
        "plt.scatter(x, y2)"
      ],
      "execution_count": null,
      "outputs": [
        {
          "output_type": "execute_result",
          "data": {
            "text/plain": [
              "<matplotlib.collections.PathCollection at 0x21d54f8dfc8>"
            ]
          },
          "metadata": {
            "tags": []
          },
          "execution_count": 115
        },
        {
          "output_type": "display_data",
          "data": {
            "image/png": "[encoded data removed]",
            "text/plain": [
              "<Figure size 432x288 with 1 Axes>"
            ]
          },
          "metadata": {
            "tags": [],
            "needs_background": "light"
          }
        }
      ]
    },
    {
      "cell_type": "code",
      "metadata": {
        "id": "r_MvN_KY22hR"
      },
      "source": [
        "# Function define"
      ],
      "execution_count": null,
      "outputs": []
    },
    {
      "cell_type": "code",
      "metadata": {
        "id": "VyMPbp8322hR",
        "outputId": "ebc2c99c-3be6-48d2-9ab8-698e093a174c"
      },
      "source": [
        "def my_func(a, b=100):    # default\n",
        "    return a*10 + b\n",
        "\n",
        "my_func(7, 3)"
      ],
      "execution_count": null,
      "outputs": [
        {
          "output_type": "execute_result",
          "data": {
            "text/plain": [
              "73"
            ]
          },
          "metadata": {
            "tags": []
          },
          "execution_count": 122
        }
      ]
    },
    {
      "cell_type": "code",
      "metadata": {
        "id": "K_Gsv16w22hR",
        "outputId": "52634211-0dc6-49a3-cd83-b836b6f23d82"
      },
      "source": [
        "my_func(7)"
      ],
      "execution_count": null,
      "outputs": [
        {
          "output_type": "execute_result",
          "data": {
            "text/plain": [
              "170"
            ]
          },
          "metadata": {
            "tags": []
          },
          "execution_count": 123
        }
      ]
    },
    {
      "cell_type": "code",
      "metadata": {
        "id": "Sq0QC81U22hR"
      },
      "source": [
        "# Object (class)"
      ],
      "execution_count": null,
      "outputs": []
    },
    {
      "cell_type": "code",
      "metadata": {
        "id": "s1QnFF5922hS"
      },
      "source": [
        "import sys\n",
        "class myClass:\n",
        "    \"\"\" This is an example class for Python.\"\"\"\n",
        "    def __init__(self):\n",
        "        self.data = ['1','2']\n",
        "        \n",
        "    i = 10\n",
        "    def j(self):\n",
        "        return \"Hello, world.\""
      ],
      "execution_count": null,
      "outputs": []
    },
    {
      "cell_type": "code",
      "metadata": {
        "id": "FJFiXwgV22hS"
      },
      "source": [
        "x = myClass()"
      ],
      "execution_count": null,
      "outputs": []
    },
    {
      "cell_type": "code",
      "metadata": {
        "id": "oOK5C_gS22hS",
        "outputId": "3ddd5b57-7043-40f8-ef0d-945a4883ec41"
      },
      "source": [
        "x.data"
      ],
      "execution_count": null,
      "outputs": [
        {
          "output_type": "execute_result",
          "data": {
            "text/plain": [
              "['1', '2']"
            ]
          },
          "metadata": {
            "tags": []
          },
          "execution_count": 138
        }
      ]
    },
    {
      "cell_type": "code",
      "metadata": {
        "id": "RePVmGeO22hS",
        "outputId": "18db1d82-274b-4099-e448-30538af52234"
      },
      "source": [
        "x.i"
      ],
      "execution_count": null,
      "outputs": [
        {
          "output_type": "execute_result",
          "data": {
            "text/plain": [
              "10"
            ]
          },
          "metadata": {
            "tags": []
          },
          "execution_count": 139
        }
      ]
    },
    {
      "cell_type": "code",
      "metadata": {
        "id": "tID1A_W-22hS",
        "outputId": "96b8db0b-d2da-4e6a-b88a-d1f0cf697b79"
      },
      "source": [
        "x.j()"
      ],
      "execution_count": null,
      "outputs": [
        {
          "output_type": "execute_result",
          "data": {
            "text/plain": [
              "'Hello, world.'"
            ]
          },
          "metadata": {
            "tags": []
          },
          "execution_count": 140
        }
      ]
    },
    {
      "cell_type": "code",
      "metadata": {
        "id": "ofAh5c4G22hS",
        "outputId": "53043828-1262-4a79-ec17-19f036904c62"
      },
      "source": [
        "x.__doc__"
      ],
      "execution_count": null,
      "outputs": [
        {
          "output_type": "execute_result",
          "data": {
            "text/plain": [
              "' This is an example class for Python.'"
            ]
          },
          "metadata": {
            "tags": []
          },
          "execution_count": 143
        }
      ]
    },
    {
      "cell_type": "code",
      "metadata": {
        "id": "wVvXttVA22hS",
        "outputId": "4acd78ac-5cf5-4449-a567-271942a0d964"
      },
      "source": [
        "help(x)"
      ],
      "execution_count": null,
      "outputs": [
        {
          "output_type": "stream",
          "text": [
            "Help on myClass in module __main__ object:\n",
            "\n",
            "class myClass(builtins.object)\n",
            " |  This is an example class for Python.\n",
            " |  \n",
            " |  Methods defined here:\n",
            " |  \n",
            " |  __init__(self)\n",
            " |      Initialize self.  See help(type(self)) for accurate signature.\n",
            " |  \n",
            " |  j(self)\n",
            " |  \n",
            " |  ----------------------------------------------------------------------\n",
            " |  Data descriptors defined here:\n",
            " |  \n",
            " |  __dict__\n",
            " |      dictionary for instance variables (if defined)\n",
            " |  \n",
            " |  __weakref__\n",
            " |      list of weak references to the object (if defined)\n",
            " |  \n",
            " |  ----------------------------------------------------------------------\n",
            " |  Data and other attributes defined here:\n",
            " |  \n",
            " |  i = 10\n",
            "\n"
          ],
          "name": "stdout"
        }
      ]
    },
    {
      "cell_type": "code",
      "metadata": {
        "id": "6Tj7LP3522hS",
        "outputId": "b2ceaca7-6e31-4dae-a6ba-95e2baebafc3"
      },
      "source": [
        "dir(x)"
      ],
      "execution_count": null,
      "outputs": [
        {
          "output_type": "execute_result",
          "data": {
            "text/plain": [
              "['__class__',\n",
              " '__delattr__',\n",
              " '__dict__',\n",
              " '__dir__',\n",
              " '__doc__',\n",
              " '__eq__',\n",
              " '__format__',\n",
              " '__ge__',\n",
              " '__getattribute__',\n",
              " '__gt__',\n",
              " '__hash__',\n",
              " '__init__',\n",
              " '__init_subclass__',\n",
              " '__le__',\n",
              " '__lt__',\n",
              " '__module__',\n",
              " '__ne__',\n",
              " '__new__',\n",
              " '__reduce__',\n",
              " '__reduce_ex__',\n",
              " '__repr__',\n",
              " '__setattr__',\n",
              " '__sizeof__',\n",
              " '__str__',\n",
              " '__subclasshook__',\n",
              " '__weakref__',\n",
              " 'data',\n",
              " 'i',\n",
              " 'j']"
            ]
          },
          "metadata": {
            "tags": []
          },
          "execution_count": 142
        }
      ]
    },
    {
      "cell_type": "markdown",
      "metadata": {
        "id": "ZLRFTwjL22hT"
      },
      "source": [
        "## coding example\n",
        "- Monte Carlo simulation"
      ]
    },
    {
      "cell_type": "code",
      "metadata": {
        "id": "k9fJ2Xhe22hT",
        "outputId": "ece534f5-dae9-47a0-9c64-71b1fb8f5713"
      },
      "source": [
        "# method 1\n",
        "\n",
        "import numpy as np\n",
        "\n",
        "N = 100\n",
        "x = np.random.rand(N)\n",
        "y = np.random.rand(N)\n",
        "\n",
        "cnt = 0\n",
        "for i in range(N):\n",
        "    if x[i]**2 + y[i]**2 < 1.0 :\n",
        "        cnt = cnt + 1\n",
        "    else:\n",
        "        continue\n",
        "\n",
        "pi = cnt / N * 4\n",
        "print (pi)\n",
        "\n",
        "import matplotlib.pyplot as plt\n",
        "%matplotlib inline\n",
        "\n",
        "plt.figure(figsize=(4,4))\n",
        "plt.scatter (x, y, s=2)\n",
        "\n",
        "a = np.linspace(0, 1, 100)\n",
        "b = (1 - a**2) ** 0.5\n",
        "plt.plot(a, b, c='r')"
      ],
      "execution_count": null,
      "outputs": [
        {
          "output_type": "stream",
          "text": [
            "3.08\n"
          ],
          "name": "stdout"
        },
        {
          "output_type": "execute_result",
          "data": {
            "text/plain": [
              "[<matplotlib.lines.Line2D at 0x21d55238c08>]"
            ]
          },
          "metadata": {
            "tags": []
          },
          "execution_count": 182
        },
        {
          "output_type": "display_data",
          "data": {
            "image/png": "[encoded data removed]",
            "text/plain": [
              "<Figure size 288x288 with 1 Axes>"
            ]
          },
          "metadata": {
            "tags": [],
            "needs_background": "light"
          }
        }
      ]
    },
    {
      "cell_type": "code",
      "metadata": {
        "id": "2ybP6GRn22hT"
      },
      "source": [
        "N = 10\n",
        "x = np.random.rand(N).round(2)\n",
        "y = np.random.rand(N).round(2)"
      ],
      "execution_count": null,
      "outputs": []
    },
    {
      "cell_type": "code",
      "metadata": {
        "id": "dIcWMKqc22hT",
        "outputId": "f655c82a-e2fe-45da-cb3f-95ec2101c7eb"
      },
      "source": [
        "x, y"
      ],
      "execution_count": null,
      "outputs": [
        {
          "output_type": "execute_result",
          "data": {
            "text/plain": [
              "(array([0.18, 0.77, 0.29, 0.53, 0.21, 0.93, 0.47, 0.43, 0.39, 0.9 ]),\n",
              " array([0.29, 0.03, 0.04, 0.66, 0.31, 0.66, 0.62, 0.16, 0.34, 0.83]))"
            ]
          },
          "metadata": {
            "tags": []
          },
          "execution_count": 195
        }
      ]
    },
    {
      "cell_type": "code",
      "metadata": {
        "id": "QNnPNXBV22hT",
        "outputId": "fe6029c9-3b44-4f9b-c747-7881ce13ba82"
      },
      "source": [
        "x**2 + y**2"
      ],
      "execution_count": null,
      "outputs": [
        {
          "output_type": "execute_result",
          "data": {
            "text/plain": [
              "array([0.1165, 0.5938, 0.0857, 0.7165, 0.1402, 1.3005, 0.6053, 0.2105,\n",
              "       0.2677, 1.4989])"
            ]
          },
          "metadata": {
            "tags": []
          },
          "execution_count": 196
        }
      ]
    },
    {
      "cell_type": "code",
      "metadata": {
        "id": "Bpfnke6A22hT",
        "outputId": "bd8998a5-e8b0-4fd9-ef5a-58a6c2114050"
      },
      "source": [
        "x**2 + y**2 < 1.0"
      ],
      "execution_count": null,
      "outputs": [
        {
          "output_type": "execute_result",
          "data": {
            "text/plain": [
              "array([ True,  True,  True,  True,  True, False,  True,  True,  True,\n",
              "       False])"
            ]
          },
          "metadata": {
            "tags": []
          },
          "execution_count": 197
        }
      ]
    },
    {
      "cell_type": "code",
      "metadata": {
        "id": "pt0f75CL22hT",
        "outputId": "547bc9b0-216f-4705-d044-d0249abd4161"
      },
      "source": [
        "(x**2 + y**2 < 1.0).sum()"
      ],
      "execution_count": null,
      "outputs": [
        {
          "output_type": "execute_result",
          "data": {
            "text/plain": [
              "8"
            ]
          },
          "metadata": {
            "tags": []
          },
          "execution_count": 198
        }
      ]
    },
    {
      "cell_type": "code",
      "metadata": {
        "id": "uQb8o2FK22hU",
        "outputId": "6fe29458-08e0-4d33-96b2-372f5b80c6ef"
      },
      "source": [
        "pi = (x**2 + y**2 < 1.0).sum() / N * 4\n",
        "print (pi)"
      ],
      "execution_count": null,
      "outputs": [
        {
          "output_type": "stream",
          "text": [
            "3.2\n"
          ],
          "name": "stdout"
        }
      ]
    },
    {
      "cell_type": "code",
      "metadata": {
        "id": "b3wmJtHt22hU",
        "outputId": "7f3b0ac1-b9ec-4543-de3e-6a3b437b7841"
      },
      "source": [
        "# method 2\n",
        "\n",
        "N = 100000\n",
        "x = np.random.rand(N).round(2)\n",
        "y = np.random.rand(N).round(2)\n",
        "\n",
        "pi = (x**2 + y**2 < 1.0).sum() / N * 4\n",
        "print(pi)"
      ],
      "execution_count": null,
      "outputs": [
        {
          "output_type": "stream",
          "text": [
            "3.14516\n"
          ],
          "name": "stdout"
        }
      ]
    },
    {
      "cell_type": "markdown",
      "metadata": {
        "id": "yls37Cvv22hU"
      },
      "source": [
        "# Python coding Example with Radish_survey data"
      ]
    },
    {
      "cell_type": "code",
      "metadata": {
        "id": "6Qwz9D5g22hU",
        "colab": {
          "base_uri": "https://localhost:8080/"
        },
        "outputId": "b0ce0921-5882-413d-e6d8-42cd655022ff"
      },
      "source": [
        "!curl http://opentechschool.github.io/python-data-intro/files/radishsurvey.txt -o radishsurvey.txt"
      ],
      "execution_count": 1,
      "outputs": [
        {
          "output_type": "stream",
          "text": [
            "  % Total    % Received % Xferd  Average Speed   Time    Time     Time  Current\n",
            "                                 Dload  Upload   Total   Spent    Left  Speed\n",
            "\r  0     0    0     0    0     0      0      0 --:--:-- --:--:-- --:--:--     0\r100 19816  100 19816    0     0   261k      0 --:--:-- --:--:-- --:--:--  261k\n"
          ],
          "name": "stdout"
        }
      ]
    },
    {
      "cell_type": "code",
      "metadata": {
        "id": "kdxkLDRx22hU",
        "colab": {
          "base_uri": "https://localhost:8080/"
        },
        "outputId": "8e8f9d62-32c6-4525-ae96-f9a39c5081d7"
      },
      "source": [
        "!dir"
      ],
      "execution_count": 2,
      "outputs": [
        {
          "output_type": "stream",
          "text": [
            "radishsurvey.txt  sample_data\n"
          ],
          "name": "stdout"
        }
      ]
    },
    {
      "cell_type": "code",
      "metadata": {
        "id": "MIK5cr5P22hU",
        "colab": {
          "base_uri": "https://localhost:8080/"
        },
        "outputId": "cf07c640-d375-4d29-ce94-4d685276fe41"
      },
      "source": [
        "with open(\"radishsurvey.txt\") as file:\n",
        "    for line in file:\n",
        "        parts = line.strip()\n",
        "        name, vote = parts.split(\" - \")\n",
        "        # print (name + \" voted for \" + vote)\n",
        "        if vote == \"White Icicle\":\n",
        "            print (name + \" likes White Icicle.\")"
      ],
      "execution_count": 3,
      "outputs": [
        {
          "output_type": "stream",
          "text": [
            "Luke Komine likes White Icicle.\n",
            "Bailey Derrington likes White Icicle.\n",
            "Tyler Forbes likes White Icicle.\n",
            "Gianfranco Cremonesi likes White Icicle.\n",
            "Tao Hsiao likes White Icicle.\n",
            "Emily Walters likes White Icicle.\n",
            "Thomas Oom likes White Icicle.\n",
            "Stephanie Schnaars likes White Icicle.\n",
            "Anna Denning likes White Icicle.\n",
            "Ruby Fox likes White Icicle.\n",
            "Ali Dedman likes White Icicle.\n",
            "Sarah Milford likes White Icicle.\n",
            "Hudson Dodgshun likes White Icicle.\n",
            "Lara Salting likes White Icicle.\n",
            "Amelie Farber likes White Icicle.\n",
            "Isabella Pardey likes White Icicle.\n",
            "Zhi Chin likes White Icicle.\n",
            "Caitlyn Mullah likes White Icicle.\n",
            "Taj Shackell likes White Icicle.\n",
            "Xin Qian Shih likes White Icicle.\n",
            "Abigail Clark likes White Icicle.\n",
            "Bianca Knopwood likes White Icicle.\n",
            "Mia Legg likes White Icicle.\n",
            "Lilian Macquarie likes White Icicle.\n",
            "Zachary Bass likes White Icicle.\n",
            "Hayley Coverdale likes White Icicle.\n",
            "David Moynihan likes White Icicle.\n",
            "Angus De Mestre likes White Icicle.\n",
            "Emily Plante likes White Icicle.\n",
            "Kiara Maxwell-Mahon likes White Icicle.\n",
            "Alex Falk likes White Icicle.\n",
            "George Carandini likes White Icicle.\n",
            "Makayla Fairbairn likes White Icicle.\n",
            "Yue Wan Yeh likes White Icicle.\n",
            "Timothy Beeton likes White Icicle.\n",
            "Blake Hurst likes White Icicle.\n",
            "Zhen Juan Tsai likes White Icicle.\n",
            "Christopher Moss likes White Icicle.\n",
            "Alicia Farmer likes White Icicle.\n",
            "Jasmine Baughan likes White Icicle.\n",
            "Dominic Nangle likes White Icicle.\n",
            "Yue Yan Hu likes White Icicle.\n",
            "Adele Buccho likes White Icicle.\n",
            "Archie Mathy likes White Icicle.\n",
            "Pia Folliero likes White Icicle.\n",
            "Koby Ledger likes White Icicle.\n",
            "Jasper Harper likes White Icicle.\n",
            "Patrick Tilly likes White Icicle.\n",
            "Isabelle Camden likes White Icicle.\n",
            "Amy Clunie likes White Icicle.\n",
            "Declan Winston likes White Icicle.\n",
            "James Luke likes White Icicle.\n",
            "Riley Stewart likes White Icicle.\n",
            "Rory Evenden likes White Icicle.\n",
            "Eleuterio Lombardo likes White Icicle.\n",
            "Yong Hsiao likes White Icicle.\n",
            "Toby Queale likes White Icicle.\n",
            "Jasper Alfred likes White Icicle.\n",
            "Durante Ferri likes White Icicle.\n"
          ],
          "name": "stdout"
        }
      ]
    },
    {
      "cell_type": "code",
      "metadata": {
        "id": "LyHsh7Ti22hU",
        "colab": {
          "base_uri": "https://localhost:8080/"
        },
        "outputId": "30ff0453-6d7b-4fb3-cc27-da31e44a8e86"
      },
      "source": [
        "cnt = 0\n",
        "with open(\"radishsurvey.txt\") as file:\n",
        "    for line in file:\n",
        "        parts = line.strip()\n",
        "        name, vote = parts.split(\" - \")\n",
        "        # print (name + \" voted for \" + vote)\n",
        "        if vote == \"White Icicle\":\n",
        "            cnt = cnt + 1\n",
        "\n",
        "print (\"number of votes for White Icicle: \", cnt)"
      ],
      "execution_count": 4,
      "outputs": [
        {
          "output_type": "stream",
          "text": [
            "number of votes for White Icicle:  59\n"
          ],
          "name": "stdout"
        }
      ]
    },
    {
      "cell_type": "code",
      "metadata": {
        "id": "v6ESFDEN22hU",
        "colab": {
          "base_uri": "https://localhost:8080/"
        },
        "outputId": "00051a4e-3071-4536-cc82-5de97c437a9d"
      },
      "source": [
        "# 투표 결과 보기\n",
        "\n",
        "counts = {}\n",
        "with open(\"radishsurvey.txt\") as file:\n",
        "    for ilne in file:\n",
        "        parts = line.strip()\n",
        "        name, vote = parts.split(\" - \")\n",
        "\n",
        "        if vote not in counts:  # first appeared\n",
        "            counts[vote] = 1\n",
        "        else:                   # already exist, increment by 1\n",
        "            counts[vote] = counts[vote] + 1\n",
        "counts"
      ],
      "execution_count": 5,
      "outputs": [
        {
          "output_type": "execute_result",
          "data": {
            "text/plain": [
              "{'white icicle': 711}"
            ]
          },
          "metadata": {
            "tags": []
          },
          "execution_count": 5
        }
      ]
    },
    {
      "cell_type": "code",
      "metadata": {
        "id": "-Qppeadr22hV",
        "colab": {
          "base_uri": "https://localhost:8080/"
        },
        "outputId": "5036406f-e43b-47d9-a1b6-39bcaf342a20"
      },
      "source": [
        "# 데이터 정제\n",
        "\n",
        "counts = {}\n",
        "with open(\"radishsurvey.txt\") as file:\n",
        "    for line in file:\n",
        "        parts = line.strip()\n",
        "        name, vote = parts.split(\" - \")\n",
        "        vote = vote.strip().capitalize().replace(\"  \",\" \")\n",
        "\n",
        "        if vote not in counts:  # first appeared\n",
        "            counts[vote] = 1\n",
        "        else:                   # already exist, increment by 1\n",
        "            counts[vote] = counts[vote] + 1\n",
        "counts"
      ],
      "execution_count": 6,
      "outputs": [
        {
          "output_type": "execute_result",
          "data": {
            "text/plain": [
              "{'April cross': 72,\n",
              " 'Bunny tail': 72,\n",
              " 'Champion': 76,\n",
              " 'Cherry belle': 58,\n",
              " 'Daikon': 63,\n",
              " 'French breakfast': 72,\n",
              " 'Plum purple': 57,\n",
              " 'Red king': 56,\n",
              " 'Sicily giant': 57,\n",
              " 'Snow belle': 63,\n",
              " 'White icicle': 65}"
            ]
          },
          "metadata": {
            "tags": []
          },
          "execution_count": 6
        }
      ]
    },
    {
      "cell_type": "code",
      "metadata": {
        "id": "F4jUwNv722hV",
        "colab": {
          "base_uri": "https://localhost:8080/"
        },
        "outputId": "9e030735-bb5f-415d-ccf7-76596050adb9"
      },
      "source": [
        "max_cnt = 0\n",
        "for i in counts:\n",
        "    if counts[i] > max_cnt:\n",
        "        max_cnt = counts[i]\n",
        "        max_radish = i\n",
        "    else:\n",
        "        continue\n",
        "        \n",
        "print(\"...Final result...\")\n",
        "print(\"max vote is \", max_radish, \": \", max_cnt)"
      ],
      "execution_count": 7,
      "outputs": [
        {
          "output_type": "stream",
          "text": [
            "...Final result...\n",
            "max vote is  Champion :  76\n"
          ],
          "name": "stdout"
        }
      ]
    },
    {
      "cell_type": "markdown",
      "metadata": {
        "id": "ueiIzFhuNNxW"
      },
      "source": [
        "## 두 번 투표한 사람 찾기"
      ]
    },
    {
      "cell_type": "code",
      "metadata": {
        "colab": {
          "base_uri": "https://localhost:8080/"
        },
        "id": "Jx6h-nmKNRQ1",
        "outputId": "943fef85-a84f-49ae-80e0-e1ed628645c6"
      },
      "source": [
        "counts = {}\n",
        "voted = []\n",
        "\n",
        "with open(\"radishsurvey.txt\") as f:\n",
        "    for line in f:\n",
        "        # print(line)\n",
        "        line = line.strip()\n",
        "        name = line.split(\" - \")[0]\n",
        "        vote = line.split(\" - \")[1]\n",
        "        vote = vote.strip().capitalize().replace(\"  \",\" \")\n",
        "        \n",
        "        if name not in voted:\n",
        "            voted.append(name)\n",
        "        else:\n",
        "            print(name, \"has already voted for \", vote, \"Fraud!!!\")\n",
        "            continue\n",
        "        \n",
        "        if vote not in counts:\n",
        "            counts[vote] = 1\n",
        "        else: \n",
        "            counts[vote] = counts[vote] + 1\n",
        "\n",
        "for i in counts:\n",
        "    print(i + \":\" + str(counts[i]))\n"
      ],
      "execution_count": 9,
      "outputs": [
        {
          "output_type": "stream",
          "text": [
            "Phoebe Barwell has already voted for  Plum purple Fraud!!!\n",
            "Procopio Zito has already voted for  White icicle Fraud!!!\n",
            "April cross:72\n",
            "Champion:76\n",
            "Cherry belle:58\n",
            "Snow belle:63\n",
            "Bunny tail:72\n",
            "Sicily giant:57\n",
            "Plum purple:56\n",
            "Red king:56\n",
            "Daikon:63\n",
            "White icicle:64\n",
            "French breakfast:72\n"
          ],
          "name": "stdout"
        }
      ]
    },
    {
      "cell_type": "code",
      "metadata": {
        "colab": {
          "base_uri": "https://localhost:8080/"
        },
        "id": "Kn3Y6jhzNZ29",
        "outputId": "2ee53c3a-00fe-433e-9b53-bc08144182a3"
      },
      "source": [
        "for i in counts:\n",
        "    print(i + \":\" + str(counts[i]))"
      ],
      "execution_count": 10,
      "outputs": [
        {
          "output_type": "stream",
          "text": [
            "April cross:72\n",
            "Champion:76\n",
            "Cherry belle:58\n",
            "Snow belle:63\n",
            "Bunny tail:72\n",
            "Sicily giant:57\n",
            "Plum purple:56\n",
            "Red king:56\n",
            "Daikon:63\n",
            "White icicle:64\n",
            "French breakfast:72\n"
          ],
          "name": "stdout"
        }
      ]
    },
    {
      "cell_type": "code",
      "metadata": {
        "id": "w_6K1R30NdgI"
      },
      "source": [
        "x_radish = []\n",
        "y_counts = []\n",
        "\n",
        "for i in counts:\n",
        "    x_radish.append(i)\n",
        "    y_counts.append(counts[i])"
      ],
      "execution_count": 11,
      "outputs": []
    },
    {
      "cell_type": "code",
      "metadata": {
        "colab": {
          "base_uri": "https://localhost:8080/"
        },
        "id": "nNeJAmNJNhFU",
        "outputId": "8da48a37-d8e9-4be7-e43f-88c1c4f2bc2a"
      },
      "source": [
        "x_radish"
      ],
      "execution_count": 12,
      "outputs": [
        {
          "output_type": "execute_result",
          "data": {
            "text/plain": [
              "['April cross',\n",
              " 'Champion',\n",
              " 'Cherry belle',\n",
              " 'Snow belle',\n",
              " 'Bunny tail',\n",
              " 'Sicily giant',\n",
              " 'Plum purple',\n",
              " 'Red king',\n",
              " 'Daikon',\n",
              " 'White icicle',\n",
              " 'French breakfast']"
            ]
          },
          "metadata": {
            "tags": []
          },
          "execution_count": 12
        }
      ]
    },
    {
      "cell_type": "code",
      "metadata": {
        "colab": {
          "base_uri": "https://localhost:8080/"
        },
        "id": "G1msAcjcNj2U",
        "outputId": "36d815fc-f187-4be3-caa1-7f3c8f5b946a"
      },
      "source": [
        "y_counts"
      ],
      "execution_count": 13,
      "outputs": [
        {
          "output_type": "execute_result",
          "data": {
            "text/plain": [
              "[72, 76, 58, 63, 72, 57, 56, 56, 63, 64, 72]"
            ]
          },
          "metadata": {
            "tags": []
          },
          "execution_count": 13
        }
      ]
    },
    {
      "cell_type": "code",
      "metadata": {
        "colab": {
          "base_uri": "https://localhost:8080/",
          "height": 339
        },
        "id": "thWEdDXXNmmk",
        "outputId": "0d9e3a43-7d06-46c9-faef-561769e9c3c4"
      },
      "source": [
        "import matplotlib.pyplot as plt\n",
        "%matplotlib inline\n",
        "plt.bar(x_radish, y_counts)\n",
        "plt.xticks(rotation=90)\n",
        "plt.show()"
      ],
      "execution_count": 15,
      "outputs": [
        {
          "output_type": "display_data",
          "data": {
            "image/png": "[encoded data removed]",
            "text/plain": [
              "<Figure size 432x288 with 1 Axes>"
            ]
          },
          "metadata": {
            "tags": [],
            "needs_background": "light"
          }
        }
      ]
    },
    {
      "cell_type": "code",
      "metadata": {
        "colab": {
          "base_uri": "https://localhost:8080/",
          "height": 558
        },
        "id": "vHH2KZV6NwIE",
        "outputId": "a53a978a-b2c5-4da9-8e03-19c9551c4b0a"
      },
      "source": [
        "counts = {}\n",
        "voted = []\n",
        "\n",
        "with open(\"radishsurvey.txt\") as f:\n",
        "    for line in f:\n",
        "        # print(line)\n",
        "        line = line.strip()\n",
        "        name = line.split(\" - \")[0]\n",
        "        vote = line.split(\" - \")[1]\n",
        "        vote = vote.strip().capitalize().replace(\"  \",\" \")\n",
        "        \n",
        "        if name not in voted: voted.append(name)\n",
        "        else: \n",
        "            print(name, \"has already voted for \", vote, \"Fraud!!!\")\n",
        "            continue\n",
        "        \n",
        "        if vote not in counts:  counts[vote] = 1\n",
        "        else: counts[vote] = counts[vote] + 1\n",
        "\n",
        "for i in counts:\n",
        "    print(i + \":\" + str(counts[i]))\n",
        "\n",
        "x_radish = []\n",
        "y_counts = []\n",
        "\n",
        "for i in counts:\n",
        "    x_radish.append(i)\n",
        "    y_counts.append(counts[i])\n",
        "\n",
        "plt.bar(x_radish, y_counts)\n",
        "plt.xticks(rotation=90)\n",
        "plt.show()"
      ],
      "execution_count": 16,
      "outputs": [
        {
          "output_type": "stream",
          "text": [
            "Phoebe Barwell has already voted for  Plum purple Fraud!!!\n",
            "Procopio Zito has already voted for  White icicle Fraud!!!\n",
            "April cross:72\n",
            "Champion:76\n",
            "Cherry belle:58\n",
            "Snow belle:63\n",
            "Bunny tail:72\n",
            "Sicily giant:57\n",
            "Plum purple:56\n",
            "Red king:56\n",
            "Daikon:63\n",
            "White icicle:64\n",
            "French breakfast:72\n"
          ],
          "name": "stdout"
        },
        {
          "output_type": "display_data",
          "data": {
            "image/png": "[encoded data removed]",
            "text/plain": [
              "<Figure size 432x288 with 1 Axes>"
            ]
          },
          "metadata": {
            "tags": [],
            "needs_background": "light"
          }
        }
      ]
    }
  ]
}