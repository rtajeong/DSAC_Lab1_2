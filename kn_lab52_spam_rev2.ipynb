{
  "nbformat": 4,
  "nbformat_minor": 0,
  "metadata": {
    "kernelspec": {
      "display_name": "Python 3",
      "language": "python",
      "name": "python3"
    },
    "language_info": {
      "codemirror_mode": {
        "name": "ipython",
        "version": 3
      },
      "file_extension": ".py",
      "mimetype": "text/x-python",
      "name": "python",
      "nbconvert_exporter": "python",
      "pygments_lexer": "ipython3",
      "version": "3.6.8"
    },
    "colab": {
      "name": "lab52_spam_rev2.ipynb",
      "provenance": [],
      "collapsed_sections": [],
      "include_colab_link": true
    }
  },
  "cells": [
    {
      "cell_type": "markdown",
      "metadata": {
        "id": "view-in-github",
        "colab_type": "text"
      },
      "source": [
        "<a href=\"https://colab.research.google.com/github/rtajeong/DSAC_Lab1_2/blob/master/kn_lab52_spam_rev2.ipynb\" target=\"_parent\"><img src=\"https://colab.research.google.com/assets/colab-badge.svg\" alt=\"Open In Colab\"/></a>"
      ]
    },
    {
      "cell_type": "markdown",
      "metadata": {
        "id": "ilHJ5jtk4Ad5"
      },
      "source": [
        "# Spam classification example\n",
        "- good example code for comparing multiple algorithms"
      ]
    },
    {
      "cell_type": "code",
      "metadata": {
        "id": "9gN_QWH94AeX"
      },
      "source": [
        "import pandas as pd\n",
        "import numpy as np\n",
        "import matplotlib.pyplot as plt\n",
        "%matplotlib inline\n",
        "from sklearn.model_selection import train_test_split\n",
        "from sklearn.feature_extraction.text import TfidfVectorizer\n",
        "from sklearn.naive_bayes import MultinomialNB"
      ],
      "execution_count": null,
      "outputs": []
    },
    {
      "cell_type": "code",
      "metadata": {
        "scrolled": true,
        "colab": {
          "base_uri": "https://localhost:8080/"
        },
        "id": "6MeSW65I4Aec",
        "outputId": "3461ca3b-0b77-4f98-92cb-a79a10314fe8"
      },
      "source": [
        "!curl -L https://bit.ly/2WC9nvn -o sms_spam.csv"
      ],
      "execution_count": null,
      "outputs": [
        {
          "output_type": "stream",
          "text": [
            "  % Total    % Received % Xferd  Average Speed   Time    Time     Time  Current\n",
            "                                 Dload  Upload   Total   Spent    Left  Speed\n",
            "100   141  100   141    0     0    946      0 --:--:-- --:--:-- --:--:--   940\n",
            "  0     0    0     0    0     0      0      0 --:--:-- --:--:-- --:--:--     0\n",
            "  0     0    0     0    0     0      0      0 --:--:-- --:--:-- --:--:--     0\n",
            "100  488k  100  488k    0     0   653k      0 --:--:-- --:--:-- --:--:--  653k\n"
          ],
          "name": "stdout"
        }
      ]
    },
    {
      "cell_type": "code",
      "metadata": {
        "colab": {
          "base_uri": "https://localhost:8080/",
          "height": 198
        },
        "id": "kWytVZ9h4Aef",
        "outputId": "4d1d0d6f-2717-42e6-e9c4-04becc87e5eb"
      },
      "source": [
        "sms = pd.read_csv('sms_spam.csv', encoding='latin-1')\n",
        "x = sms['text']\n",
        "y = sms['type']\n",
        "sms.head()"
      ],
      "execution_count": null,
      "outputs": [
        {
          "output_type": "execute_result",
          "data": {
            "text/html": [
              "<div>\n",
              "<style scoped>\n",
              "    .dataframe tbody tr th:only-of-type {\n",
              "        vertical-align: middle;\n",
              "    }\n",
              "\n",
              "    .dataframe tbody tr th {\n",
              "        vertical-align: top;\n",
              "    }\n",
              "\n",
              "    .dataframe thead th {\n",
              "        text-align: right;\n",
              "    }\n",
              "</style>\n",
              "<table border=\"1\" class=\"dataframe\">\n",
              "  <thead>\n",
              "    <tr style=\"text-align: right;\">\n",
              "      <th></th>\n",
              "      <th>type</th>\n",
              "      <th>text</th>\n",
              "    </tr>\n",
              "  </thead>\n",
              "  <tbody>\n",
              "    <tr>\n",
              "      <th>0</th>\n",
              "      <td>ham</td>\n",
              "      <td>Go until jurong point, crazy.. Available only ...</td>\n",
              "    </tr>\n",
              "    <tr>\n",
              "      <th>1</th>\n",
              "      <td>ham</td>\n",
              "      <td>Ok lar... Joking wif u oni...</td>\n",
              "    </tr>\n",
              "    <tr>\n",
              "      <th>2</th>\n",
              "      <td>spam</td>\n",
              "      <td>Free entry in 2 a wkly comp to win FA Cup fina...</td>\n",
              "    </tr>\n",
              "    <tr>\n",
              "      <th>3</th>\n",
              "      <td>ham</td>\n",
              "      <td>U dun say so early hor... U c already then say...</td>\n",
              "    </tr>\n",
              "    <tr>\n",
              "      <th>4</th>\n",
              "      <td>ham</td>\n",
              "      <td>Nah I don't think he goes to usf, he lives aro...</td>\n",
              "    </tr>\n",
              "  </tbody>\n",
              "</table>\n",
              "</div>"
            ],
            "text/plain": [
              "   type                                               text\n",
              "0   ham  Go until jurong point, crazy.. Available only ...\n",
              "1   ham                      Ok lar... Joking wif u oni...\n",
              "2  spam  Free entry in 2 a wkly comp to win FA Cup fina...\n",
              "3   ham  U dun say so early hor... U c already then say...\n",
              "4   ham  Nah I don't think he goes to usf, he lives aro..."
            ]
          },
          "metadata": {
            "tags": []
          },
          "execution_count": 3
        }
      ]
    },
    {
      "cell_type": "markdown",
      "metadata": {
        "id": "dbFM_iSF4Aeh"
      },
      "source": [
        "- stop_words_ : terms that were ignored\n",
        "- Stop words are words like “and”, “the”, “him”, which are presumed to be uninformative in representing the content of a text, and which may be removed to avoid them being construed as signal for prediction. Sometimes, however, similar words are useful for prediction, such as in classifying writing style or personality."
      ]
    },
    {
      "cell_type": "markdown",
      "metadata": {
        "id": "TYJvT4dM4Aek"
      },
      "source": [
        "## Naive Bayes algorithm"
      ]
    },
    {
      "cell_type": "markdown",
      "metadata": {
        "id": "Nv6MIgRg4Aem"
      },
      "source": [
        "### Multinomial distribution: \n",
        "- (ex) Three card players play a series of matches. The probability that player A will win any game is 20%, the probability that player B will win is 30%, and the probability player C will win is 50%. If they play 6 games, what is the probability that player A will win 1 game, player B will win 2 games, and player C will win 3?\n",
        "- ![image.png](attachment:image.png)"
      ]
    },
    {
      "cell_type": "code",
      "metadata": {
        "colab": {
          "base_uri": "https://localhost:8080/"
        },
        "id": "qxV1IBey4Aen",
        "outputId": "05f5c79f-4486-4612-9bfa-60a971c220bd"
      },
      "source": [
        "x_train, x_test, y_train, y_test = train_test_split(x, y, test_size=0.3)\n",
        "\n",
        "tfidf = TfidfVectorizer(stop_words=\"english\")\n",
        "x_train_tf = tfidf.fit_transform(x_train)\n",
        "x_test_tf = tfidf.transform(x_test)\n",
        "\n",
        "mnb = MultinomialNB()\n",
        "mnb.fit(x_train_tf, y_train)"
      ],
      "execution_count": null,
      "outputs": [
        {
          "output_type": "execute_result",
          "data": {
            "text/plain": [
              "MultinomialNB(alpha=1.0, class_prior=None, fit_prior=True)"
            ]
          },
          "metadata": {
            "tags": []
          },
          "execution_count": 5
        }
      ]
    },
    {
      "cell_type": "code",
      "metadata": {
        "colab": {
          "base_uri": "https://localhost:8080/"
        },
        "id": "kfAFsvur4Aep",
        "outputId": "94ef93cb-97c5-4e3c-9810-70239af2ec68"
      },
      "source": [
        "from sklearn import metrics\n",
        "y_pred = mnb.predict(x_test_tf) # 학습된 모델을 이용하여 예측\n",
        "print(metrics.classification_report(y_test, y_pred)) # 분류 성능 평가"
      ],
      "execution_count": null,
      "outputs": [
        {
          "output_type": "stream",
          "text": [
            "              precision    recall  f1-score   support\n",
            "\n",
            "         ham       0.96      1.00      0.98      1443\n",
            "        spam       1.00      0.73      0.84       230\n",
            "\n",
            "    accuracy                           0.96      1673\n",
            "   macro avg       0.98      0.87      0.91      1673\n",
            "weighted avg       0.96      0.96      0.96      1673\n",
            "\n"
          ],
          "name": "stdout"
        }
      ]
    },
    {
      "cell_type": "code",
      "metadata": {
        "colab": {
          "base_uri": "https://localhost:8080/"
        },
        "id": "zmK8cNqN4Aes",
        "outputId": "2b1c068d-23bd-48ee-d241-ad40d94642b3"
      },
      "source": [
        "print (\"score :\", mnb.score(x_test_tf, y_test))\n",
        "print (\"score :\", mnb.score(x_train_tf, y_train))"
      ],
      "execution_count": null,
      "outputs": [
        {
          "output_type": "stream",
          "text": [
            "score : 0.962940824865511\n",
            "score : 0.9830812612150731\n"
          ],
          "name": "stdout"
        }
      ]
    },
    {
      "cell_type": "markdown",
      "metadata": {
        "id": "tZdFZfIS4Aeu"
      },
      "source": [
        "## CountVectorizer() and Gaussian NB algorithm"
      ]
    },
    {
      "cell_type": "code",
      "metadata": {
        "colab": {
          "base_uri": "https://localhost:8080/"
        },
        "id": "hUgdlQpv4Aeu",
        "outputId": "78982d03-c323-42ad-aa06-ce2d73220935"
      },
      "source": [
        "from sklearn.feature_extraction.text import CountVectorizer\n",
        "from sklearn.naive_bayes import GaussianNB\n",
        "\n",
        "count = CountVectorizer(min_df=10)    # 10번 이하로 발생한 단어 무시\n",
        "x_train_count = count.fit_transform(x_train)\n",
        "x_test_count = count.transform(x_test)\n",
        "clf = GaussianNB()\n",
        "clf.fit(x_train_count.toarray(), y_train)\n",
        "print(clf.score(x_test_count.toarray(), y_test).round(4))"
      ],
      "execution_count": null,
      "outputs": [
        {
          "output_type": "stream",
          "text": [
            "0.7537\n"
          ],
          "name": "stdout"
        }
      ]
    },
    {
      "cell_type": "markdown",
      "metadata": {
        "id": "x3ujXwsg4Aez"
      },
      "source": [
        "## comparing many algorithms\n",
        "- NB algorithms is the best for this problem"
      ]
    },
    {
      "cell_type": "code",
      "metadata": {
        "colab": {
          "base_uri": "https://localhost:8080/"
        },
        "id": "yA_6C4M34Ae0",
        "outputId": "f4ae0161-0f6e-49c1-a8df-e572da0ea2d4"
      },
      "source": [
        "!pip install nltk"
      ],
      "execution_count": null,
      "outputs": [
        {
          "output_type": "stream",
          "text": [
            "Requirement already satisfied: nltk in /usr/local/lib/python3.6/dist-packages (3.2.5)\n",
            "Requirement already satisfied: six in /usr/local/lib/python3.6/dist-packages (from nltk) (1.15.0)\n"
          ],
          "name": "stdout"
        }
      ]
    },
    {
      "cell_type": "markdown",
      "metadata": {
        "id": "rMlwrXpK4Ae1"
      },
      "source": [
        "- NLTK: natural language toolkit"
      ]
    },
    {
      "cell_type": "code",
      "metadata": {
        "id": "X1HcUct44Ae2"
      },
      "source": [
        "import seaborn as sns\n",
        "import string\n",
        "from nltk.stem import SnowballStemmer\n",
        "from nltk.corpus import stopwords"
      ],
      "execution_count": null,
      "outputs": []
    },
    {
      "cell_type": "code",
      "metadata": {
        "colab": {
          "base_uri": "https://localhost:8080/"
        },
        "id": "_LQnfr738iIJ",
        "outputId": "379360b6-86b9-4267-c54e-d02d0aa015ed"
      },
      "source": [
        "import nltk\r\n",
        "nltk.download('stopwords')"
      ],
      "execution_count": null,
      "outputs": [
        {
          "output_type": "stream",
          "text": [
            "[nltk_data] Downloading package stopwords to /root/nltk_data...\n",
            "[nltk_data]   Unzipping corpora/stopwords.zip.\n"
          ],
          "name": "stdout"
        },
        {
          "output_type": "execute_result",
          "data": {
            "text/plain": [
              "True"
            ]
          },
          "metadata": {
            "tags": []
          },
          "execution_count": 16
        }
      ]
    },
    {
      "cell_type": "markdown",
      "metadata": {
        "id": "N_9J5vEe4Ae3"
      },
      "source": [
        "- stemming and lemmatization: text normalization\n",
        "- (ex) the boy's cars are different colors -> the boy car be differ color"
      ]
    },
    {
      "cell_type": "markdown",
      "metadata": {
        "id": "Duc3g13y4Ae4"
      },
      "source": [
        "- to remove punctuation marks from a string:\n",
        "- you have to create a translation table using maketrans that you pass to the str.translate method.\n",
        "- In Python, string. punctuation will give the all sets of punctuation"
      ]
    },
    {
      "cell_type": "code",
      "metadata": {
        "colab": {
          "base_uri": "https://localhost:8080/"
        },
        "id": "bE76T2QC4Ae6",
        "outputId": "2d5b011a-4648-47a4-f25e-46422d556159"
      },
      "source": [
        "# just for your reference (to remove punctuations)\n",
        "\n",
        "translator = str.maketrans('', '', string.punctuation) # '' ->'', string.punctuation -> NaN\n",
        "# This uses the 3-argument version of str.maketrans\n",
        "# with arguments (x, y, z) where 'x' and 'y'\n",
        "# must be equal-length strings and characters in 'x'\n",
        "# are replaced by characters in 'y'. 'z' is a string \n",
        "# where each character in the string is mapped to None.\n",
        "s = 'string with \"punctuation\" inside of it! Does this work? I hope so.'\n",
        "print(s.translate(translator))\n",
        "\n",
        "# example: translation table\n",
        "\n",
        "intab = \"aeiou\"\n",
        "outtab = \"12345\"\n",
        "trantab = str.maketrans(intab, outtab, 'w')\n",
        "\n",
        "str = \"this is string example....wow!!!\"\n",
        "print (str.translate(trantab))\n",
        "\n",
        "\n",
        "# similar expression\n",
        "import string\n",
        "if __name__ == '__main__':\n",
        "    s = \"Hello, World.....!?\"\n",
        "    s = ''.join(c for c  in s if c not in string.punctuation)\n",
        "    print(s)"
      ],
      "execution_count": null,
      "outputs": [
        {
          "output_type": "stream",
          "text": [
            "string with punctuation inside of it Does this work I hope so\n",
            "th3s 3s str3ng 2x1mpl2....4!!!\n",
            "Hello World\n"
          ],
          "name": "stdout"
        }
      ]
    },
    {
      "cell_type": "code",
      "metadata": {
        "id": "-13hBWOB4Ae8"
      },
      "source": [
        "def text_process(text):\n",
        "    translator = str.maketrans('', '', string.punctuation)  # make translation table\n",
        "    text = text.translate(translator)\n",
        "    # change all letters to lower cases, and remove stopwords\n",
        "    text = [word for word in text.split() if word.lower() not in stopwords.words('english')]\n",
        "    return \" \".join(text)"
      ],
      "execution_count": null,
      "outputs": []
    },
    {
      "cell_type": "code",
      "metadata": {
        "colab": {
          "base_uri": "https://localhost:8080/",
          "height": 35
        },
        "id": "6aL4H0Bv4Ae_",
        "outputId": "c0938a52-7ebf-4481-82dd-ae05563548dd"
      },
      "source": [
        "# just for texting the defined function\n",
        "text_process(\"I am a man..... and you  are a woman... We love each other. Right?\")"
      ],
      "execution_count": null,
      "outputs": [
        {
          "output_type": "execute_result",
          "data": {
            "application/vnd.google.colaboratory.intrinsic+json": {
              "type": "string"
            },
            "text/plain": [
              "'man woman love Right'"
            ]
          },
          "metadata": {
            "tags": []
          },
          "execution_count": 17
        }
      ]
    },
    {
      "cell_type": "code",
      "metadata": {
        "id": "r1CoWxVr4AfC"
      },
      "source": [
        "from sklearn.linear_model import LogisticRegression\n",
        "from sklearn.svm import SVC\n",
        "from sklearn.tree import DecisionTreeClassifier\n",
        "from sklearn.neighbors import KNeighborsClassifier\n",
        "from sklearn.ensemble import RandomForestClassifier\n",
        "from sklearn.ensemble import AdaBoostClassifier\n",
        "from sklearn.ensemble import BaggingClassifier\n",
        "from sklearn.ensemble import ExtraTreesClassifier\n",
        "from sklearn.metrics import accuracy_score"
      ],
      "execution_count": null,
      "outputs": []
    },
    {
      "cell_type": "code",
      "metadata": {
        "id": "3qqgVlZa4AfD"
      },
      "source": [
        "svc = SVC(kernel='sigmoid', gamma=1.0)   # SVM classifier\n",
        "knc = KNeighborsClassifier(n_neighbors=49)\n",
        "mnb = MultinomialNB(alpha=0.2)\n",
        "dtc = DecisionTreeClassifier(min_samples_split=7, random_state=111)\n",
        "lrc = LogisticRegression(solver='liblinear', penalty='l1')\n",
        "rfc = RandomForestClassifier(n_estimators=31, random_state=111)\n",
        "abc = AdaBoostClassifier(n_estimators=62, random_state=111)\n",
        "bc = BaggingClassifier(n_estimators=9, random_state=111)\n",
        "etc = ExtraTreesClassifier(n_estimators=9, random_state=111)"
      ],
      "execution_count": null,
      "outputs": []
    },
    {
      "cell_type": "code",
      "metadata": {
        "id": "vBvT5Dhd4AfZ"
      },
      "source": [
        "clfs = {'SVC' : svc,'KN' : knc, 'NB': mnb, 'DT': dtc, 'LR': lrc, 'RF': rfc, 'AdaBoost': abc, 'BgC': bc, 'ETC': etc}"
      ],
      "execution_count": null,
      "outputs": []
    },
    {
      "cell_type": "code",
      "metadata": {
        "id": "filTDd2W4Afa"
      },
      "source": [
        "# train 데이터를 각각의 classifier에 fit하기 위한 함수\n",
        "def train_classifier(clf, X_train, y_train): \n",
        "    clf.fit(X_train, y_train)\n",
        "\n",
        "#feature를 각각의 classifier를 이용해 예측\n",
        "def predict_labels(clf, features):\n",
        "    return (clf.predict(features))\n",
        "\n",
        "#pred_scores 리스트를 만들고, 분류기의 예측 결과들을 리스트의 원소로 함\n",
        "pred_scores = []\n",
        "for k,v in clfs.items():\n",
        "    train_classifier(v, x_train_tf, y_train) # train데이터를 이용해 분류\n",
        "    pred = predict_labels(v,x_test_tf) #예측\n",
        "    pred_scores.append((k, accuracy_score(y_test,pred))) # accuracy 스코어를 리스트에 추가"
      ],
      "execution_count": null,
      "outputs": []
    },
    {
      "cell_type": "code",
      "metadata": {
        "colab": {
          "base_uri": "https://localhost:8080/"
        },
        "id": "P5Q3iCiv4Afb",
        "outputId": "ed984408-c733-48fd-f5b7-bed19a52a487"
      },
      "source": [
        "pred_scores"
      ],
      "execution_count": null,
      "outputs": [
        {
          "output_type": "execute_result",
          "data": {
            "text/plain": [
              "[('SVC', 0.9790794979079498),\n",
              " ('KN', 0.8924088463837417),\n",
              " ('NB', 0.9796772265391512),\n",
              " ('DT', 0.9701135684399282),\n",
              " ('LR', 0.958756724447101),\n",
              " ('RF', 0.9707112970711297),\n",
              " ('AdaBoost', 0.9599521817095039),\n",
              " ('BgC', 0.9701135684399282),\n",
              " ('ETC', 0.9748953974895398)]"
            ]
          },
          "metadata": {
            "tags": []
          },
          "execution_count": 37
        }
      ]
    },
    {
      "cell_type": "code",
      "metadata": {
        "scrolled": true,
        "colab": {
          "base_uri": "https://localhost:8080/",
          "height": 318
        },
        "id": "dDYU8EJp4Afc",
        "outputId": "e89ab55e-1899-4c99-e005-23c6b8fab639"
      },
      "source": [
        "pd.DataFrame(pred_scores)"
      ],
      "execution_count": null,
      "outputs": [
        {
          "output_type": "execute_result",
          "data": {
            "text/html": [
              "<div>\n",
              "<style scoped>\n",
              "    .dataframe tbody tr th:only-of-type {\n",
              "        vertical-align: middle;\n",
              "    }\n",
              "\n",
              "    .dataframe tbody tr th {\n",
              "        vertical-align: top;\n",
              "    }\n",
              "\n",
              "    .dataframe thead th {\n",
              "        text-align: right;\n",
              "    }\n",
              "</style>\n",
              "<table border=\"1\" class=\"dataframe\">\n",
              "  <thead>\n",
              "    <tr style=\"text-align: right;\">\n",
              "      <th></th>\n",
              "      <th>0</th>\n",
              "      <th>1</th>\n",
              "    </tr>\n",
              "  </thead>\n",
              "  <tbody>\n",
              "    <tr>\n",
              "      <th>0</th>\n",
              "      <td>SVC</td>\n",
              "      <td>0.979079</td>\n",
              "    </tr>\n",
              "    <tr>\n",
              "      <th>1</th>\n",
              "      <td>KN</td>\n",
              "      <td>0.892409</td>\n",
              "    </tr>\n",
              "    <tr>\n",
              "      <th>2</th>\n",
              "      <td>NB</td>\n",
              "      <td>0.979677</td>\n",
              "    </tr>\n",
              "    <tr>\n",
              "      <th>3</th>\n",
              "      <td>DT</td>\n",
              "      <td>0.970114</td>\n",
              "    </tr>\n",
              "    <tr>\n",
              "      <th>4</th>\n",
              "      <td>LR</td>\n",
              "      <td>0.958757</td>\n",
              "    </tr>\n",
              "    <tr>\n",
              "      <th>5</th>\n",
              "      <td>RF</td>\n",
              "      <td>0.970711</td>\n",
              "    </tr>\n",
              "    <tr>\n",
              "      <th>6</th>\n",
              "      <td>AdaBoost</td>\n",
              "      <td>0.959952</td>\n",
              "    </tr>\n",
              "    <tr>\n",
              "      <th>7</th>\n",
              "      <td>BgC</td>\n",
              "      <td>0.970114</td>\n",
              "    </tr>\n",
              "    <tr>\n",
              "      <th>8</th>\n",
              "      <td>ETC</td>\n",
              "      <td>0.974895</td>\n",
              "    </tr>\n",
              "  </tbody>\n",
              "</table>\n",
              "</div>"
            ],
            "text/plain": [
              "          0         1\n",
              "0       SVC  0.979079\n",
              "1        KN  0.892409\n",
              "2        NB  0.979677\n",
              "3        DT  0.970114\n",
              "4        LR  0.958757\n",
              "5        RF  0.970711\n",
              "6  AdaBoost  0.959952\n",
              "7       BgC  0.970114\n",
              "8       ETC  0.974895"
            ]
          },
          "metadata": {
            "tags": []
          },
          "execution_count": 38
        }
      ]
    },
    {
      "cell_type": "code",
      "metadata": {
        "colab": {
          "base_uri": "https://localhost:8080/",
          "height": 348
        },
        "id": "xZz7nGSG4Afd",
        "outputId": "2003dae0-2ab5-4947-cbcf-66c426f34866"
      },
      "source": [
        "#각각의 classifier 스코어 출력\n",
        "# df.from_items(): Construct a DataFrame from a list of tuples.\n",
        "\n",
        "df = pd.DataFrame.from_records(pred_scores, columns=['classifier', 'Score'])\n",
        "df = df.set_index('classifier')\n",
        "df"
      ],
      "execution_count": null,
      "outputs": [
        {
          "output_type": "execute_result",
          "data": {
            "text/html": [
              "<div>\n",
              "<style scoped>\n",
              "    .dataframe tbody tr th:only-of-type {\n",
              "        vertical-align: middle;\n",
              "    }\n",
              "\n",
              "    .dataframe tbody tr th {\n",
              "        vertical-align: top;\n",
              "    }\n",
              "\n",
              "    .dataframe thead th {\n",
              "        text-align: right;\n",
              "    }\n",
              "</style>\n",
              "<table border=\"1\" class=\"dataframe\">\n",
              "  <thead>\n",
              "    <tr style=\"text-align: right;\">\n",
              "      <th></th>\n",
              "      <th>Score</th>\n",
              "    </tr>\n",
              "    <tr>\n",
              "      <th>classifier</th>\n",
              "      <th></th>\n",
              "    </tr>\n",
              "  </thead>\n",
              "  <tbody>\n",
              "    <tr>\n",
              "      <th>SVC</th>\n",
              "      <td>0.979079</td>\n",
              "    </tr>\n",
              "    <tr>\n",
              "      <th>KN</th>\n",
              "      <td>0.892409</td>\n",
              "    </tr>\n",
              "    <tr>\n",
              "      <th>NB</th>\n",
              "      <td>0.979677</td>\n",
              "    </tr>\n",
              "    <tr>\n",
              "      <th>DT</th>\n",
              "      <td>0.970114</td>\n",
              "    </tr>\n",
              "    <tr>\n",
              "      <th>LR</th>\n",
              "      <td>0.958757</td>\n",
              "    </tr>\n",
              "    <tr>\n",
              "      <th>RF</th>\n",
              "      <td>0.970711</td>\n",
              "    </tr>\n",
              "    <tr>\n",
              "      <th>AdaBoost</th>\n",
              "      <td>0.959952</td>\n",
              "    </tr>\n",
              "    <tr>\n",
              "      <th>BgC</th>\n",
              "      <td>0.970114</td>\n",
              "    </tr>\n",
              "    <tr>\n",
              "      <th>ETC</th>\n",
              "      <td>0.974895</td>\n",
              "    </tr>\n",
              "  </tbody>\n",
              "</table>\n",
              "</div>"
            ],
            "text/plain": [
              "               Score\n",
              "classifier          \n",
              "SVC         0.979079\n",
              "KN          0.892409\n",
              "NB          0.979677\n",
              "DT          0.970114\n",
              "LR          0.958757\n",
              "RF          0.970711\n",
              "AdaBoost    0.959952\n",
              "BgC         0.970114\n",
              "ETC         0.974895"
            ]
          },
          "metadata": {
            "tags": []
          },
          "execution_count": 39
        }
      ]
    },
    {
      "cell_type": "code",
      "metadata": {
        "scrolled": false,
        "colab": {
          "base_uri": "https://localhost:8080/",
          "height": 459
        },
        "id": "PLWP-Sue4Afe",
        "outputId": "4ee0233e-357c-4087-bb10-3d04a85b9248"
      },
      "source": [
        "#classifier에 따른 accuracy 히스토그램\n",
        "df.plot(kind='bar', ylim=(0.9,1.0), figsize=(11,6), align='center', colormap=\"Accent\")\n",
        "plt.xticks(np.arange(9), df.index)\n",
        "plt.ylabel('Accuracy Score')\n",
        "plt.title('Distribution by Classifier')\n",
        "plt.legend(bbox_to_anchor=(1.05, 1), loc=2) # borderaxespad=0.)\n",
        "# %config InlineBackend.figure_format = 'retina'"
      ],
      "execution_count": null,
      "outputs": [
        {
          "output_type": "execute_result",
          "data": {
            "text/plain": [
              "<matplotlib.legend.Legend at 0x7f195fac84a8>"
            ]
          },
          "metadata": {
            "tags": []
          },
          "execution_count": 40
        },
        {
          "output_type": "display_data",
          "data": {
            "image/png": "[encoded data removed]",
            "text/plain": [
              "<Figure size 792x432 with 1 Axes>"
            ]
          },
          "metadata": {
            "tags": [],
            "needs_background": "light"
          }
        }
      ]
    },
    {
      "cell_type": "markdown",
      "metadata": {
        "id": "R1HhDSDg4Afg"
      },
      "source": [
        "# 연습"
      ]
    },
    {
      "cell_type": "code",
      "metadata": {
        "colab": {
          "base_uri": "https://localhost:8080/"
        },
        "id": "M7oqPpmm4Afj",
        "outputId": "2452e32a-cb95-4afd-a9df-e3e2c79feafa"
      },
      "source": [
        "import string\n",
        "obj = \"python\"\n",
        "before = \"thon\"\n",
        "after = \"zzyy\"\n",
        "sen = obj.maketrans(before, after)   # construct translation table\n",
        "sen"
      ],
      "execution_count": null,
      "outputs": [
        {
          "output_type": "execute_result",
          "data": {
            "text/plain": [
              "{104: 122, 110: 121, 111: 121, 116: 122}"
            ]
          },
          "metadata": {
            "tags": []
          },
          "execution_count": 41
        }
      ]
    },
    {
      "cell_type": "code",
      "metadata": {
        "colab": {
          "base_uri": "https://localhost:8080/",
          "height": 35
        },
        "id": "s4sIDwfF4Afk",
        "outputId": "a11b3241-45de-42f4-fbb0-d08b10ef7d10"
      },
      "source": [
        "obj.translate(sen)                   # translate base on the table"
      ],
      "execution_count": null,
      "outputs": [
        {
          "output_type": "execute_result",
          "data": {
            "application/vnd.google.colaboratory.intrinsic+json": {
              "type": "string"
            },
            "text/plain": [
              "'pyzzyy'"
            ]
          },
          "metadata": {
            "tags": []
          },
          "execution_count": 42
        }
      ]
    },
    {
      "cell_type": "markdown",
      "metadata": {
        "id": "xLzNir_B4Afl"
      },
      "source": [
        "### Replacing words or characters in Python\n",
        "- maketrans(): maketrans() function is used to construct the transition table i.e specify the list of \n",
        "  characters that need to be replaced in the whole string or the characters that need to be deleted \n",
        "  from the string\n",
        "- Translate using maketrans(): To translate the characters in the string translate() is used to make the\n",
        "  translations. This function uses the translation mapping specified using the maketrans()."
      ]
    },
    {
      "cell_type": "code",
      "metadata": {
        "id": "mG2bQek44Afm",
        "outputId": "30c14e60-3b25-4dcd-abc8-bcb3e7a3f63d"
      },
      "source": [
        "# Python3 code to demonstrate translations using maketrans() and translate() \n",
        "  \n",
        "# specify to translate chars \n",
        "str1 = \"wy\"\n",
        "# specify to to replace with \n",
        "str2 = \"gf\"\n",
        "# delete chars \n",
        "str3 = \"u\"\n",
        "# target string  \n",
        "trg = \"weeksyourweeks\"\n",
        "  \n",
        "# using maketrans() to construct translate table \n",
        "table = trg.maketrans(str1, str2, str3) \n",
        "  \n",
        "# Printing original string  \n",
        "print (\"The string before translating is : \", end =\"\") \n",
        "print (trg) \n",
        "  \n",
        "# using translate() to make translations. \n",
        "print (\"The string after translating is : \", end =\"\") \n",
        "print (trg.translate(table)) "
      ],
      "execution_count": null,
      "outputs": [
        {
          "output_type": "stream",
          "text": [
            "The string before translating is : weeksyourweeks\n",
            "The string after translating is : geeksforgeeks\n"
          ],
          "name": "stdout"
        }
      ]
    },
    {
      "cell_type": "code",
      "metadata": {
        "id": "AOF4-oNF4Afo",
        "outputId": "8ef8a7c7-7921-4822-c0ec-3cbb4651400f"
      },
      "source": [
        "# 문자열 바꾸기\n",
        "'Hello, world!'.replace('world', 'Python')"
      ],
      "execution_count": null,
      "outputs": [
        {
          "output_type": "execute_result",
          "data": {
            "text/plain": [
              "'Hello, Python!'"
            ]
          },
          "metadata": {
            "tags": []
          },
          "execution_count": 33
        }
      ]
    },
    {
      "cell_type": "code",
      "metadata": {
        "id": "VzlePv1N4Afp",
        "outputId": "6b3c7265-22b0-4e94-db9e-90ae47238636"
      },
      "source": [
        "# 문자 바꾸기\n",
        "table = str.maketrans('aeiou', '12345')\n",
        "'apple'.translate(table)"
      ],
      "execution_count": null,
      "outputs": [
        {
          "output_type": "execute_result",
          "data": {
            "text/plain": [
              "'1ppl2'"
            ]
          },
          "metadata": {
            "tags": []
          },
          "execution_count": 36
        }
      ]
    },
    {
      "cell_type": "code",
      "metadata": {
        "id": "zVsTuoLF4Afr",
        "outputId": "08e7f939-675c-4e89-98ef-fca9b4114bb8"
      },
      "source": [
        "# 문자열 분리하기\n",
        "'apple, pear, grape, pineapple, orange'.split(', ')"
      ],
      "execution_count": null,
      "outputs": [
        {
          "output_type": "execute_result",
          "data": {
            "text/plain": [
              "['apple', 'pear', 'grape', 'pineapple', 'orange']"
            ]
          },
          "metadata": {
            "tags": []
          },
          "execution_count": 37
        }
      ]
    },
    {
      "cell_type": "code",
      "metadata": {
        "id": "KsUEwlkw4Aft",
        "outputId": "06095211-0135-4a11-f9ea-e9249d3ff874"
      },
      "source": [
        "# 구분자 문자열과 문자열 리스트 연결하기\n",
        "' '.join(['apple', 'pear', 'grape', 'pineapple', 'orange'])\n",
        "'-'.join(['apple', 'pear', 'grape', 'pineapple', 'orange'])"
      ],
      "execution_count": null,
      "outputs": [
        {
          "output_type": "execute_result",
          "data": {
            "text/plain": [
              "'apple-pear-grape-pineapple-orange'"
            ]
          },
          "metadata": {
            "tags": []
          },
          "execution_count": 39
        }
      ]
    },
    {
      "cell_type": "code",
      "metadata": {
        "id": "9quhVSk74Afv",
        "outputId": "68a6daaf-6277-495c-ecbb-f55782635f78"
      },
      "source": [
        "# 양쪽 공백 삭제하기 & 양쪽 특정문자 삭제하기\n",
        "'   Python   '.strip()\n",
        "', python.'.strip(',.')"
      ],
      "execution_count": null,
      "outputs": [
        {
          "output_type": "execute_result",
          "data": {
            "text/plain": [
              "' python'"
            ]
          },
          "metadata": {
            "tags": []
          },
          "execution_count": 41
        }
      ]
    },
    {
      "cell_type": "code",
      "metadata": {
        "id": "_ML0njCk4Afx",
        "outputId": "325073a7-e3e2-42bd-975b-2a016bcbd91e"
      },
      "source": [
        "# 구두점을 간단하게 삭제하기\n",
        "import string\n",
        "', python.'.strip(string.punctuation)"
      ],
      "execution_count": null,
      "outputs": [
        {
          "output_type": "execute_result",
          "data": {
            "text/plain": [
              "' python'"
            ]
          },
          "metadata": {
            "tags": []
          },
          "execution_count": 42
        }
      ]
    },
    {
      "cell_type": "code",
      "metadata": {
        "id": "ywbK_CYY4Afz",
        "outputId": "2204d845-4460-4842-b097-2d0463ba2241"
      },
      "source": [
        "string.punctuation"
      ],
      "execution_count": null,
      "outputs": [
        {
          "output_type": "execute_result",
          "data": {
            "text/plain": [
              "'!\"#$%&\\'()*+,-./:;<=>?@[\\\\]^_`{|}~'"
            ]
          },
          "metadata": {
            "tags": []
          },
          "execution_count": 43
        }
      ]
    },
    {
      "cell_type": "code",
      "metadata": {
        "id": "trQhP8Ho4Af1",
        "outputId": "fccb52cf-6aab-4d34-f474-46b4e726f640"
      },
      "source": [
        " ', python.'.strip(string.punctuation + ' ')"
      ],
      "execution_count": null,
      "outputs": [
        {
          "output_type": "execute_result",
          "data": {
            "text/plain": [
              "'python'"
            ]
          },
          "metadata": {
            "tags": []
          },
          "execution_count": 44
        }
      ]
    },
    {
      "cell_type": "code",
      "metadata": {
        "id": "hbJwUdNi4Af3",
        "outputId": "4763c400-1d43-43f5-9a65-0094465bad7b"
      },
      "source": [
        "', python.'.strip(string.punctuation).strip()   # 체인형"
      ],
      "execution_count": null,
      "outputs": [
        {
          "output_type": "execute_result",
          "data": {
            "text/plain": [
              "'python'"
            ]
          },
          "metadata": {
            "tags": []
          },
          "execution_count": 45
        }
      ]
    },
    {
      "cell_type": "code",
      "metadata": {
        "id": "WY5HAtrB4Af4"
      },
      "source": [
        "def text_process(text):\n",
        "    #구분자 제거\n",
        "    text = text.translate(str.maketrans('', '', string.punctuation))\n",
        "    #모든 텍스트를 소문자로 바꾸고, stopword를 제거함\n",
        "    text = [word for word in text.split() if word.lower() not in stopwords.words('english')]\n",
        "    \n",
        "    return \" \".join(text)"
      ],
      "execution_count": null,
      "outputs": []
    },
    {
      "cell_type": "code",
      "metadata": {
        "id": "j1SxN76l4Af5",
        "outputId": "18ef9fb1-7eda-431e-c267-83ca198d1884"
      },
      "source": [
        "import nltk\n",
        "nltk.download('stopwords')"
      ],
      "execution_count": null,
      "outputs": [
        {
          "output_type": "stream",
          "text": [
            "[nltk_data] Downloading package stopwords to\n",
            "[nltk_data]     C:\\Users\\rta_note\\AppData\\Roaming\\nltk_data...\n",
            "[nltk_data]   Package stopwords is already up-to-date!\n"
          ],
          "name": "stderr"
        },
        {
          "output_type": "execute_result",
          "data": {
            "text/plain": [
              "True"
            ]
          },
          "metadata": {
            "tags": []
          },
          "execution_count": 27
        }
      ]
    },
    {
      "cell_type": "code",
      "metadata": {
        "id": "IGpH9sFM4Af6",
        "outputId": "9653fc6e-4bf7-4863-ab61-81ec0e94d0ff"
      },
      "source": [
        "help(enumerate(stopwords.words('english'),1))"
      ],
      "execution_count": null,
      "outputs": [
        {
          "output_type": "stream",
          "text": [
            "Help on enumerate object:\n",
            "\n",
            "class enumerate(object)\n",
            " |  enumerate(iterable[, start]) -> iterator for index, value of iterable\n",
            " |  \n",
            " |  Return an enumerate object.  iterable must be another object that supports\n",
            " |  iteration.  The enumerate object yields pairs containing a count (from\n",
            " |  start, which defaults to zero) and a value yielded by the iterable argument.\n",
            " |  enumerate is useful for obtaining an indexed list:\n",
            " |      (0, seq[0]), (1, seq[1]), (2, seq[2]), ...\n",
            " |  \n",
            " |  Methods defined here:\n",
            " |  \n",
            " |  __getattribute__(self, name, /)\n",
            " |      Return getattr(self, name).\n",
            " |  \n",
            " |  __iter__(self, /)\n",
            " |      Implement iter(self).\n",
            " |  \n",
            " |  __new__(*args, **kwargs) from builtins.type\n",
            " |      Create and return a new object.  See help(type) for accurate signature.\n",
            " |  \n",
            " |  __next__(self, /)\n",
            " |      Implement next(self).\n",
            " |  \n",
            " |  __reduce__(...)\n",
            " |      Return state information for pickling.\n",
            "\n"
          ],
          "name": "stdout"
        }
      ]
    },
    {
      "cell_type": "code",
      "metadata": {
        "scrolled": true,
        "id": "EpDcO0um4Af7",
        "outputId": "5ce4b7b8-e8f5-45d9-8c75-a1af16e5fa82"
      },
      "source": [
        "text_process(' ,,,text...  ')"
      ],
      "execution_count": null,
      "outputs": [
        {
          "output_type": "execute_result",
          "data": {
            "text/plain": [
              "'text'"
            ]
          },
          "metadata": {
            "tags": []
          },
          "execution_count": 28
        }
      ]
    },
    {
      "cell_type": "code",
      "metadata": {
        "id": "zj3o5unk4Af8",
        "outputId": "a9a0f747-02ea-4f7d-ed1f-410b7892af74"
      },
      "source": [
        "df = pd.DataFrame(np.arange(12).reshape(3,4),\n",
        "                 columns=['A','B','C','D'])\n",
        "df"
      ],
      "execution_count": null,
      "outputs": [
        {
          "output_type": "execute_result",
          "data": {
            "text/html": [
              "<div>\n",
              "<style scoped>\n",
              "    .dataframe tbody tr th:only-of-type {\n",
              "        vertical-align: middle;\n",
              "    }\n",
              "\n",
              "    .dataframe tbody tr th {\n",
              "        vertical-align: top;\n",
              "    }\n",
              "\n",
              "    .dataframe thead th {\n",
              "        text-align: right;\n",
              "    }\n",
              "</style>\n",
              "<table border=\"1\" class=\"dataframe\">\n",
              "  <thead>\n",
              "    <tr style=\"text-align: right;\">\n",
              "      <th></th>\n",
              "      <th>A</th>\n",
              "      <th>B</th>\n",
              "      <th>C</th>\n",
              "      <th>D</th>\n",
              "    </tr>\n",
              "  </thead>\n",
              "  <tbody>\n",
              "    <tr>\n",
              "      <th>0</th>\n",
              "      <td>0</td>\n",
              "      <td>1</td>\n",
              "      <td>2</td>\n",
              "      <td>3</td>\n",
              "    </tr>\n",
              "    <tr>\n",
              "      <th>1</th>\n",
              "      <td>4</td>\n",
              "      <td>5</td>\n",
              "      <td>6</td>\n",
              "      <td>7</td>\n",
              "    </tr>\n",
              "    <tr>\n",
              "      <th>2</th>\n",
              "      <td>8</td>\n",
              "      <td>9</td>\n",
              "      <td>10</td>\n",
              "      <td>11</td>\n",
              "    </tr>\n",
              "  </tbody>\n",
              "</table>\n",
              "</div>"
            ],
            "text/plain": [
              "   A  B   C   D\n",
              "0  0  1   2   3\n",
              "1  4  5   6   7\n",
              "2  8  9  10  11"
            ]
          },
          "metadata": {
            "tags": []
          },
          "execution_count": 40
        }
      ]
    },
    {
      "cell_type": "code",
      "metadata": {
        "id": "01Baw6ri4Af-"
      },
      "source": [
        ""
      ],
      "execution_count": null,
      "outputs": []
    }
  ]
}