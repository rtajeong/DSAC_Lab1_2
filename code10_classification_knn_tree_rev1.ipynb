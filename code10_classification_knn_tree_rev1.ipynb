{
 "cells": [
  {
   "cell_type": "markdown",
   "metadata": {},
   "source": [
    "# Classification Models"
   ]
  },
  {
   "cell_type": "code",
   "execution_count": 1,
   "metadata": {},
   "outputs": [],
   "source": [
    "import numpy as np\n",
    "import pandas as pd\n",
    "from sklearn.datasets import load_iris\n",
    "from sklearn.model_selection import train_test_split\n",
    "from sklearn.linear_model import SGDClassifier\n",
    "from sklearn.neighbors import KNeighborsClassifier\n",
    "import matplotlib.pyplot as plt\n",
    "%matplotlib inline"
   ]
  },
  {
   "cell_type": "markdown",
   "metadata": {},
   "source": [
    "## Knn Model\n",
    "- no train step\n",
    "- in fit step, it tries to find some tricks to speed up this search, for example, scikit-learn can construct kd-trees or ball trees during the call to the fit() function."
   ]
  },
  {
   "cell_type": "code",
   "execution_count": 2,
   "metadata": {},
   "outputs": [],
   "source": [
    "iris = load_iris()\n",
    "X, y = iris.data, iris.target"
   ]
  },
  {
   "cell_type": "code",
   "execution_count": 3,
   "metadata": {},
   "outputs": [
    {
     "data": {
      "text/plain": [
       "(array([[5.1, 3.5, 1.4, 0.2],\n",
       "        [4.9, 3. , 1.4, 0.2],\n",
       "        [4.7, 3.2, 1.3, 0.2],\n",
       "        [4.6, 3.1, 1.5, 0.2],\n",
       "        [5. , 3.6, 1.4, 0.2]]),\n",
       " ['sepal length (cm)',\n",
       "  'sepal width (cm)',\n",
       "  'petal length (cm)',\n",
       "  'petal width (cm)'],\n",
       " array([0, 0, 0, 0, 0, 0, 0, 0, 0, 0, 0, 0, 0, 0, 0, 0, 0, 0, 0, 0, 0, 0,\n",
       "        0, 0, 0, 0, 0, 0, 0, 0, 0, 0, 0, 0, 0, 0, 0, 0, 0, 0, 0, 0, 0, 0,\n",
       "        0, 0, 0, 0, 0, 0, 1, 1, 1, 1, 1, 1, 1, 1, 1, 1, 1, 1, 1, 1, 1, 1,\n",
       "        1, 1, 1, 1, 1, 1, 1, 1, 1, 1, 1, 1, 1, 1, 1, 1, 1, 1, 1, 1, 1, 1,\n",
       "        1, 1, 1, 1, 1, 1, 1, 1, 1, 1, 1, 1, 2, 2, 2, 2, 2, 2, 2, 2, 2, 2,\n",
       "        2, 2, 2, 2, 2, 2, 2, 2, 2, 2, 2, 2, 2, 2, 2, 2, 2, 2, 2, 2, 2, 2,\n",
       "        2, 2, 2, 2, 2, 2, 2, 2, 2, 2, 2, 2, 2, 2, 2, 2, 2, 2]))"
      ]
     },
     "execution_count": 3,
     "metadata": {},
     "output_type": "execute_result"
    }
   ],
   "source": [
    "iris.data[:5], iris.feature_names, iris.target"
   ]
  },
  {
   "cell_type": "code",
   "execution_count": 4,
   "metadata": {},
   "outputs": [
    {
     "data": {
      "text/plain": [
       "(150, 4)"
      ]
     },
     "execution_count": 4,
     "metadata": {},
     "output_type": "execute_result"
    }
   ],
   "source": [
    "X.shape"
   ]
  },
  {
   "cell_type": "code",
   "execution_count": 5,
   "metadata": {
    "scrolled": true
   },
   "outputs": [
    {
     "data": {
      "text/plain": [
       "(array([[5.1, 3.5, 1.4, 0.2],\n",
       "        [4.9, 3. , 1.4, 0.2],\n",
       "        [4.7, 3.2, 1.3, 0.2],\n",
       "        [4.6, 3.1, 1.5, 0.2],\n",
       "        [5. , 3.6, 1.4, 0.2]]),\n",
       " array([0, 0, 0, 0, 0]))"
      ]
     },
     "execution_count": 5,
     "metadata": {},
     "output_type": "execute_result"
    }
   ],
   "source": [
    "X[:5], y[:5]"
   ]
  },
  {
   "cell_type": "code",
   "execution_count": 6,
   "metadata": {},
   "outputs": [
    {
     "data": {
      "image/png": "[encoded data removed]",
      "text/plain": [
       "<Figure size 432x288 with 1 Axes>"
      ]
     },
     "metadata": {
      "needs_background": "light"
     },
     "output_type": "display_data"
    }
   ],
   "source": [
    "from sklearn.decomposition import PCA \n",
    "from sklearn.preprocessing import StandardScaler\n",
    "\n",
    "pca = PCA(n_components=2)\n",
    "pca_result = pca.fit_transform(StandardScaler().fit_transform(X))\n",
    "\n",
    "m = ['v', 'o', 'x']\n",
    "c = ['r','b','y']\n",
    "plt.figure(figsize=(6,4))\n",
    "for i in range(len(y)):\n",
    "    plt.scatter(pca_result[:,0][i],pca_result[:,1][i], marker=m[y[i]], c=c[y[i]], s=5)\n",
    "plt.show()"
   ]
  },
  {
   "cell_type": "code",
   "execution_count": 7,
   "metadata": {},
   "outputs": [
    {
     "name": "stdout",
     "output_type": "stream",
     "text": [
      "kNN score: 0.98\n",
      "Linear Reg score: 0.80\n"
     ]
    }
   ],
   "source": [
    "np.random.seed(17)\n",
    "X_train, X_test, y_train, y_test = train_test_split(X, y, test_size=0.3)\n",
    "\n",
    "clf = SGDClassifier()\n",
    "knn = KNeighborsClassifier(n_neighbors=3)\n",
    "\n",
    "knn.fit(X_train, y_train)\n",
    "print(\"kNN score: {:.2f}\".format(knn.score(X_test, y_test)))\n",
    "clf.fit(X_train, y_train)\n",
    "print(\"Linear Reg score: {:.2f}\".format(clf.score(X_test, y_test)))"
   ]
  },
  {
   "cell_type": "code",
   "execution_count": 8,
   "metadata": {},
   "outputs": [
    {
     "name": "stdout",
     "output_type": "stream",
     "text": [
      "K가 1 일때 정확도: 0.98\n",
      "K가 2 일때 정확도: 0.96\n",
      "K가 3 일때 정확도: 0.98\n",
      "K가 4 일때 정확도: 0.96\n",
      "K가 5 일때 정확도: 0.96\n",
      "K가 6 일때 정확도: 0.93\n",
      "K가 7 일때 정확도: 0.93\n",
      "K가 8 일때 정확도: 0.93\n",
      "K가 9 일때 정확도: 0.93\n"
     ]
    }
   ],
   "source": [
    "for k in range(1,10):\n",
    "    knn = KNeighborsClassifier(n_neighbors=k)\n",
    "    knn.fit(X_train,y_train)\n",
    "    print(\"K가\", k, \"일때 정확도: {:.2f}\".format(knn.score(X_test, y_test)))"
   ]
  },
  {
   "cell_type": "markdown",
   "metadata": {},
   "source": [
    "## 교차 검증"
   ]
  },
  {
   "cell_type": "code",
   "execution_count": 9,
   "metadata": {
    "scrolled": true
   },
   "outputs": [
    {
     "data": {
      "text/plain": [
       "0.9733"
      ]
     },
     "execution_count": 9,
     "metadata": {},
     "output_type": "execute_result"
    }
   ],
   "source": [
    "from sklearn.model_selection import cross_val_score, KFold\n",
    "cross_val_score(knn, X, y, cv=5).mean().round(4)"
   ]
  },
  {
   "cell_type": "code",
   "execution_count": 10,
   "metadata": {
    "scrolled": true
   },
   "outputs": [
    {
     "data": {
      "text/plain": [
       "0.7133"
      ]
     },
     "execution_count": 10,
     "metadata": {},
     "output_type": "execute_result"
    }
   ],
   "source": [
    "cross_val_score(clf, X, y, cv=5).mean().round(4)"
   ]
  },
  {
   "cell_type": "markdown",
   "metadata": {},
   "source": [
    "## 분석\n",
    "- 선형 알고리즘이 성능이 더 좋지 않은 것으로 나타난다. (하지만 데이터 사이즈가 작아 불확실)\n",
    "- scaling 한 후에 다시 한 번 확인해 보자 \n",
    "- 선형 모델이나 SVM, 신경망에서는 반드시 scaling 을 해야 한다."
   ]
  },
  {
   "cell_type": "code",
   "execution_count": 11,
   "metadata": {},
   "outputs": [
    {
     "name": "stdout",
     "output_type": "stream",
     "text": [
      "Linear-sacaled:  0.9533\n",
      "Knn-scaled:  0.96\n"
     ]
    }
   ],
   "source": [
    "from sklearn.preprocessing import StandardScaler\n",
    "sc = StandardScaler()\n",
    "X_sc = sc.fit_transform(X)\n",
    "print(\"Linear-sacaled: \", cross_val_score(clf, X_sc, y, cv=5).mean().round(4))\n",
    "print(\"Knn-scaled: \", cross_val_score(knn, X_sc, y, cv=5).mean().round(4))"
   ]
  },
  {
   "cell_type": "code",
   "execution_count": 12,
   "metadata": {},
   "outputs": [
    {
     "data": {
      "text/plain": [
       "(150, 4)"
      ]
     },
     "execution_count": 12,
     "metadata": {},
     "output_type": "execute_result"
    }
   ],
   "source": [
    "X.shape"
   ]
  },
  {
   "cell_type": "markdown",
   "metadata": {},
   "source": [
    "## Decision tree model"
   ]
  },
  {
   "cell_type": "code",
   "execution_count": 13,
   "metadata": {},
   "outputs": [
    {
     "data": {
      "text/plain": [
       "DecisionTreeClassifier(ccp_alpha=0.0, class_weight=None, criterion='gini',\n",
       "                       max_depth=3, max_features=None, max_leaf_nodes=None,\n",
       "                       min_impurity_decrease=0.0, min_impurity_split=None,\n",
       "                       min_samples_leaf=1, min_samples_split=2,\n",
       "                       min_weight_fraction_leaf=0.0, presort='deprecated',\n",
       "                       random_state=None, splitter='best')"
      ]
     },
     "execution_count": 13,
     "metadata": {},
     "output_type": "execute_result"
    }
   ],
   "source": [
    "from sklearn.tree import DecisionTreeClassifier\n",
    "\n",
    "iris = load_iris()\n",
    "X = iris.data[:, :2]   # use only two features\n",
    "y = iris.target\n",
    "X_train, X_test, y_train, y_test = train_test_split(X, y, test_size=0.3)\n",
    "clf = DecisionTreeClassifier(max_depth = 3)\n",
    "clf.fit(X_train, y_train)"
   ]
  },
  {
   "cell_type": "code",
   "execution_count": 14,
   "metadata": {},
   "outputs": [
    {
     "data": {
      "text/plain": [
       "[Text(167.4, 190.26, 'X[0] <= 5.45\\ngini = 0.663\\nsamples = 105\\nvalue = [40, 33, 32]'),\n",
       " Text(83.7, 135.9, 'X[1] <= 2.7\\ngini = 0.18\\nsamples = 41\\nvalue = [37, 3, 1]'),\n",
       " Text(41.85, 81.53999999999999, 'X[0] <= 4.95\\ngini = 0.444\\nsamples = 3\\nvalue = [0, 2, 1]'),\n",
       " Text(20.925, 27.180000000000007, 'gini = 0.0\\nsamples = 1\\nvalue = [0, 0, 1]'),\n",
       " Text(62.775000000000006, 27.180000000000007, 'gini = 0.0\\nsamples = 2\\nvalue = [0, 2, 0]'),\n",
       " Text(125.55000000000001, 81.53999999999999, 'X[0] <= 5.35\\ngini = 0.051\\nsamples = 38\\nvalue = [37, 1, 0]'),\n",
       " Text(104.625, 27.180000000000007, 'gini = 0.0\\nsamples = 33\\nvalue = [33, 0, 0]'),\n",
       " Text(146.475, 27.180000000000007, 'gini = 0.32\\nsamples = 5\\nvalue = [4, 1, 0]'),\n",
       " Text(251.10000000000002, 135.9, 'X[0] <= 5.75\\ngini = 0.543\\nsamples = 64\\nvalue = [3, 30, 31]'),\n",
       " Text(209.25, 81.53999999999999, 'X[1] <= 3.25\\ngini = 0.418\\nsamples = 15\\nvalue = [3, 11, 1]'),\n",
       " Text(188.32500000000002, 27.180000000000007, 'gini = 0.153\\nsamples = 12\\nvalue = [0, 11, 1]'),\n",
       " Text(230.175, 27.180000000000007, 'gini = 0.0\\nsamples = 3\\nvalue = [3, 0, 0]'),\n",
       " Text(292.95, 81.53999999999999, 'X[0] <= 7.1\\ngini = 0.475\\nsamples = 49\\nvalue = [0, 19, 30]'),\n",
       " Text(272.02500000000003, 27.180000000000007, 'gini = 0.497\\nsamples = 41\\nvalue = [0, 19, 22]'),\n",
       " Text(313.875, 27.180000000000007, 'gini = 0.0\\nsamples = 8\\nvalue = [0, 0, 8]')]"
      ]
     },
     "execution_count": 14,
     "metadata": {},
     "output_type": "execute_result"
    },
    {
     "data": {
      "image/png": "[encoded data removed]",
      "text/plain": [
       "<Figure size 432x288 with 1 Axes>"
      ]
     },
     "metadata": {
      "needs_background": "light"
     },
     "output_type": "display_data"
    }
   ],
   "source": [
    "from sklearn import tree\n",
    "tree.plot_tree(clf, filled=True) # filled=True -> paint to indicate majority class"
   ]
  },
  {
   "cell_type": "markdown",
   "metadata": {},
   "source": [
    "- use Graphviz"
   ]
  },
  {
   "cell_type": "code",
   "execution_count": 63,
   "metadata": {},
   "outputs": [],
   "source": [
    "# !pip install graphviz   or\n",
    "# conda install python-graphviz (in cmd 창)\n",
    "# note that the above two commands install graphviz library in different places."
   ]
  },
  {
   "cell_type": "markdown",
   "metadata": {},
   "source": [
    "- export_graphviz(): Export a decision tree in DOT format. This function generates a GraphViz representation of the decision tree, which is then written into out_file\n",
    "- dot file: DOT is a graph description language. DOT graphs are typically files with the filename extension gv or dot."
   ]
  },
  {
   "cell_type": "code",
   "execution_count": 64,
   "metadata": {},
   "outputs": [
    {
     "data": {
      "image/svg+xml": [
       "<?xml version=\"1.0\" encoding=\"UTF-8\" standalone=\"no\"?>\r\n",
       "<!DOCTYPE svg PUBLIC \"-//W3C//DTD SVG 1.1//EN\"\r\n",
       " \"http://www.w3.org/Graphics/SVG/1.1/DTD/svg11.dtd\">\r\n",
       "<!-- Generated by graphviz version 2.38.0 (20140413.2041)\r\n",
       " -->\r\n",
       "<!-- Title: Tree Pages: 1 -->\r\n",
       "<svg width=\"1021pt\" height=\"433pt\"\r\n",
       " viewBox=\"0.00 0.00 1021.00 433.00\" xmlns=\"http://www.w3.org/2000/svg\" xmlns:xlink=\"http://www.w3.org/1999/xlink\">\r\n",
       "<g id=\"graph0\" class=\"graph\" transform=\"scale(1 1) rotate(0) translate(4 429)\">\r\n",
       "<title>Tree</title>\r\n",
       "<polygon fill=\"white\" stroke=\"none\" points=\"-4,4 -4,-429 1017,-429 1017,4 -4,4\"/>\r\n",
       "<!-- 0 -->\r\n",
       "<g id=\"node1\" class=\"node\"><title>0</title>\r\n",
       "<polygon fill=\"#fef8f4\" stroke=\"black\" points=\"584.5,-425 424.5,-425 424.5,-342 584.5,-342 584.5,-425\"/>\r\n",
       "<text text-anchor=\"middle\" x=\"504.5\" y=\"-409.8\" font-family=\"Times New Roman,serif\" font-size=\"14.00\">sepal length (cm) &lt;= 5.45</text>\r\n",
       "<text text-anchor=\"middle\" x=\"504.5\" y=\"-394.8\" font-family=\"Times New Roman,serif\" font-size=\"14.00\">gini = 0.664</text>\r\n",
       "<text text-anchor=\"middle\" x=\"504.5\" y=\"-379.8\" font-family=\"Times New Roman,serif\" font-size=\"14.00\">samples = 105</text>\r\n",
       "<text text-anchor=\"middle\" x=\"504.5\" y=\"-364.8\" font-family=\"Times New Roman,serif\" font-size=\"14.00\">value = [39, 35, 31]</text>\r\n",
       "<text text-anchor=\"middle\" x=\"504.5\" y=\"-349.8\" font-family=\"Times New Roman,serif\" font-size=\"14.00\">class = setosa</text>\r\n",
       "</g>\r\n",
       "<!-- 1 -->\r\n",
       "<g id=\"node2\" class=\"node\"><title>1</title>\r\n",
       "<polygon fill=\"#e9965a\" stroke=\"black\" points=\"483,-306 332,-306 332,-223 483,-223 483,-306\"/>\r\n",
       "<text text-anchor=\"middle\" x=\"407.5\" y=\"-290.8\" font-family=\"Times New Roman,serif\" font-size=\"14.00\">sepal width (cm) &lt;= 2.8</text>\r\n",
       "<text text-anchor=\"middle\" x=\"407.5\" y=\"-275.8\" font-family=\"Times New Roman,serif\" font-size=\"14.00\">gini = 0.256</text>\r\n",
       "<text text-anchor=\"middle\" x=\"407.5\" y=\"-260.8\" font-family=\"Times New Roman,serif\" font-size=\"14.00\">samples = 41</text>\r\n",
       "<text text-anchor=\"middle\" x=\"407.5\" y=\"-245.8\" font-family=\"Times New Roman,serif\" font-size=\"14.00\">value = [35, 5, 1]</text>\r\n",
       "<text text-anchor=\"middle\" x=\"407.5\" y=\"-230.8\" font-family=\"Times New Roman,serif\" font-size=\"14.00\">class = setosa</text>\r\n",
       "</g>\r\n",
       "<!-- 0&#45;&gt;1 -->\r\n",
       "<g id=\"edge1\" class=\"edge\"><title>0&#45;&gt;1</title>\r\n",
       "<path fill=\"none\" stroke=\"black\" d=\"M470.846,-341.907C463.323,-332.832 455.271,-323.121 447.518,-313.769\"/>\r\n",
       "<polygon fill=\"black\" stroke=\"black\" points=\"450.171,-311.485 441.094,-306.021 444.782,-315.953 450.171,-311.485\"/>\r\n",
       "<text text-anchor=\"middle\" x=\"438.768\" y=\"-327.212\" font-family=\"Times New Roman,serif\" font-size=\"14.00\">True</text>\r\n",
       "</g>\r\n",
       "<!-- 8 -->\r\n",
       "<g id=\"node9\" class=\"node\"><title>8</title>\r\n",
       "<polygon fill=\"#ffffff\" stroke=\"black\" points=\"682.5,-306 522.5,-306 522.5,-223 682.5,-223 682.5,-306\"/>\r\n",
       "<text text-anchor=\"middle\" x=\"602.5\" y=\"-290.8\" font-family=\"Times New Roman,serif\" font-size=\"14.00\">sepal length (cm) &lt;= 5.75</text>\r\n",
       "<text text-anchor=\"middle\" x=\"602.5\" y=\"-275.8\" font-family=\"Times New Roman,serif\" font-size=\"14.00\">gini = 0.557</text>\r\n",
       "<text text-anchor=\"middle\" x=\"602.5\" y=\"-260.8\" font-family=\"Times New Roman,serif\" font-size=\"14.00\">samples = 64</text>\r\n",
       "<text text-anchor=\"middle\" x=\"602.5\" y=\"-245.8\" font-family=\"Times New Roman,serif\" font-size=\"14.00\">value = [4, 30, 30]</text>\r\n",
       "<text text-anchor=\"middle\" x=\"602.5\" y=\"-230.8\" font-family=\"Times New Roman,serif\" font-size=\"14.00\">class = versicolor</text>\r\n",
       "</g>\r\n",
       "<!-- 0&#45;&gt;8 -->\r\n",
       "<g id=\"edge8\" class=\"edge\"><title>0&#45;&gt;8</title>\r\n",
       "<path fill=\"none\" stroke=\"black\" d=\"M538.501,-341.907C546.102,-332.832 554.236,-323.121 562.069,-313.769\"/>\r\n",
       "<polygon fill=\"black\" stroke=\"black\" points=\"564.821,-315.934 568.559,-306.021 559.455,-311.439 564.821,-315.934\"/>\r\n",
       "<text text-anchor=\"middle\" x=\"570.76\" y=\"-327.224\" font-family=\"Times New Roman,serif\" font-size=\"14.00\">False</text>\r\n",
       "</g>\r\n",
       "<!-- 2 -->\r\n",
       "<g id=\"node3\" class=\"node\"><title>2</title>\r\n",
       "<polygon fill=\"#88efb3\" stroke=\"black\" points=\"258,-187 105,-187 105,-104 258,-104 258,-187\"/>\r\n",
       "<text text-anchor=\"middle\" x=\"181.5\" y=\"-171.8\" font-family=\"Times New Roman,serif\" font-size=\"14.00\">sepal length (cm) &lt;= 4.7</text>\r\n",
       "<text text-anchor=\"middle\" x=\"181.5\" y=\"-156.8\" font-family=\"Times New Roman,serif\" font-size=\"14.00\">gini = 0.5</text>\r\n",
       "<text text-anchor=\"middle\" x=\"181.5\" y=\"-141.8\" font-family=\"Times New Roman,serif\" font-size=\"14.00\">samples = 6</text>\r\n",
       "<text text-anchor=\"middle\" x=\"181.5\" y=\"-126.8\" font-family=\"Times New Roman,serif\" font-size=\"14.00\">value = [1, 4, 1]</text>\r\n",
       "<text text-anchor=\"middle\" x=\"181.5\" y=\"-111.8\" font-family=\"Times New Roman,serif\" font-size=\"14.00\">class = versicolor</text>\r\n",
       "</g>\r\n",
       "<!-- 1&#45;&gt;2 -->\r\n",
       "<g id=\"edge2\" class=\"edge\"><title>1&#45;&gt;2</title>\r\n",
       "<path fill=\"none\" stroke=\"black\" d=\"M331.931,-224.378C311.159,-213.624 288.485,-201.886 267.188,-190.861\"/>\r\n",
       "<polygon fill=\"black\" stroke=\"black\" points=\"268.644,-187.673 258.154,-186.184 265.426,-193.89 268.644,-187.673\"/>\r\n",
       "</g>\r\n",
       "<!-- 5 -->\r\n",
       "<g id=\"node6\" class=\"node\"><title>5</title>\r\n",
       "<polygon fill=\"#e6853f\" stroke=\"black\" points=\"487.5,-187 327.5,-187 327.5,-104 487.5,-104 487.5,-187\"/>\r\n",
       "<text text-anchor=\"middle\" x=\"407.5\" y=\"-171.8\" font-family=\"Times New Roman,serif\" font-size=\"14.00\">sepal length (cm) &lt;= 5.35</text>\r\n",
       "<text text-anchor=\"middle\" x=\"407.5\" y=\"-156.8\" font-family=\"Times New Roman,serif\" font-size=\"14.00\">gini = 0.056</text>\r\n",
       "<text text-anchor=\"middle\" x=\"407.5\" y=\"-141.8\" font-family=\"Times New Roman,serif\" font-size=\"14.00\">samples = 35</text>\r\n",
       "<text text-anchor=\"middle\" x=\"407.5\" y=\"-126.8\" font-family=\"Times New Roman,serif\" font-size=\"14.00\">value = [34, 1, 0]</text>\r\n",
       "<text text-anchor=\"middle\" x=\"407.5\" y=\"-111.8\" font-family=\"Times New Roman,serif\" font-size=\"14.00\">class = setosa</text>\r\n",
       "</g>\r\n",
       "<!-- 1&#45;&gt;5 -->\r\n",
       "<g id=\"edge5\" class=\"edge\"><title>1&#45;&gt;5</title>\r\n",
       "<path fill=\"none\" stroke=\"black\" d=\"M407.5,-222.907C407.5,-214.649 407.5,-205.864 407.5,-197.302\"/>\r\n",
       "<polygon fill=\"black\" stroke=\"black\" points=\"411,-197.021 407.5,-187.021 404,-197.021 411,-197.021\"/>\r\n",
       "</g>\r\n",
       "<!-- 3 -->\r\n",
       "<g id=\"node4\" class=\"node\"><title>3</title>\r\n",
       "<polygon fill=\"#e58139\" stroke=\"black\" points=\"105,-68 0,-68 0,-0 105,-0 105,-68\"/>\r\n",
       "<text text-anchor=\"middle\" x=\"52.5\" y=\"-52.8\" font-family=\"Times New Roman,serif\" font-size=\"14.00\">gini = 0.0</text>\r\n",
       "<text text-anchor=\"middle\" x=\"52.5\" y=\"-37.8\" font-family=\"Times New Roman,serif\" font-size=\"14.00\">samples = 1</text>\r\n",
       "<text text-anchor=\"middle\" x=\"52.5\" y=\"-22.8\" font-family=\"Times New Roman,serif\" font-size=\"14.00\">value = [1, 0, 0]</text>\r\n",
       "<text text-anchor=\"middle\" x=\"52.5\" y=\"-7.8\" font-family=\"Times New Roman,serif\" font-size=\"14.00\">class = setosa</text>\r\n",
       "</g>\r\n",
       "<!-- 2&#45;&gt;3 -->\r\n",
       "<g id=\"edge3\" class=\"edge\"><title>2&#45;&gt;3</title>\r\n",
       "<path fill=\"none\" stroke=\"black\" d=\"M133.465,-103.726C122.398,-94.3318 110.637,-84.349 99.6095,-74.9883\"/>\r\n",
       "<polygon fill=\"black\" stroke=\"black\" points=\"101.618,-72.1026 91.7297,-68.2996 97.0885,-77.4393 101.618,-72.1026\"/>\r\n",
       "</g>\r\n",
       "<!-- 4 -->\r\n",
       "<g id=\"node5\" class=\"node\"><title>4</title>\r\n",
       "<polygon fill=\"#6aeca0\" stroke=\"black\" points=\"239.5,-68 123.5,-68 123.5,-0 239.5,-0 239.5,-68\"/>\r\n",
       "<text text-anchor=\"middle\" x=\"181.5\" y=\"-52.8\" font-family=\"Times New Roman,serif\" font-size=\"14.00\">gini = 0.32</text>\r\n",
       "<text text-anchor=\"middle\" x=\"181.5\" y=\"-37.8\" font-family=\"Times New Roman,serif\" font-size=\"14.00\">samples = 5</text>\r\n",
       "<text text-anchor=\"middle\" x=\"181.5\" y=\"-22.8\" font-family=\"Times New Roman,serif\" font-size=\"14.00\">value = [0, 4, 1]</text>\r\n",
       "<text text-anchor=\"middle\" x=\"181.5\" y=\"-7.8\" font-family=\"Times New Roman,serif\" font-size=\"14.00\">class = versicolor</text>\r\n",
       "</g>\r\n",
       "<!-- 2&#45;&gt;4 -->\r\n",
       "<g id=\"edge4\" class=\"edge\"><title>2&#45;&gt;4</title>\r\n",
       "<path fill=\"none\" stroke=\"black\" d=\"M181.5,-103.726C181.5,-95.5175 181.5,-86.8595 181.5,-78.56\"/>\r\n",
       "<polygon fill=\"black\" stroke=\"black\" points=\"185,-78.2996 181.5,-68.2996 178,-78.2996 185,-78.2996\"/>\r\n",
       "</g>\r\n",
       "<!-- 6 -->\r\n",
       "<g id=\"node7\" class=\"node\"><title>6</title>\r\n",
       "<polygon fill=\"#e58139\" stroke=\"black\" points=\"369.5,-68 257.5,-68 257.5,-0 369.5,-0 369.5,-68\"/>\r\n",
       "<text text-anchor=\"middle\" x=\"313.5\" y=\"-52.8\" font-family=\"Times New Roman,serif\" font-size=\"14.00\">gini = 0.0</text>\r\n",
       "<text text-anchor=\"middle\" x=\"313.5\" y=\"-37.8\" font-family=\"Times New Roman,serif\" font-size=\"14.00\">samples = 30</text>\r\n",
       "<text text-anchor=\"middle\" x=\"313.5\" y=\"-22.8\" font-family=\"Times New Roman,serif\" font-size=\"14.00\">value = [30, 0, 0]</text>\r\n",
       "<text text-anchor=\"middle\" x=\"313.5\" y=\"-7.8\" font-family=\"Times New Roman,serif\" font-size=\"14.00\">class = setosa</text>\r\n",
       "</g>\r\n",
       "<!-- 5&#45;&gt;6 -->\r\n",
       "<g id=\"edge6\" class=\"edge\"><title>5&#45;&gt;6</title>\r\n",
       "<path fill=\"none\" stroke=\"black\" d=\"M372.498,-103.726C364.746,-94.6966 356.528,-85.1235 348.766,-76.0816\"/>\r\n",
       "<polygon fill=\"black\" stroke=\"black\" points=\"351.255,-73.6075 342.086,-68.2996 345.944,-78.1671 351.255,-73.6075\"/>\r\n",
       "</g>\r\n",
       "<!-- 7 -->\r\n",
       "<g id=\"node8\" class=\"node\"><title>7</title>\r\n",
       "<polygon fill=\"#eca06a\" stroke=\"black\" points=\"493,-68 388,-68 388,-0 493,-0 493,-68\"/>\r\n",
       "<text text-anchor=\"middle\" x=\"440.5\" y=\"-52.8\" font-family=\"Times New Roman,serif\" font-size=\"14.00\">gini = 0.32</text>\r\n",
       "<text text-anchor=\"middle\" x=\"440.5\" y=\"-37.8\" font-family=\"Times New Roman,serif\" font-size=\"14.00\">samples = 5</text>\r\n",
       "<text text-anchor=\"middle\" x=\"440.5\" y=\"-22.8\" font-family=\"Times New Roman,serif\" font-size=\"14.00\">value = [4, 1, 0]</text>\r\n",
       "<text text-anchor=\"middle\" x=\"440.5\" y=\"-7.8\" font-family=\"Times New Roman,serif\" font-size=\"14.00\">class = setosa</text>\r\n",
       "</g>\r\n",
       "<!-- 5&#45;&gt;7 -->\r\n",
       "<g id=\"edge7\" class=\"edge\"><title>5&#45;&gt;7</title>\r\n",
       "<path fill=\"none\" stroke=\"black\" d=\"M419.788,-103.726C422.317,-95.3351 424.987,-86.4745 427.539,-78.0072\"/>\r\n",
       "<polygon fill=\"black\" stroke=\"black\" points=\"430.93,-78.8842 430.465,-68.2996 424.228,-76.8643 430.93,-78.8842\"/>\r\n",
       "</g>\r\n",
       "<!-- 9 -->\r\n",
       "<g id=\"node10\" class=\"node\"><title>9</title>\r\n",
       "<polygon fill=\"#8cf0b6\" stroke=\"black\" points=\"681.5,-187 523.5,-187 523.5,-104 681.5,-104 681.5,-187\"/>\r\n",
       "<text text-anchor=\"middle\" x=\"602.5\" y=\"-171.8\" font-family=\"Times New Roman,serif\" font-size=\"14.00\">sepal width (cm) &lt;= 3.25</text>\r\n",
       "<text text-anchor=\"middle\" x=\"602.5\" y=\"-156.8\" font-family=\"Times New Roman,serif\" font-size=\"14.00\">gini = 0.461</text>\r\n",
       "<text text-anchor=\"middle\" x=\"602.5\" y=\"-141.8\" font-family=\"Times New Roman,serif\" font-size=\"14.00\">samples = 16</text>\r\n",
       "<text text-anchor=\"middle\" x=\"602.5\" y=\"-126.8\" font-family=\"Times New Roman,serif\" font-size=\"14.00\">value = [4, 11, 1]</text>\r\n",
       "<text text-anchor=\"middle\" x=\"602.5\" y=\"-111.8\" font-family=\"Times New Roman,serif\" font-size=\"14.00\">class = versicolor</text>\r\n",
       "</g>\r\n",
       "<!-- 8&#45;&gt;9 -->\r\n",
       "<g id=\"edge9\" class=\"edge\"><title>8&#45;&gt;9</title>\r\n",
       "<path fill=\"none\" stroke=\"black\" d=\"M602.5,-222.907C602.5,-214.649 602.5,-205.864 602.5,-197.302\"/>\r\n",
       "<polygon fill=\"black\" stroke=\"black\" points=\"606,-197.021 602.5,-187.021 599,-197.021 606,-197.021\"/>\r\n",
       "</g>\r\n",
       "<!-- 12 -->\r\n",
       "<g id=\"node13\" class=\"node\"><title>12</title>\r\n",
       "<polygon fill=\"#d4bbf6\" stroke=\"black\" points=\"908.5,-187 748.5,-187 748.5,-104 908.5,-104 908.5,-187\"/>\r\n",
       "<text text-anchor=\"middle\" x=\"828.5\" y=\"-171.8\" font-family=\"Times New Roman,serif\" font-size=\"14.00\">sepal length (cm) &lt;= 7.05</text>\r\n",
       "<text text-anchor=\"middle\" x=\"828.5\" y=\"-156.8\" font-family=\"Times New Roman,serif\" font-size=\"14.00\">gini = 0.478</text>\r\n",
       "<text text-anchor=\"middle\" x=\"828.5\" y=\"-141.8\" font-family=\"Times New Roman,serif\" font-size=\"14.00\">samples = 48</text>\r\n",
       "<text text-anchor=\"middle\" x=\"828.5\" y=\"-126.8\" font-family=\"Times New Roman,serif\" font-size=\"14.00\">value = [0, 19, 29]</text>\r\n",
       "<text text-anchor=\"middle\" x=\"828.5\" y=\"-111.8\" font-family=\"Times New Roman,serif\" font-size=\"14.00\">class = virginica</text>\r\n",
       "</g>\r\n",
       "<!-- 8&#45;&gt;12 -->\r\n",
       "<g id=\"edge12\" class=\"edge\"><title>8&#45;&gt;12</title>\r\n",
       "<path fill=\"none\" stroke=\"black\" d=\"M680.91,-222.907C700.368,-212.834 721.34,-201.977 741.195,-191.698\"/>\r\n",
       "<polygon fill=\"black\" stroke=\"black\" points=\"742.958,-194.726 750.229,-187.021 739.739,-188.51 742.958,-194.726\"/>\r\n",
       "</g>\r\n",
       "<!-- 10 -->\r\n",
       "<g id=\"node11\" class=\"node\"><title>10</title>\r\n",
       "<polygon fill=\"#4be78c\" stroke=\"black\" points=\"627.5,-68 511.5,-68 511.5,-0 627.5,-0 627.5,-68\"/>\r\n",
       "<text text-anchor=\"middle\" x=\"569.5\" y=\"-52.8\" font-family=\"Times New Roman,serif\" font-size=\"14.00\">gini = 0.153</text>\r\n",
       "<text text-anchor=\"middle\" x=\"569.5\" y=\"-37.8\" font-family=\"Times New Roman,serif\" font-size=\"14.00\">samples = 12</text>\r\n",
       "<text text-anchor=\"middle\" x=\"569.5\" y=\"-22.8\" font-family=\"Times New Roman,serif\" font-size=\"14.00\">value = [0, 11, 1]</text>\r\n",
       "<text text-anchor=\"middle\" x=\"569.5\" y=\"-7.8\" font-family=\"Times New Roman,serif\" font-size=\"14.00\">class = versicolor</text>\r\n",
       "</g>\r\n",
       "<!-- 9&#45;&gt;10 -->\r\n",
       "<g id=\"edge10\" class=\"edge\"><title>9&#45;&gt;10</title>\r\n",
       "<path fill=\"none\" stroke=\"black\" d=\"M590.212,-103.726C587.683,-95.3351 585.013,-86.4745 582.461,-78.0072\"/>\r\n",
       "<polygon fill=\"black\" stroke=\"black\" points=\"585.772,-76.8643 579.535,-68.2996 579.07,-78.8842 585.772,-76.8643\"/>\r\n",
       "</g>\r\n",
       "<!-- 11 -->\r\n",
       "<g id=\"node12\" class=\"node\"><title>11</title>\r\n",
       "<polygon fill=\"#e58139\" stroke=\"black\" points=\"751,-68 646,-68 646,-0 751,-0 751,-68\"/>\r\n",
       "<text text-anchor=\"middle\" x=\"698.5\" y=\"-52.8\" font-family=\"Times New Roman,serif\" font-size=\"14.00\">gini = 0.0</text>\r\n",
       "<text text-anchor=\"middle\" x=\"698.5\" y=\"-37.8\" font-family=\"Times New Roman,serif\" font-size=\"14.00\">samples = 4</text>\r\n",
       "<text text-anchor=\"middle\" x=\"698.5\" y=\"-22.8\" font-family=\"Times New Roman,serif\" font-size=\"14.00\">value = [4, 0, 0]</text>\r\n",
       "<text text-anchor=\"middle\" x=\"698.5\" y=\"-7.8\" font-family=\"Times New Roman,serif\" font-size=\"14.00\">class = setosa</text>\r\n",
       "</g>\r\n",
       "<!-- 9&#45;&gt;11 -->\r\n",
       "<g id=\"edge11\" class=\"edge\"><title>9&#45;&gt;11</title>\r\n",
       "<path fill=\"none\" stroke=\"black\" d=\"M638.247,-103.726C646.163,-94.6966 654.556,-85.1235 662.483,-76.0816\"/>\r\n",
       "<polygon fill=\"black\" stroke=\"black\" points=\"665.345,-78.1263 669.306,-68.2996 660.082,-73.5117 665.345,-78.1263\"/>\r\n",
       "</g>\r\n",
       "<!-- 13 -->\r\n",
       "<g id=\"node14\" class=\"node\"><title>13</title>\r\n",
       "<polygon fill=\"#eee4fb\" stroke=\"black\" points=\"888,-68 769,-68 769,-0 888,-0 888,-68\"/>\r\n",
       "<text text-anchor=\"middle\" x=\"828.5\" y=\"-52.8\" font-family=\"Times New Roman,serif\" font-size=\"14.00\">gini = 0.497</text>\r\n",
       "<text text-anchor=\"middle\" x=\"828.5\" y=\"-37.8\" font-family=\"Times New Roman,serif\" font-size=\"14.00\">samples = 41</text>\r\n",
       "<text text-anchor=\"middle\" x=\"828.5\" y=\"-22.8\" font-family=\"Times New Roman,serif\" font-size=\"14.00\">value = [0, 19, 22]</text>\r\n",
       "<text text-anchor=\"middle\" x=\"828.5\" y=\"-7.8\" font-family=\"Times New Roman,serif\" font-size=\"14.00\">class = virginica</text>\r\n",
       "</g>\r\n",
       "<!-- 12&#45;&gt;13 -->\r\n",
       "<g id=\"edge13\" class=\"edge\"><title>12&#45;&gt;13</title>\r\n",
       "<path fill=\"none\" stroke=\"black\" d=\"M828.5,-103.726C828.5,-95.5175 828.5,-86.8595 828.5,-78.56\"/>\r\n",
       "<polygon fill=\"black\" stroke=\"black\" points=\"832,-78.2996 828.5,-68.2996 825,-78.2996 832,-78.2996\"/>\r\n",
       "</g>\r\n",
       "<!-- 14 -->\r\n",
       "<g id=\"node15\" class=\"node\"><title>14</title>\r\n",
       "<polygon fill=\"#8139e5\" stroke=\"black\" points=\"1013,-68 906,-68 906,-0 1013,-0 1013,-68\"/>\r\n",
       "<text text-anchor=\"middle\" x=\"959.5\" y=\"-52.8\" font-family=\"Times New Roman,serif\" font-size=\"14.00\">gini = 0.0</text>\r\n",
       "<text text-anchor=\"middle\" x=\"959.5\" y=\"-37.8\" font-family=\"Times New Roman,serif\" font-size=\"14.00\">samples = 7</text>\r\n",
       "<text text-anchor=\"middle\" x=\"959.5\" y=\"-22.8\" font-family=\"Times New Roman,serif\" font-size=\"14.00\">value = [0, 0, 7]</text>\r\n",
       "<text text-anchor=\"middle\" x=\"959.5\" y=\"-7.8\" font-family=\"Times New Roman,serif\" font-size=\"14.00\">class = virginica</text>\r\n",
       "</g>\r\n",
       "<!-- 12&#45;&gt;14 -->\r\n",
       "<g id=\"edge14\" class=\"edge\"><title>12&#45;&gt;14</title>\r\n",
       "<path fill=\"none\" stroke=\"black\" d=\"M877.28,-103.726C888.628,-94.2406 900.693,-84.1551 911.986,-74.7159\"/>\r\n",
       "<polygon fill=\"black\" stroke=\"black\" points=\"914.234,-77.3984 919.662,-68.2996 909.745,-72.0276 914.234,-77.3984\"/>\r\n",
       "</g>\r\n",
       "</g>\r\n",
       "</svg>\r\n"
      ],
      "text/plain": [
       "<graphviz.files.Source at 0x1b3e18f5dc8>"
      ]
     },
     "execution_count": 64,
     "metadata": {},
     "output_type": "execute_result"
    }
   ],
   "source": [
    "from sklearn.tree import export_graphviz\n",
    "import graphviz\n",
    "export_graphviz(\n",
    "    clf,\n",
    "    out_file = \"./iris.dot\",\n",
    "    feature_names = iris.feature_names[:2],\n",
    "    class_names = iris.target_names,\n",
    "    filled = True\n",
    "    )\n",
    "\n",
    "with open(\"./iris.dot\") as f:\n",
    "    dot_graph = str(open(\"./iris.dot\", \"rb\").read(), \"utf8\")\n",
    "graphviz.Source(dot_graph)"
   ]
  },
  {
   "cell_type": "markdown",
   "metadata": {},
   "source": [
    "- let's see decision boundary"
   ]
  },
  {
   "cell_type": "code",
   "execution_count": 65,
   "metadata": {
    "scrolled": true
   },
   "outputs": [
    {
     "data": {
      "text/plain": [
       "[<matplotlib.lines.Line2D at 0x1b3e1ddd148>]"
      ]
     },
     "execution_count": 65,
     "metadata": {},
     "output_type": "execute_result"
    },
    {
     "data": {
      "image/png": "[encoded data removed]",
      "text/plain": [
       "<Figure size 432x288 with 1 Axes>"
      ]
     },
     "metadata": {
      "needs_background": "light"
     },
     "output_type": "display_data"
    }
   ],
   "source": [
    "plt.xlim(4, 8.5)\n",
    "plt.ylim(1.5, 4.5)\n",
    "\n",
    "markers = ['o', '+', '^']\n",
    "for i in range(3):\n",
    "    xs = X[:, 0][y == i]\n",
    "    ys = X[:, 1][y == i]\n",
    "    plt.scatter(xs, ys, marker=markers[i])\n",
    "\n",
    "plt.legend(iris.target_names)\n",
    "plt.xlabel(\"Sepal length\")\n",
    "plt.ylabel(\"Sepal width\")\n",
    "\n",
    "\n",
    "# 결정 트리 경계선: 실선은 루트 노드 점선은 자식 노드\n",
    "xx = np.linspace(5.45, 5.45, 3)\n",
    "yy = np.linspace(1.5, 4.5, 3)\n",
    "plt.plot(xx, yy, '-k') # 검정색 실선\n",
    "\n",
    "xx = np.linspace(4, 5.45, 3)\n",
    "yy = np.linspace(2.8, 2.8, 3)\n",
    "plt.plot(xx, yy, '--b') # 파란색 점선\n",
    "\n",
    "xx = np.linspace(6.15, 6.15, 3)\n",
    "yy = np.linspace(1.5, 4.5, 3)\n",
    "plt.plot(xx, yy, '--r') # 붉은색 점선"
   ]
  },
  {
   "cell_type": "code",
   "execution_count": 66,
   "metadata": {},
   "outputs": [
    {
     "name": "stdout",
     "output_type": "stream",
     "text": [
      "0.7333333333333333\n"
     ]
    }
   ],
   "source": [
    "print(clf.score(X_test, y_test))"
   ]
  },
  {
   "cell_type": "markdown",
   "metadata": {},
   "source": [
    "- use all features"
   ]
  },
  {
   "cell_type": "code",
   "execution_count": 67,
   "metadata": {},
   "outputs": [
    {
     "data": {
      "text/plain": [
       "0.9555555555555556"
      ]
     },
     "execution_count": 67,
     "metadata": {},
     "output_type": "execute_result"
    }
   ],
   "source": [
    "iris = load_iris()\n",
    "X, y = iris.data, iris.target\n",
    "X_train, X_test, y_train, y_test = train_test_split(X, y, test_size=0.3)\n",
    "clf = DecisionTreeClassifier(max_depth = 4)\n",
    "clf.fit(X_train, y_train)\n",
    "clf.score(X_test, y_test)"
   ]
  },
  {
   "cell_type": "code",
   "execution_count": 68,
   "metadata": {},
   "outputs": [
    {
     "data": {
      "text/plain": [
       "[('sepal length (cm)', 0.015),\n",
       " ('sepal width (cm)', 0.0),\n",
       " ('petal length (cm)', 0.5474),\n",
       " ('petal width (cm)', 0.4376)]"
      ]
     },
     "execution_count": 68,
     "metadata": {},
     "output_type": "execute_result"
    }
   ],
   "source": [
    "# 결정트리를 만드는데 기여한 정도: feature_importances_\n",
    "list(zip(iris.feature_names, clf.feature_importances_.round(4)))"
   ]
  },
  {
   "cell_type": "code",
   "execution_count": 69,
   "metadata": {},
   "outputs": [
    {
     "data": {
      "text/html": [
       "<div>\n",
       "<style scoped>\n",
       "    .dataframe tbody tr th:only-of-type {\n",
       "        vertical-align: middle;\n",
       "    }\n",
       "\n",
       "    .dataframe tbody tr th {\n",
       "        vertical-align: top;\n",
       "    }\n",
       "\n",
       "    .dataframe thead th {\n",
       "        text-align: right;\n",
       "    }\n",
       "</style>\n",
       "<table border=\"1\" class=\"dataframe\">\n",
       "  <thead>\n",
       "    <tr style=\"text-align: right;\">\n",
       "      <th></th>\n",
       "      <th>feature</th>\n",
       "      <th>importance</th>\n",
       "    </tr>\n",
       "  </thead>\n",
       "  <tbody>\n",
       "    <tr>\n",
       "      <th>0</th>\n",
       "      <td>sepal length (cm)</td>\n",
       "      <td>0.014994</td>\n",
       "    </tr>\n",
       "    <tr>\n",
       "      <th>1</th>\n",
       "      <td>sepal width (cm)</td>\n",
       "      <td>0.000000</td>\n",
       "    </tr>\n",
       "    <tr>\n",
       "      <th>2</th>\n",
       "      <td>petal length (cm)</td>\n",
       "      <td>0.547449</td>\n",
       "    </tr>\n",
       "    <tr>\n",
       "      <th>3</th>\n",
       "      <td>petal width (cm)</td>\n",
       "      <td>0.437556</td>\n",
       "    </tr>\n",
       "  </tbody>\n",
       "</table>\n",
       "</div>"
      ],
      "text/plain": [
       "             feature  importance\n",
       "0  sepal length (cm)    0.014994\n",
       "1   sepal width (cm)    0.000000\n",
       "2  petal length (cm)    0.547449\n",
       "3   petal width (cm)    0.437556"
      ]
     },
     "execution_count": 69,
     "metadata": {},
     "output_type": "execute_result"
    }
   ],
   "source": [
    "pd.DataFrame({'feature':iris.feature_names,'importance':clf.feature_importances_ })"
   ]
  },
  {
   "cell_type": "markdown",
   "metadata": {},
   "source": [
    "## RandomForest model (ensemble model)"
   ]
  },
  {
   "cell_type": "code",
   "execution_count": 70,
   "metadata": {},
   "outputs": [],
   "source": [
    "from sklearn.datasets import load_breast_cancer\n",
    "from sklearn.ensemble import RandomForestClassifier"
   ]
  },
  {
   "cell_type": "code",
   "execution_count": 71,
   "metadata": {},
   "outputs": [
    {
     "data": {
      "text/plain": [
       "DecisionTreeClassifier(ccp_alpha=0.0, class_weight=None, criterion='gini',\n",
       "                       max_depth=None, max_features=None, max_leaf_nodes=None,\n",
       "                       min_impurity_decrease=0.0, min_impurity_split=None,\n",
       "                       min_samples_leaf=1, min_samples_split=2,\n",
       "                       min_weight_fraction_leaf=0.0, presort='deprecated',\n",
       "                       random_state=None, splitter='best')"
      ]
     },
     "execution_count": 71,
     "metadata": {},
     "output_type": "execute_result"
    }
   ],
   "source": [
    "cancer = load_breast_cancer()\n",
    "np.random.seed(9)\n",
    "X_train, X_test, y_train, y_test = train_test_split(\n",
    "    cancer.data, cancer.target, stratify=cancer.target)\n",
    "clf = DecisionTreeClassifier()\n",
    "clf.fit(X_train, y_train)"
   ]
  },
  {
   "cell_type": "code",
   "execution_count": 72,
   "metadata": {},
   "outputs": [
    {
     "name": "stdout",
     "output_type": "stream",
     "text": [
      "0.916083916083916\n"
     ]
    }
   ],
   "source": [
    "print(clf.score(X_test, y_test))"
   ]
  },
  {
   "cell_type": "code",
   "execution_count": 74,
   "metadata": {},
   "outputs": [
    {
     "data": {
      "text/plain": [
       "array(['mean radius', 'mean texture', 'mean perimeter', 'mean area',\n",
       "       'mean smoothness', 'mean compactness', 'mean concavity',\n",
       "       'mean concave points', 'mean symmetry', 'mean fractal dimension',\n",
       "       'radius error', 'texture error', 'perimeter error', 'area error',\n",
       "       'smoothness error', 'compactness error', 'concavity error',\n",
       "       'concave points error', 'symmetry error',\n",
       "       'fractal dimension error', 'worst radius', 'worst texture',\n",
       "       'worst perimeter', 'worst area', 'worst smoothness',\n",
       "       'worst compactness', 'worst concavity', 'worst concave points',\n",
       "       'worst symmetry', 'worst fractal dimension'], dtype='<U23')"
      ]
     },
     "execution_count": 74,
     "metadata": {},
     "output_type": "execute_result"
    }
   ],
   "source": [
    "cancer.feature_names"
   ]
  },
  {
   "cell_type": "code",
   "execution_count": 75,
   "metadata": {},
   "outputs": [
    {
     "name": "stdout",
     "output_type": "stream",
     "text": [
      "                 feature  importance\n",
      "22       worst perimeter    0.694689\n",
      "27  worst concave points    0.121068\n",
      "7    mean concave points    0.042647\n",
      "1           mean texture    0.041720\n",
      "21         worst texture    0.039639\n",
      "13            area error    0.017216\n",
      "20          worst radius    0.017188\n",
      "15     compactness error    0.012042\n",
      "8          mean symmetry    0.011405\n",
      "14      smoothness error    0.002385\n"
     ]
    }
   ],
   "source": [
    "df = pd.DataFrame({'feature':cancer.feature_names,'importance':clf.feature_importances_ })\n",
    "df=df.sort_values('importance', ascending=False)\n",
    "print(df.head(10))"
   ]
  },
  {
   "cell_type": "code",
   "execution_count": 77,
   "metadata": {},
   "outputs": [
    {
     "data": {
      "image/png": "[encoded data removed]",
      "text/plain": [
       "<Figure size 720x504 with 1 Axes>"
      ]
     },
     "metadata": {
      "needs_background": "light"
     },
     "output_type": "display_data"
    }
   ],
   "source": [
    "x = df.feature\n",
    "y = df.importance\n",
    "ypos = np.arange(len(x))\n",
    "\n",
    "plt.figure(figsize=(10,7))\n",
    "plt.barh(x, y)\n",
    "plt.yticks(ypos, x)\n",
    "plt.xlabel('Importance')\n",
    "plt.ylabel('Variable')\n",
    "plt.xlim(0, 1)\n",
    "plt.ylim(-1, len(x))\n",
    "plt.show()"
   ]
  },
  {
   "cell_type": "code",
   "execution_count": 78,
   "metadata": {},
   "outputs": [
    {
     "name": "stdout",
     "output_type": "stream",
     "text": [
      "0.951048951048951\n"
     ]
    },
    {
     "data": {
      "image/png": "[encoded data removed]",
      "text/plain": [
       "<Figure size 720x504 with 1 Axes>"
      ]
     },
     "metadata": {
      "needs_background": "light"
     },
     "output_type": "display_data"
    }
   ],
   "source": [
    "# 랜덤 포레스트를 사용한 경우의 중요 특성\n",
    "\n",
    "rfc = RandomForestClassifier(n_estimators=500)\n",
    "rfc.fit(X_train, y_train)\n",
    "print(rfc.score(X_test, y_test))\n",
    "\n",
    "df = pd.DataFrame({'feature':cancer.feature_names,'importance':rfc.feature_importances_ })\n",
    "df=df.sort_values('importance', ascending=False)\n",
    "x = df.feature\n",
    "y = df.importance\n",
    "ypos = np.arange(len(x))\n",
    "\n",
    "plt.figure(figsize=(10,7))\n",
    "plt.barh(x, y)\n",
    "plt.yticks(ypos, x)\n",
    "plt.xlabel('Importance')\n",
    "plt.ylabel('Variable')\n",
    "plt.xlim(0, 1)\n",
    "plt.ylim(-1, len(x))\n",
    "plt.show()"
   ]
  },
  {
   "cell_type": "markdown",
   "metadata": {},
   "source": [
    "## Logistic Regression Classifier\n",
    "## SVM Classifier"
   ]
  },
  {
   "cell_type": "code",
   "execution_count": null,
   "metadata": {},
   "outputs": [],
   "source": []
  }
 ],
 "metadata": {
  "kernelspec": {
   "display_name": "Python 3",
   "language": "python",
   "name": "python3"
  },
  "language_info": {
   "codemirror_mode": {
    "name": "ipython",
    "version": 3
   },
   "file_extension": ".py",
   "mimetype": "text/x-python",
   "name": "python",
   "nbconvert_exporter": "python",
   "pygments_lexer": "ipython3",
   "version": "3.7.6"
  }
 },
 "nbformat": 4,
 "nbformat_minor": 2
}
